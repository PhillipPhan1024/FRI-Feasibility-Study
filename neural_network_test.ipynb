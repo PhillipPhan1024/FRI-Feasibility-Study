{
 "cells": [
  {
   "cell_type": "code",
   "execution_count": 9,
   "metadata": {},
   "outputs": [],
   "source": [
    "# created by zayaan. going to test using a basic neural network for the stuff\n",
    "from sklearn.model_selection import train_test_split\n",
    "import matplotlib.pyplot as plt\n",
    "import pandas as pd\n",
    "import numpy as np\n",
    "from sklearn.linear_model import LinearRegression\n",
    "from sklearn.metrics import r2_score, mean_squared_error\n",
    "#we want to create a neural network, so we need to import the keras library\n",
    "from keras.models import Sequential\n",
    "import tensorflow as tf"
   ]
  },
  {
   "cell_type": "code",
   "execution_count": 10,
   "metadata": {},
   "outputs": [],
   "source": [
    "csv_file = \"sample_data.csv\" \n",
    "df = pd.read_csv(csv_file, sep=\",\")\n",
    "# individual photometry filters\n",
    "u = df['u']\n",
    "g = df['g']\n",
    "r = df['r']\n",
    "i = df['i']\n",
    "z = df['z']\n",
    "\n",
    "# color indices\n",
    "u_g = u - g\n",
    "g_r = g - r\n",
    "r_i = r - i\n",
    "i_z = i - z\n",
    "\n",
    "# u_g = u_g[:-19500]\n",
    "# g_r = g_r[:-19500]\n",
    "# r_i = r_i[:-19500]\n",
    "# i_z = i_z[:-19500]\n",
    "\n",
    "u_g = u_g[:-19500]\n",
    "g_r = g_r[:-19500]\n",
    "r_i = r_i[:-19500]\n",
    "i_z = i_z[:-19500]\n",
    "\n",
    "# Effective temperature of star\n",
    "temperature = df['Teff']\n",
    "\n",
    "color_filters_df = pd.DataFrame()\n",
    "color_filters_df['u_g'] = u_g\n",
    "color_filters_df['g_r'] = g_r\n",
    "color_filters_df['r_i'] = r_i\n",
    "color_filters_df['i_z'] = i_z\n",
    "\n",
    "# Effective temperature of star\n",
    "color_filters_df['temperature'] = df['Teff']"
   ]
  },
  {
   "cell_type": "code",
   "execution_count": 22,
   "metadata": {},
   "outputs": [
    {
     "name": "stdout",
     "output_type": "stream",
     "text": [
      "0      1.18387\n",
      "1      0.87497\n",
      "2      0.32009\n",
      "3      0.41901\n",
      "4      2.15088\n",
      "        ...   \n",
      "492    1.13375\n",
      "493    1.16811\n",
      "494    1.20487\n",
      "495    1.10280\n",
      "496    1.87675\n",
      "Name: u_g, Length: 497, dtype: float64\n"
     ]
    }
   ],
   "source": [
    "#the input of the model is the color indices, and the output is the temperature.\n",
    "#lets perform this with a neural network\n",
    "#we need to split the data into training and testing data\n",
    "#we will use 80% of the data for training and 20% for testing\n",
    "#we will also shuffle the data to avoid any bias\n",
    "train, test = train_test_split(color_filters_df, test_size=0.2, shuffle=True)\n",
    "#we need to split the data into input and output\n",
    "#the input is the color indices\n",
    "print(color_filters_df['u_g'])\n"
   ]
  },
  {
   "cell_type": "code",
   "execution_count": null,
   "metadata": {},
   "outputs": [],
   "source": []
  }
 ],
 "metadata": {
  "kernelspec": {
   "display_name": "Python 3",
   "language": "python",
   "name": "python3"
  },
  "language_info": {
   "codemirror_mode": {
    "name": "ipython",
    "version": 3
   },
   "file_extension": ".py",
   "mimetype": "text/x-python",
   "name": "python",
   "nbconvert_exporter": "python",
   "pygments_lexer": "ipython3",
   "version": "3.10.11"
  },
  "orig_nbformat": 4
 },
 "nbformat": 4,
 "nbformat_minor": 2
}
