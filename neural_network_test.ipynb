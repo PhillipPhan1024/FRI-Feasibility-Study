{
 "cells": [
  {
   "cell_type": "code",
   "execution_count": 4,
   "metadata": {},
   "outputs": [],
   "source": [
    "# created by zayaan. going to test using a basic neural network for the stuff\n",
    "from sklearn.model_selection import train_test_split\n",
    "import matplotlib.pyplot as plt\n",
    "import pandas as pd\n",
    "import numpy as np\n",
    "from sklearn.linear_model import LinearRegression\n",
    "from sklearn.metrics import r2_score, mean_squared_error\n",
    "#we want to create a neural network, so we need to import the keras library\n",
    "from keras.models import Sequential\n",
    "import tensorflow as tf\n",
    "from sklearn.ensemble import IsolationForest"
   ]
  },
  {
   "cell_type": "code",
<<<<<<< HEAD
   "execution_count": 2,
=======
   "execution_count": 5,
>>>>>>> 618092b7e408e11d77bf04a7856371c50cd090bc
   "metadata": {},
   "outputs": [
    {
     "name": "stdout",
     "output_type": "stream",
     "text": [
      "(500000, 7)\n"
     ]
    }
   ],
   "source": [
    "csv_file = \"500k.csv\" \n",
    "df = pd.read_csv(csv_file, sep=\",\")\n",
    "# individual photometry filters\n",
    "u = df['u']\n",
    "g = df['g']\n",
    "r = df['r']\n",
    "i = df['i']\n",
    "z = df['z']\n",
    "\n",
    "# color indices\n",
    "u_g = u - g\n",
    "g_r = g - r\n",
    "r_i = r - i\n",
    "i_z = i - z\n",
    "\n",
    "# u_g = u_g[:-19500]\n",
    "# g_r = g_r[:-19500]\n",
    "# r_i = r_i[:-19500]\n",
    "# i_z = i_z[:-19500]\n",
    "\n",
    "# Effective temperature of star\n",
    "temperature = df['Teff']\n",
    "\n",
    "metallicity = df['FeH']\n",
    "\n",
    "color_filters_df = pd.DataFrame()\n",
    "color_filters_df['u_g'] = u_g\n",
    "color_filters_df['g_r'] = g_r\n",
    "color_filters_df['r_i'] = r_i\n",
    "color_filters_df['i_z'] = i_z\n",
    "\n",
    "# Effective temperature of star\n",
    "color_filters_df['temperature'] = df['Teff']\n",
    "color_filters_df['metallicity'] = df['FeH']\n",
    "print(df.shape)"
   ]
  },
  {
   "cell_type": "code",
<<<<<<< HEAD
   "execution_count": 3,
   "metadata": {},
   "outputs": [],
   "source": [
    "df = df[~(df == -9999).any(axis=1)]"
   ]
  },
  {
   "cell_type": "code",
   "execution_count": 4,
   "metadata": {},
   "outputs": [
    {
     "name": "stdout",
     "output_type": "stream",
     "text": [
      "(499984, 7)\n"
     ]
    }
   ],
   "source": [
    "print(df.shape)"
   ]
  },
  {
   "cell_type": "code",
   "execution_count": 5,
=======
   "execution_count": 28,
>>>>>>> 618092b7e408e11d77bf04a7856371c50cd090bc
   "metadata": {},
   "outputs": [],
   "source": [
    "#iterate thru temperature,\n",
    "#if its 4353, print out the corresponding color filters\n",
    "# for i in range(len(temperature)):\n",
    "#     if color_filters_df.iloc[i]['u_g'] > 10:\n",
    "#         #print temperature\n",
    "#         print(\"Temp: \", color_filters_df.iloc[i][''])\n",
    "#         print(\"u_g: \", color_filters_df.iloc[i]['u_g'])\n"
   ]
  },
  {
   "cell_type": "code",
<<<<<<< HEAD
   "execution_count": 6,
   "metadata": {},
   "outputs": [],
   "source": [
    "# # remove outliers by removing all data points that are outside 25th percentile - 75th percentile range\n",
    "# dropped_rows = set()\n",
    "\n",
    "# # TEMPERATURE OUTLIERS    \n",
    "# Q1_temp = color_filters_df['temperature'].quantile(0.25)\n",
    "# Q3_temp = color_filters_df['temperature'].quantile(0.75)\n",
    "# IQR = Q3_temp - Q1_temp\n",
    "# lower = Q1_temp - 1.5*IQR\n",
    "# upper = Q3_temp + 1.5*IQR\n",
    "\n",
    "# upper_array = np.where(color_filters_df['temperature']>=upper)[0]\n",
    "# lower_array = np.where(color_filters_df['temperature']<=lower)[0]\n",
    "\n",
    "# for element in upper_array:\n",
    "#     dropped_rows.add(element)\n",
    "# for element in lower_array:\n",
    "#     dropped_rows.add(element)\n",
    "\n",
    "# # U_G OUTLIERS\n",
    "# Q1_temp = color_filters_df['u_g'].quantile(0.25)\n",
    "# Q3_temp = color_filters_df['u_g'].quantile(0.75)\n",
    "# IQR = Q3_temp - Q1_temp\n",
    "# lower = Q1_temp - 1.5*IQR\n",
    "# upper = Q3_temp + 1.5*IQR\n",
    "\n",
    "# upper_array = np.where(color_filters_df['u_g']>=upper)[0]\n",
    "# lower_array = np.where(color_filters_df['u_g']<=lower)[0]\n",
    "\n",
    "# for element in upper_array:\n",
    "#     dropped_rows.add(element)\n",
    "# for element in lower_array:\n",
    "#     dropped_rows.add(element)\n",
    "    \n",
    "# # G_R OUTLIERS\n",
    "# Q1_temp = color_filters_df['g_r'].quantile(0.25)\n",
    "# Q3_temp = color_filters_df['g_r'].quantile(0.75)\n",
    "# IQR = Q3_temp - Q1_temp\n",
    "# lower = Q1_temp - 1.5*IQR\n",
    "# upper = Q3_temp + 1.5*IQR\n",
    "\n",
    "# upper_array = np.where(color_filters_df['g_r']>=upper)[0]\n",
    "# lower_array = np.where(color_filters_df['g_r']<=lower)[0]\n",
    "\n",
    "# for element in upper_array:\n",
    "#     dropped_rows.add(element)\n",
    "# for element in lower_array:\n",
    "#     dropped_rows.add(element)\n",
    "    \n",
    "# # R_I OUTLIERS\n",
    "# Q1_temp = color_filters_df['r_i'].quantile(0.25)\n",
    "# Q3_temp = color_filters_df['r_i'].quantile(0.75)\n",
    "# IQR = Q3_temp - Q1_temp\n",
    "# lower = Q1_temp - 1.5*IQR\n",
    "# upper = Q3_temp + 1.5*IQR\n",
    "\n",
    "# upper_array = np.where(color_filters_df['r_i']>=upper)[0]\n",
    "# lower_array = np.where(color_filters_df['r_i']<=lower)[0]\n",
    "\n",
    "# for element in upper_array:\n",
    "#     dropped_rows.add(element)\n",
    "# for element in lower_array:\n",
    "#     dropped_rows.add(element) \n",
    "\n",
    "# # I_Z OUTLIERS\n",
    "# Q1_temp = color_filters_df['i_z'].quantile(0.25)\n",
    "# Q3_temp = color_filters_df['i_z'].quantile(0.75)\n",
    "# IQR = Q3_temp - Q1_temp\n",
    "# lower = Q1_temp - 1.5*IQR\n",
    "# upper = Q3_temp + 1.5*IQR\n",
    "\n",
    "# upper_array = np.where(color_filters_df['i_z']>=upper)[0]\n",
    "# lower_array = np.where(color_filters_df['i_z']<=lower)[0]\n",
    "\n",
    "# for element in upper_array:\n",
    "#     dropped_rows.add(element)\n",
    "# for element in lower_array:\n",
    "#     dropped_rows.add(element) \n",
    "\n",
    "# color_filters_df.drop(dropped_rows, inplace=True)\n",
    "# print(color_filters_df.sort_values(by=['temperature'], ascending=False))"
   ]
  },
  {
   "cell_type": "code",
   "execution_count": 7,
=======
   "execution_count": null,
   "metadata": {},
   "outputs": [],
   "source": []
  },
  {
   "cell_type": "code",
   "execution_count": 6,
>>>>>>> 618092b7e408e11d77bf04a7856371c50cd090bc
   "metadata": {},
   "outputs": [
    {
     "data": {
      "text/html": [
       "<style>#sk-container-id-1 {color: black;}#sk-container-id-1 pre{padding: 0;}#sk-container-id-1 div.sk-toggleable {background-color: white;}#sk-container-id-1 label.sk-toggleable__label {cursor: pointer;display: block;width: 100%;margin-bottom: 0;padding: 0.3em;box-sizing: border-box;text-align: center;}#sk-container-id-1 label.sk-toggleable__label-arrow:before {content: \"▸\";float: left;margin-right: 0.25em;color: #696969;}#sk-container-id-1 label.sk-toggleable__label-arrow:hover:before {color: black;}#sk-container-id-1 div.sk-estimator:hover label.sk-toggleable__label-arrow:before {color: black;}#sk-container-id-1 div.sk-toggleable__content {max-height: 0;max-width: 0;overflow: hidden;text-align: left;background-color: #f0f8ff;}#sk-container-id-1 div.sk-toggleable__content pre {margin: 0.2em;color: black;border-radius: 0.25em;background-color: #f0f8ff;}#sk-container-id-1 input.sk-toggleable__control:checked~div.sk-toggleable__content {max-height: 200px;max-width: 100%;overflow: auto;}#sk-container-id-1 input.sk-toggleable__control:checked~label.sk-toggleable__label-arrow:before {content: \"▾\";}#sk-container-id-1 div.sk-estimator input.sk-toggleable__control:checked~label.sk-toggleable__label {background-color: #d4ebff;}#sk-container-id-1 div.sk-label input.sk-toggleable__control:checked~label.sk-toggleable__label {background-color: #d4ebff;}#sk-container-id-1 input.sk-hidden--visually {border: 0;clip: rect(1px 1px 1px 1px);clip: rect(1px, 1px, 1px, 1px);height: 1px;margin: -1px;overflow: hidden;padding: 0;position: absolute;width: 1px;}#sk-container-id-1 div.sk-estimator {font-family: monospace;background-color: #f0f8ff;border: 1px dotted black;border-radius: 0.25em;box-sizing: border-box;margin-bottom: 0.5em;}#sk-container-id-1 div.sk-estimator:hover {background-color: #d4ebff;}#sk-container-id-1 div.sk-parallel-item::after {content: \"\";width: 100%;border-bottom: 1px solid gray;flex-grow: 1;}#sk-container-id-1 div.sk-label:hover label.sk-toggleable__label {background-color: #d4ebff;}#sk-container-id-1 div.sk-serial::before {content: \"\";position: absolute;border-left: 1px solid gray;box-sizing: border-box;top: 0;bottom: 0;left: 50%;z-index: 0;}#sk-container-id-1 div.sk-serial {display: flex;flex-direction: column;align-items: center;background-color: white;padding-right: 0.2em;padding-left: 0.2em;position: relative;}#sk-container-id-1 div.sk-item {position: relative;z-index: 1;}#sk-container-id-1 div.sk-parallel {display: flex;align-items: stretch;justify-content: center;background-color: white;position: relative;}#sk-container-id-1 div.sk-item::before, #sk-container-id-1 div.sk-parallel-item::before {content: \"\";position: absolute;border-left: 1px solid gray;box-sizing: border-box;top: 0;bottom: 0;left: 50%;z-index: -1;}#sk-container-id-1 div.sk-parallel-item {display: flex;flex-direction: column;z-index: 1;position: relative;background-color: white;}#sk-container-id-1 div.sk-parallel-item:first-child::after {align-self: flex-end;width: 50%;}#sk-container-id-1 div.sk-parallel-item:last-child::after {align-self: flex-start;width: 50%;}#sk-container-id-1 div.sk-parallel-item:only-child::after {width: 0;}#sk-container-id-1 div.sk-dashed-wrapped {border: 1px dashed gray;margin: 0 0.4em 0.5em 0.4em;box-sizing: border-box;padding-bottom: 0.4em;background-color: white;}#sk-container-id-1 div.sk-label label {font-family: monospace;font-weight: bold;display: inline-block;line-height: 1.2em;}#sk-container-id-1 div.sk-label-container {text-align: center;}#sk-container-id-1 div.sk-container {/* jupyter's `normalize.less` sets `[hidden] { display: none; }` but bootstrap.min.css set `[hidden] { display: none !important; }` so we also need the `!important` here to be able to override the default hidden behavior on the sphinx rendered scikit-learn.org. See: https://github.com/scikit-learn/scikit-learn/issues/21755 */display: inline-block !important;position: relative;}#sk-container-id-1 div.sk-text-repr-fallback {display: none;}</style><div id=\"sk-container-id-1\" class=\"sk-top-container\"><div class=\"sk-text-repr-fallback\"><pre>IsolationForest(contamination=0.1, n_estimators=150)</pre><b>In a Jupyter environment, please rerun this cell to show the HTML representation or trust the notebook. <br />On GitHub, the HTML representation is unable to render, please try loading this page with nbviewer.org.</b></div><div class=\"sk-container\" hidden><div class=\"sk-item\"><div class=\"sk-estimator sk-toggleable\"><input class=\"sk-toggleable__control sk-hidden--visually\" id=\"sk-estimator-id-1\" type=\"checkbox\" checked><label for=\"sk-estimator-id-1\" class=\"sk-toggleable__label sk-toggleable__label-arrow\">IsolationForest</label><div class=\"sk-toggleable__content\"><pre>IsolationForest(contamination=0.1, n_estimators=150)</pre></div></div></div></div></div>"
      ],
      "text/plain": [
       "IsolationForest(contamination=0.1, n_estimators=150)"
      ]
     },
<<<<<<< HEAD
     "execution_count": 7,
=======
     "execution_count": 6,
>>>>>>> 618092b7e408e11d77bf04a7856371c50cd090bc
     "metadata": {},
     "output_type": "execute_result"
    }
   ],
   "source": [
    "# Model Training for Isolation Trees \n",
    "isoforest = IsolationForest(n_estimators=150,max_samples=\"auto\", contamination=float(0.1), max_features=1.0)\n",
    "isoforest.fit(color_filters_df[[\"temperature\"]])"
   ]
  },
  {
   "cell_type": "code",
<<<<<<< HEAD
   "execution_count": 8,
=======
   "execution_count": 7,
>>>>>>> 618092b7e408e11d77bf04a7856371c50cd090bc
   "metadata": {},
   "outputs": [],
   "source": [
    "# Prediction\n",
    "color_filters_df['anomalies_scores'] = isoforest.decision_function(color_filters_df[[\"temperature\"]])\n",
    "color_filters_df['anomaly'] = isoforest.predict(color_filters_df[[\"temperature\"]])\n",
    "color_filters_df = color_filters_df[color_filters_df['anomaly'] == 1]\n",
    "\n",
    "#now do it u_g, g_r, r_i, i_z, metallicity\n",
<<<<<<< HEAD
    "#isoforest = IsolationForest(n_estimators=150, max_samples='auto',contamination=float(0.1), max_features=1.0)\n",
    "isoforest.fit(color_filters_df[[\"metallicity\"]])\n",
=======
    "isoforest = IsolationForest(n_estimators=150, max_samples='auto',contamination=float(0.1), max_features=1.0)\n",
    "isoforest.fit(color_filters_df[[\"u_g\"]])\n",
>>>>>>> 618092b7e408e11d77bf04a7856371c50cd090bc
    "# Prediction\n",
    "color_filters_df['anomalies_scores'] = isoforest.decision_function(color_filters_df[[\"metallicity\"]])\n",
    "color_filters_df['anomaly'] = isoforest.predict(color_filters_df[[\"metallicity\"]])\n",
    "color_filters_df = color_filters_df[color_filters_df['anomaly'] == 1]\n",
    "\n",
<<<<<<< HEAD
    "# #now do for rest of inputs\n",
    "# # isoforest = IsolationForest(n_estimators=150, max_samples='auto',contamination=float(0.1), max_features=1.0)\n",
=======
    "\n",
    "# isoforest = IsolationForest(n_estimators=150, max_samples='auto',contamination=float(0.1), max_features=1.0)\n",
>>>>>>> 618092b7e408e11d77bf04a7856371c50cd090bc
    "# isoforest.fit(color_filters_df[[\"g_r\"]])\n",
    "# # Prediction\n",
    "# color_filters_df['anomalies_scores'] = isoforest.decision_function(color_filters_df[[\"g_r\"]])\n",
    "# color_filters_df['anomaly'] = isoforest.predict(color_filters_df[[\"g_r\"]])\n",
    "# color_filters_df = color_filters_df[color_filters_df['anomaly'] == 1]\n",
    "\n",
    "\n",
    "# # #now do for rest of inputs\n",
    "# isoforest = IsolationForest(n_estimators=150, max_samples='auto',contamination=float(0.1), max_features=1.0)\n",
    "# isoforest.fit(color_filters_df[[\"r_i\"]])\n",
    "# # Prediction\n",
    "# color_filters_df['anomalies_scores'] = isoforest.decision_function(color_filters_df[[\"r_i\"]])\n",
    "# color_filters_df['anomaly'] = isoforest.predict(color_filters_df[[\"r_i\"]])\n",
    "# color_filters_df = color_filters_df[color_filters_df['anomaly'] == 1]\n",
    "# # #now do for rest of inputs\n",
    "# # isoforest = IsolationForest(n_estimators=150, max_samples='auto',contamination=float(0.1), max_features=1.0)\n",
    "# isoforest.fit(color_filters_df[[\"i_z\"]])\n",
    "# # Prediction\n",
    "# color_filters_df['anomalies_scores'] = isoforest.decision_function(color_filters_df[[\"i_z\"]])\n",
    "# color_filters_df['anomaly'] = isoforest.predict(color_filters_df[[\"i_z\"]])\n",
    "# color_filters_df = color_filters_df[color_filters_df['anomaly'] == 1]\n",
    "# #now do for rest of inputs\n",
    "# # isoforest = IsolationForest(n_estimators=150, max_samples='auto',contamination=float(0.1), max_features=1.0)\n",
    "# isoforest.fit(color_filters_df[[\"metallicity\"]])\n",
    "# # Prediction\n",
    "# color_filters_df['anomalies_scores'] = isoforest.decision_function(color_filters_df[[\"metallicity\"]])\n",
    "# color_filters_df['anomaly'] = isoforest.predict(color_filters_df[[\"metallicity\"]])\n",
    "# color_filters_df = color_filters_df[color_filters_df['anomaly'] == 1]\n",
    "\n",
    "\n",
    "\n",
    "#now do it \n",
    "\n",
    "# color_filters_df.head(100)\n",
    "# list(color_filters_df['anomaly']).count(-1)\n",
    "# print(color_filters_df.shape)\n",
    "# color_filters_df = color_filters_df[color_filters_df['anomaly'] == 1]\n",
    "# print(color_filters_df.shape)"
   ]
  },
  {
   "cell_type": "code",
<<<<<<< HEAD
   "execution_count": 9,
=======
   "execution_count": 8,
>>>>>>> 618092b7e408e11d77bf04a7856371c50cd090bc
   "metadata": {},
   "outputs": [
    {
     "name": "stdout",
     "output_type": "stream",
     "text": [
<<<<<<< HEAD
      "(408884, 8)\n"
=======
      "(405063, 8)\n"
>>>>>>> 618092b7e408e11d77bf04a7856371c50cd090bc
     ]
    }
   ],
   "source": [
    "print(color_filters_df.shape)"
   ]
  },
  {
   "cell_type": "code",
<<<<<<< HEAD
   "execution_count": 10,
=======
   "execution_count": 9,
>>>>>>> 618092b7e408e11d77bf04a7856371c50cd090bc
   "metadata": {},
   "outputs": [],
   "source": [
    "#the input of the model is the color indices, and the output is the temperature.\n",
    "#lets perform this with a neural network\n",
    "#we need to split the data into training and testing data\n",
    "#we will use 80% of the data for training and 20% for testing\n",
    "#we will also shuffle the data to avoid any bias\n",
    "\n",
    "X = color_filters_df[['u_g', 'g_r', 'r_i', 'i_z','metallicity']].values\n",
    "# X = color_filters_df[['g_r', 'r_i']].values\n",
    "y = color_filters_df['temperature'].values\n",
    "\n",
    "\n",
    "X_train, X_test, y_train, y_test = train_test_split(X, y, test_size=0.2, random_state=42, shuffle=True)\n"
   ]
  },
  {
   "cell_type": "code",
<<<<<<< HEAD
   "execution_count": 11,
=======
   "execution_count": 42,
>>>>>>> 618092b7e408e11d77bf04a7856371c50cd090bc
   "metadata": {},
   "outputs": [
    {
     "name": "stdout",
     "output_type": "stream",
     "text": [
<<<<<<< HEAD
      "(408884,)\n"
=======
      "Requirement already satisfied: pycaret in c:\\users\\zayaa\\appdata\\local\\packages\\pythonsoftwarefoundation.python.3.10_qbz5n2kfra8p0\\localcache\\local-packages\\python310\\site-packages (3.0.0)\n",
      "Requirement already satisfied: pandas in c:\\users\\zayaa\\appdata\\local\\packages\\pythonsoftwarefoundation.python.3.10_qbz5n2kfra8p0\\localcache\\local-packages\\python310\\site-packages (1.5.3)\n",
      "Requirement already satisfied: shap in c:\\users\\zayaa\\appdata\\local\\packages\\pythonsoftwarefoundation.python.3.10_qbz5n2kfra8p0\\localcache\\local-packages\\python310\\site-packages (0.43.0)\n",
      "Requirement already satisfied: ipython>=5.5.0 in c:\\users\\zayaa\\appdata\\local\\packages\\pythonsoftwarefoundation.python.3.10_qbz5n2kfra8p0\\localcache\\local-packages\\python310\\site-packages (from pycaret) (8.9.0)\n",
      "Requirement already satisfied: ipywidgets>=7.6.5 in c:\\users\\zayaa\\appdata\\local\\packages\\pythonsoftwarefoundation.python.3.10_qbz5n2kfra8p0\\localcache\\local-packages\\python310\\site-packages (from pycaret) (8.0.4)\n",
      "Requirement already satisfied: tqdm>=4.62.0 in c:\\users\\zayaa\\appdata\\local\\packages\\pythonsoftwarefoundation.python.3.10_qbz5n2kfra8p0\\localcache\\local-packages\\python310\\site-packages (from pycaret) (4.64.1)\n",
      "Requirement already satisfied: numpy<1.25,>=1.21 in c:\\users\\zayaa\\appdata\\local\\packages\\pythonsoftwarefoundation.python.3.10_qbz5n2kfra8p0\\localcache\\local-packages\\python310\\site-packages (from pycaret) (1.23.5)\n",
      "Requirement already satisfied: jinja2>=1.2 in c:\\users\\zayaa\\appdata\\local\\packages\\pythonsoftwarefoundation.python.3.10_qbz5n2kfra8p0\\localcache\\local-packages\\python310\\site-packages (from pycaret) (3.1.2)\n",
      "Requirement already satisfied: scipy<2.0.0 in c:\\users\\zayaa\\appdata\\local\\packages\\pythonsoftwarefoundation.python.3.10_qbz5n2kfra8p0\\localcache\\local-packages\\python310\\site-packages (from pycaret) (1.10.1)\n",
      "Requirement already satisfied: joblib>=1.2.0 in c:\\users\\zayaa\\appdata\\local\\packages\\pythonsoftwarefoundation.python.3.10_qbz5n2kfra8p0\\localcache\\local-packages\\python310\\site-packages (from pycaret) (1.3.2)\n",
      "Requirement already satisfied: scikit-learn>=1.0 in c:\\users\\zayaa\\appdata\\local\\packages\\pythonsoftwarefoundation.python.3.10_qbz5n2kfra8p0\\localcache\\local-packages\\python310\\site-packages (from pycaret) (1.3.2)\n",
      "Requirement already satisfied: pyod>=1.0.8 in c:\\users\\zayaa\\appdata\\local\\packages\\pythonsoftwarefoundation.python.3.10_qbz5n2kfra8p0\\localcache\\local-packages\\python310\\site-packages (from pycaret) (1.1.1)\n",
      "Requirement already satisfied: imbalanced-learn>=0.8.1 in c:\\users\\zayaa\\appdata\\local\\packages\\pythonsoftwarefoundation.python.3.10_qbz5n2kfra8p0\\localcache\\local-packages\\python310\\site-packages (from pycaret) (0.11.0)\n",
      "Requirement already satisfied: category-encoders>=2.4.0 in c:\\users\\zayaa\\appdata\\local\\packages\\pythonsoftwarefoundation.python.3.10_qbz5n2kfra8p0\\localcache\\local-packages\\python310\\site-packages (from pycaret) (2.6.3)\n",
      "Requirement already satisfied: lightgbm>=3.0.0 in c:\\users\\zayaa\\appdata\\local\\packages\\pythonsoftwarefoundation.python.3.10_qbz5n2kfra8p0\\localcache\\local-packages\\python310\\site-packages (from pycaret) (4.1.0)\n",
      "Requirement already satisfied: numba>=0.55.0 in c:\\users\\zayaa\\appdata\\local\\packages\\pythonsoftwarefoundation.python.3.10_qbz5n2kfra8p0\\localcache\\local-packages\\python310\\site-packages (from pycaret) (0.58.1)\n",
      "Requirement already satisfied: requests>=2.27.1 in c:\\users\\zayaa\\appdata\\local\\packages\\pythonsoftwarefoundation.python.3.10_qbz5n2kfra8p0\\localcache\\local-packages\\python310\\site-packages (from pycaret) (2.28.2)\n",
      "Requirement already satisfied: psutil>=5.9.0 in c:\\users\\zayaa\\appdata\\local\\packages\\pythonsoftwarefoundation.python.3.10_qbz5n2kfra8p0\\localcache\\local-packages\\python310\\site-packages (from pycaret) (5.9.4)\n",
      "Requirement already satisfied: markupsafe>=2.0.1 in c:\\users\\zayaa\\appdata\\local\\packages\\pythonsoftwarefoundation.python.3.10_qbz5n2kfra8p0\\localcache\\local-packages\\python310\\site-packages (from pycaret) (2.1.2)\n",
      "Requirement already satisfied: importlib-metadata>=4.12.0 in c:\\users\\zayaa\\appdata\\local\\packages\\pythonsoftwarefoundation.python.3.10_qbz5n2kfra8p0\\localcache\\local-packages\\python310\\site-packages (from pycaret) (6.8.0)\n",
      "Requirement already satisfied: nbformat>=4.2.0 in c:\\users\\zayaa\\appdata\\local\\packages\\pythonsoftwarefoundation.python.3.10_qbz5n2kfra8p0\\localcache\\local-packages\\python310\\site-packages (from pycaret) (5.7.3)\n",
      "Requirement already satisfied: cloudpickle in c:\\users\\zayaa\\appdata\\local\\packages\\pythonsoftwarefoundation.python.3.10_qbz5n2kfra8p0\\localcache\\local-packages\\python310\\site-packages (from pycaret) (3.0.0)\n",
      "Requirement already satisfied: deprecation>=2.1.0 in c:\\users\\zayaa\\appdata\\local\\packages\\pythonsoftwarefoundation.python.3.10_qbz5n2kfra8p0\\localcache\\local-packages\\python310\\site-packages (from pycaret) (2.1.0)\n",
      "Requirement already satisfied: xxhash in c:\\users\\zayaa\\appdata\\local\\packages\\pythonsoftwarefoundation.python.3.10_qbz5n2kfra8p0\\localcache\\local-packages\\python310\\site-packages (from pycaret) (3.4.1)\n",
      "Requirement already satisfied: matplotlib>=3.3.0 in c:\\users\\zayaa\\appdata\\local\\packages\\pythonsoftwarefoundation.python.3.10_qbz5n2kfra8p0\\localcache\\local-packages\\python310\\site-packages (from pycaret) (3.7.1)\n",
      "Requirement already satisfied: scikit-plot>=0.3.7 in c:\\users\\zayaa\\appdata\\local\\packages\\pythonsoftwarefoundation.python.3.10_qbz5n2kfra8p0\\localcache\\local-packages\\python310\\site-packages (from pycaret) (0.3.7)\n",
      "Requirement already satisfied: yellowbrick>=1.4 in c:\\users\\zayaa\\appdata\\local\\packages\\pythonsoftwarefoundation.python.3.10_qbz5n2kfra8p0\\localcache\\local-packages\\python310\\site-packages (from pycaret) (1.5)\n",
      "Requirement already satisfied: plotly>=5.0.0 in c:\\users\\zayaa\\appdata\\local\\packages\\pythonsoftwarefoundation.python.3.10_qbz5n2kfra8p0\\localcache\\local-packages\\python310\\site-packages (from pycaret) (5.14.1)\n",
      "Requirement already satisfied: kaleido>=0.2.1 in c:\\users\\zayaa\\appdata\\local\\packages\\pythonsoftwarefoundation.python.3.10_qbz5n2kfra8p0\\localcache\\local-packages\\python310\\site-packages (from pycaret) (0.2.1)\n",
      "Requirement already satisfied: schemdraw>=0.14 in c:\\users\\zayaa\\appdata\\local\\packages\\pythonsoftwarefoundation.python.3.10_qbz5n2kfra8p0\\localcache\\local-packages\\python310\\site-packages (from pycaret) (0.15)\n",
      "Requirement already satisfied: plotly-resampler>=0.8.3.1 in c:\\users\\zayaa\\appdata\\local\\packages\\pythonsoftwarefoundation.python.3.10_qbz5n2kfra8p0\\localcache\\local-packages\\python310\\site-packages (from pycaret) (0.9.1)\n",
      "Requirement already satisfied: statsmodels>=0.12.1 in c:\\users\\zayaa\\appdata\\local\\packages\\pythonsoftwarefoundation.python.3.10_qbz5n2kfra8p0\\localcache\\local-packages\\python310\\site-packages (from pycaret) (0.14.0)\n",
      "Requirement already satisfied: sktime>=0.16.1 in c:\\users\\zayaa\\appdata\\local\\packages\\pythonsoftwarefoundation.python.3.10_qbz5n2kfra8p0\\localcache\\local-packages\\python310\\site-packages (from pycaret) (0.21.1)\n",
      "Requirement already satisfied: tbats>=1.1.0 in c:\\users\\zayaa\\appdata\\local\\packages\\pythonsoftwarefoundation.python.3.10_qbz5n2kfra8p0\\localcache\\local-packages\\python310\\site-packages (from pycaret) (1.1.3)\n",
      "Requirement already satisfied: pmdarima!=1.8.1,<3.0.0,>=1.8.0 in c:\\users\\zayaa\\appdata\\local\\packages\\pythonsoftwarefoundation.python.3.10_qbz5n2kfra8p0\\localcache\\local-packages\\python310\\site-packages (from pycaret) (2.0.4)\n",
      "Requirement already satisfied: python-dateutil>=2.8.1 in c:\\users\\zayaa\\appdata\\local\\packages\\pythonsoftwarefoundation.python.3.10_qbz5n2kfra8p0\\localcache\\local-packages\\python310\\site-packages (from pandas) (2.8.2)\n",
      "Requirement already satisfied: pytz>=2020.1 in c:\\users\\zayaa\\appdata\\local\\packages\\pythonsoftwarefoundation.python.3.10_qbz5n2kfra8p0\\localcache\\local-packages\\python310\\site-packages (from pandas) (2022.7.1)\n",
      "Requirement already satisfied: packaging>20.9 in c:\\users\\zayaa\\appdata\\local\\packages\\pythonsoftwarefoundation.python.3.10_qbz5n2kfra8p0\\localcache\\local-packages\\python310\\site-packages (from shap) (23.0)\n",
      "Requirement already satisfied: slicer==0.0.7 in c:\\users\\zayaa\\appdata\\local\\packages\\pythonsoftwarefoundation.python.3.10_qbz5n2kfra8p0\\localcache\\local-packages\\python310\\site-packages (from shap) (0.0.7)\n",
      "Requirement already satisfied: patsy>=0.5.1 in c:\\users\\zayaa\\appdata\\local\\packages\\pythonsoftwarefoundation.python.3.10_qbz5n2kfra8p0\\localcache\\local-packages\\python310\\site-packages (from category-encoders>=2.4.0->pycaret) (0.5.3)\n",
      "Requirement already satisfied: threadpoolctl>=2.0.0 in c:\\users\\zayaa\\appdata\\local\\packages\\pythonsoftwarefoundation.python.3.10_qbz5n2kfra8p0\\localcache\\local-packages\\python310\\site-packages (from imbalanced-learn>=0.8.1->pycaret) (3.2.0)\n",
      "Requirement already satisfied: zipp>=0.5 in c:\\users\\zayaa\\appdata\\local\\packages\\pythonsoftwarefoundation.python.3.10_qbz5n2kfra8p0\\localcache\\local-packages\\python310\\site-packages (from importlib-metadata>=4.12.0->pycaret) (3.17.0)\n",
      "Requirement already satisfied: backcall in c:\\users\\zayaa\\appdata\\local\\packages\\pythonsoftwarefoundation.python.3.10_qbz5n2kfra8p0\\localcache\\local-packages\\python310\\site-packages (from ipython>=5.5.0->pycaret) (0.2.0)\n",
      "Requirement already satisfied: decorator in c:\\users\\zayaa\\appdata\\local\\packages\\pythonsoftwarefoundation.python.3.10_qbz5n2kfra8p0\\localcache\\local-packages\\python310\\site-packages (from ipython>=5.5.0->pycaret) (5.1.1)\n",
      "Requirement already satisfied: jedi>=0.16 in c:\\users\\zayaa\\appdata\\local\\packages\\pythonsoftwarefoundation.python.3.10_qbz5n2kfra8p0\\localcache\\local-packages\\python310\\site-packages (from ipython>=5.5.0->pycaret) (0.18.2)\n",
      "Requirement already satisfied: matplotlib-inline in c:\\users\\zayaa\\appdata\\local\\packages\\pythonsoftwarefoundation.python.3.10_qbz5n2kfra8p0\\localcache\\local-packages\\python310\\site-packages (from ipython>=5.5.0->pycaret) (0.1.6)\n",
      "Requirement already satisfied: pickleshare in c:\\users\\zayaa\\appdata\\local\\packages\\pythonsoftwarefoundation.python.3.10_qbz5n2kfra8p0\\localcache\\local-packages\\python310\\site-packages (from ipython>=5.5.0->pycaret) (0.7.5)\n",
      "Requirement already satisfied: prompt-toolkit<3.1.0,>=3.0.30 in c:\\users\\zayaa\\appdata\\local\\packages\\pythonsoftwarefoundation.python.3.10_qbz5n2kfra8p0\\localcache\\local-packages\\python310\\site-packages (from ipython>=5.5.0->pycaret) (3.0.36)\n",
      "Requirement already satisfied: pygments>=2.4.0 in c:\\users\\zayaa\\appdata\\local\\packages\\pythonsoftwarefoundation.python.3.10_qbz5n2kfra8p0\\localcache\\local-packages\\python310\\site-packages (from ipython>=5.5.0->pycaret) (2.14.0)\n",
      "Requirement already satisfied: stack-data in c:\\users\\zayaa\\appdata\\local\\packages\\pythonsoftwarefoundation.python.3.10_qbz5n2kfra8p0\\localcache\\local-packages\\python310\\site-packages (from ipython>=5.5.0->pycaret) (0.6.2)\n",
      "Requirement already satisfied: traitlets>=5 in c:\\users\\zayaa\\appdata\\local\\packages\\pythonsoftwarefoundation.python.3.10_qbz5n2kfra8p0\\localcache\\local-packages\\python310\\site-packages (from ipython>=5.5.0->pycaret) (5.9.0)\n",
      "Requirement already satisfied: colorama in c:\\users\\zayaa\\appdata\\local\\packages\\pythonsoftwarefoundation.python.3.10_qbz5n2kfra8p0\\localcache\\local-packages\\python310\\site-packages (from ipython>=5.5.0->pycaret) (0.4.6)\n",
      "Requirement already satisfied: ipykernel>=4.5.1 in c:\\users\\zayaa\\appdata\\local\\packages\\pythonsoftwarefoundation.python.3.10_qbz5n2kfra8p0\\localcache\\local-packages\\python310\\site-packages (from ipywidgets>=7.6.5->pycaret) (6.21.1)\n",
      "Requirement already satisfied: widgetsnbextension~=4.0 in c:\\users\\zayaa\\appdata\\local\\packages\\pythonsoftwarefoundation.python.3.10_qbz5n2kfra8p0\\localcache\\local-packages\\python310\\site-packages (from ipywidgets>=7.6.5->pycaret) (4.0.5)\n",
      "Requirement already satisfied: jupyterlab-widgets~=3.0 in c:\\users\\zayaa\\appdata\\local\\packages\\pythonsoftwarefoundation.python.3.10_qbz5n2kfra8p0\\localcache\\local-packages\\python310\\site-packages (from ipywidgets>=7.6.5->pycaret) (3.0.5)\n",
      "Requirement already satisfied: contourpy>=1.0.1 in c:\\users\\zayaa\\appdata\\local\\packages\\pythonsoftwarefoundation.python.3.10_qbz5n2kfra8p0\\localcache\\local-packages\\python310\\site-packages (from matplotlib>=3.3.0->pycaret) (1.0.7)\n",
      "Requirement already satisfied: cycler>=0.10 in c:\\users\\zayaa\\appdata\\local\\packages\\pythonsoftwarefoundation.python.3.10_qbz5n2kfra8p0\\localcache\\local-packages\\python310\\site-packages (from matplotlib>=3.3.0->pycaret) (0.11.0)\n",
      "Requirement already satisfied: fonttools>=4.22.0 in c:\\users\\zayaa\\appdata\\local\\packages\\pythonsoftwarefoundation.python.3.10_qbz5n2kfra8p0\\localcache\\local-packages\\python310\\site-packages (from matplotlib>=3.3.0->pycaret) (4.38.0)\n",
      "Requirement already satisfied: kiwisolver>=1.0.1 in c:\\users\\zayaa\\appdata\\local\\packages\\pythonsoftwarefoundation.python.3.10_qbz5n2kfra8p0\\localcache\\local-packages\\python310\\site-packages (from matplotlib>=3.3.0->pycaret) (1.4.4)\n",
      "Requirement already satisfied: pillow>=6.2.0 in c:\\users\\zayaa\\appdata\\local\\packages\\pythonsoftwarefoundation.python.3.10_qbz5n2kfra8p0\\localcache\\local-packages\\python310\\site-packages (from matplotlib>=3.3.0->pycaret) (9.4.0)\n",
      "Requirement already satisfied: pyparsing>=2.3.1 in c:\\users\\zayaa\\appdata\\local\\packages\\pythonsoftwarefoundation.python.3.10_qbz5n2kfra8p0\\localcache\\local-packages\\python310\\site-packages (from matplotlib>=3.3.0->pycaret) (3.0.9)\n",
      "Requirement already satisfied: fastjsonschema in c:\\users\\zayaa\\appdata\\local\\packages\\pythonsoftwarefoundation.python.3.10_qbz5n2kfra8p0\\localcache\\local-packages\\python310\\site-packages (from nbformat>=4.2.0->pycaret) (2.16.2)\n",
      "Requirement already satisfied: jsonschema>=2.6 in c:\\users\\zayaa\\appdata\\local\\packages\\pythonsoftwarefoundation.python.3.10_qbz5n2kfra8p0\\localcache\\local-packages\\python310\\site-packages (from nbformat>=4.2.0->pycaret) (4.17.3)\n",
      "Requirement already satisfied: jupyter-core in c:\\users\\zayaa\\appdata\\local\\packages\\pythonsoftwarefoundation.python.3.10_qbz5n2kfra8p0\\localcache\\local-packages\\python310\\site-packages (from nbformat>=4.2.0->pycaret) (5.2.0)\n",
      "Requirement already satisfied: llvmlite<0.42,>=0.41.0dev0 in c:\\users\\zayaa\\appdata\\local\\packages\\pythonsoftwarefoundation.python.3.10_qbz5n2kfra8p0\\localcache\\local-packages\\python310\\site-packages (from numba>=0.55.0->pycaret) (0.41.1)\n",
      "Requirement already satisfied: tenacity>=6.2.0 in c:\\users\\zayaa\\appdata\\local\\packages\\pythonsoftwarefoundation.python.3.10_qbz5n2kfra8p0\\localcache\\local-packages\\python310\\site-packages (from plotly>=5.0.0->pycaret) (8.2.2)\n",
      "Requirement already satisfied: dash<3.0.0,>=2.11.0 in c:\\users\\zayaa\\appdata\\local\\packages\\pythonsoftwarefoundation.python.3.10_qbz5n2kfra8p0\\localcache\\local-packages\\python310\\site-packages (from plotly-resampler>=0.8.3.1->pycaret) (2.14.1)\n",
      "Requirement already satisfied: orjson<4.0.0,>=3.8.0 in c:\\users\\zayaa\\appdata\\local\\packages\\pythonsoftwarefoundation.python.3.10_qbz5n2kfra8p0\\localcache\\local-packages\\python310\\site-packages (from plotly-resampler>=0.8.3.1->pycaret) (3.9.10)\n",
      "Requirement already satisfied: trace-updater>=0.0.8 in c:\\users\\zayaa\\appdata\\local\\packages\\pythonsoftwarefoundation.python.3.10_qbz5n2kfra8p0\\localcache\\local-packages\\python310\\site-packages (from plotly-resampler>=0.8.3.1->pycaret) (0.0.9.1)\n",
      "Requirement already satisfied: tsdownsample==0.1.2 in c:\\users\\zayaa\\appdata\\local\\packages\\pythonsoftwarefoundation.python.3.10_qbz5n2kfra8p0\\localcache\\local-packages\\python310\\site-packages (from plotly-resampler>=0.8.3.1->pycaret) (0.1.2)\n",
      "Requirement already satisfied: Cython!=0.29.18,!=0.29.31,>=0.29 in c:\\users\\zayaa\\appdata\\local\\packages\\pythonsoftwarefoundation.python.3.10_qbz5n2kfra8p0\\localcache\\local-packages\\python310\\site-packages (from pmdarima!=1.8.1,<3.0.0,>=1.8.0->pycaret) (3.0.5)\n",
      "Requirement already satisfied: urllib3 in c:\\users\\zayaa\\appdata\\local\\packages\\pythonsoftwarefoundation.python.3.10_qbz5n2kfra8p0\\localcache\\local-packages\\python310\\site-packages (from pmdarima!=1.8.1,<3.0.0,>=1.8.0->pycaret) (1.26.14)\n",
      "Requirement already satisfied: setuptools!=50.0.0,>=38.6.0 in c:\\program files\\windowsapps\\pythonsoftwarefoundation.python.3.10_3.10.3056.0_x64__qbz5n2kfra8p0\\lib\\site-packages (from pmdarima!=1.8.1,<3.0.0,>=1.8.0->pycaret) (65.5.0)\n",
      "Requirement already satisfied: six in c:\\users\\zayaa\\appdata\\local\\packages\\pythonsoftwarefoundation.python.3.10_qbz5n2kfra8p0\\localcache\\local-packages\\python310\\site-packages (from pyod>=1.0.8->pycaret) (1.16.0)\n",
      "Requirement already satisfied: charset-normalizer<4,>=2 in c:\\users\\zayaa\\appdata\\local\\packages\\pythonsoftwarefoundation.python.3.10_qbz5n2kfra8p0\\localcache\\local-packages\\python310\\site-packages (from requests>=2.27.1->pycaret) (3.0.1)\n",
      "Requirement already satisfied: idna<4,>=2.5 in c:\\users\\zayaa\\appdata\\local\\packages\\pythonsoftwarefoundation.python.3.10_qbz5n2kfra8p0\\localcache\\local-packages\\python310\\site-packages (from requests>=2.27.1->pycaret) (3.4)\n",
      "Requirement already satisfied: certifi>=2017.4.17 in c:\\users\\zayaa\\appdata\\local\\packages\\pythonsoftwarefoundation.python.3.10_qbz5n2kfra8p0\\localcache\\local-packages\\python310\\site-packages (from requests>=2.27.1->pycaret) (2022.12.7)\n",
      "Requirement already satisfied: deprecated>=1.2.13 in c:\\users\\zayaa\\appdata\\local\\packages\\pythonsoftwarefoundation.python.3.10_qbz5n2kfra8p0\\localcache\\local-packages\\python310\\site-packages (from sktime>=0.16.1->pycaret) (1.2.14)\n",
      "Requirement already satisfied: scikit-base<0.6.0 in c:\\users\\zayaa\\appdata\\local\\packages\\pythonsoftwarefoundation.python.3.10_qbz5n2kfra8p0\\localcache\\local-packages\\python310\\site-packages (from sktime>=0.16.1->pycaret) (0.5.2)\n",
      "Requirement already satisfied: Flask<3.1,>=1.0.4 in c:\\users\\zayaa\\appdata\\local\\packages\\pythonsoftwarefoundation.python.3.10_qbz5n2kfra8p0\\localcache\\local-packages\\python310\\site-packages (from dash<3.0.0,>=2.11.0->plotly-resampler>=0.8.3.1->pycaret) (2.2.3)\n",
      "Requirement already satisfied: Werkzeug<3.1 in c:\\users\\zayaa\\appdata\\local\\packages\\pythonsoftwarefoundation.python.3.10_qbz5n2kfra8p0\\localcache\\local-packages\\python310\\site-packages (from dash<3.0.0,>=2.11.0->plotly-resampler>=0.8.3.1->pycaret) (2.2.3)\n",
      "Requirement already satisfied: dash-html-components==2.0.0 in c:\\users\\zayaa\\appdata\\local\\packages\\pythonsoftwarefoundation.python.3.10_qbz5n2kfra8p0\\localcache\\local-packages\\python310\\site-packages (from dash<3.0.0,>=2.11.0->plotly-resampler>=0.8.3.1->pycaret) (2.0.0)\n",
      "Requirement already satisfied: dash-core-components==2.0.0 in c:\\users\\zayaa\\appdata\\local\\packages\\pythonsoftwarefoundation.python.3.10_qbz5n2kfra8p0\\localcache\\local-packages\\python310\\site-packages (from dash<3.0.0,>=2.11.0->plotly-resampler>=0.8.3.1->pycaret) (2.0.0)\n",
      "Requirement already satisfied: dash-table==5.0.0 in c:\\users\\zayaa\\appdata\\local\\packages\\pythonsoftwarefoundation.python.3.10_qbz5n2kfra8p0\\localcache\\local-packages\\python310\\site-packages (from dash<3.0.0,>=2.11.0->plotly-resampler>=0.8.3.1->pycaret) (5.0.0)\n",
      "Requirement already satisfied: typing-extensions>=4.1.1 in c:\\users\\zayaa\\appdata\\local\\packages\\pythonsoftwarefoundation.python.3.10_qbz5n2kfra8p0\\localcache\\local-packages\\python310\\site-packages (from dash<3.0.0,>=2.11.0->plotly-resampler>=0.8.3.1->pycaret) (4.5.0)\n",
      "Requirement already satisfied: retrying in c:\\users\\zayaa\\appdata\\local\\packages\\pythonsoftwarefoundation.python.3.10_qbz5n2kfra8p0\\localcache\\local-packages\\python310\\site-packages (from dash<3.0.0,>=2.11.0->plotly-resampler>=0.8.3.1->pycaret) (1.3.4)\n",
      "Requirement already satisfied: ansi2html in c:\\users\\zayaa\\appdata\\local\\packages\\pythonsoftwarefoundation.python.3.10_qbz5n2kfra8p0\\localcache\\local-packages\\python310\\site-packages (from dash<3.0.0,>=2.11.0->plotly-resampler>=0.8.3.1->pycaret) (1.8.0)\n",
      "Requirement already satisfied: nest-asyncio in c:\\users\\zayaa\\appdata\\local\\packages\\pythonsoftwarefoundation.python.3.10_qbz5n2kfra8p0\\localcache\\local-packages\\python310\\site-packages (from dash<3.0.0,>=2.11.0->plotly-resampler>=0.8.3.1->pycaret) (1.5.6)\n",
      "Requirement already satisfied: wrapt<2,>=1.10 in c:\\users\\zayaa\\appdata\\local\\packages\\pythonsoftwarefoundation.python.3.10_qbz5n2kfra8p0\\localcache\\local-packages\\python310\\site-packages (from deprecated>=1.2.13->sktime>=0.16.1->pycaret) (1.14.1)\n",
      "Requirement already satisfied: comm>=0.1.1 in c:\\users\\zayaa\\appdata\\local\\packages\\pythonsoftwarefoundation.python.3.10_qbz5n2kfra8p0\\localcache\\local-packages\\python310\\site-packages (from ipykernel>=4.5.1->ipywidgets>=7.6.5->pycaret) (0.1.2)\n",
      "Requirement already satisfied: debugpy>=1.6.5 in c:\\users\\zayaa\\appdata\\local\\packages\\pythonsoftwarefoundation.python.3.10_qbz5n2kfra8p0\\localcache\\local-packages\\python310\\site-packages (from ipykernel>=4.5.1->ipywidgets>=7.6.5->pycaret) (1.6.6)\n",
      "Requirement already satisfied: jupyter-client>=6.1.12 in c:\\users\\zayaa\\appdata\\local\\packages\\pythonsoftwarefoundation.python.3.10_qbz5n2kfra8p0\\localcache\\local-packages\\python310\\site-packages (from ipykernel>=4.5.1->ipywidgets>=7.6.5->pycaret) (8.0.2)\n",
      "Requirement already satisfied: pyzmq>=17 in c:\\users\\zayaa\\appdata\\local\\packages\\pythonsoftwarefoundation.python.3.10_qbz5n2kfra8p0\\localcache\\local-packages\\python310\\site-packages (from ipykernel>=4.5.1->ipywidgets>=7.6.5->pycaret) (25.0.0)\n",
      "Requirement already satisfied: tornado>=6.1 in c:\\users\\zayaa\\appdata\\local\\packages\\pythonsoftwarefoundation.python.3.10_qbz5n2kfra8p0\\localcache\\local-packages\\python310\\site-packages (from ipykernel>=4.5.1->ipywidgets>=7.6.5->pycaret) (6.2)\n",
      "Requirement already satisfied: parso<0.9.0,>=0.8.0 in c:\\users\\zayaa\\appdata\\local\\packages\\pythonsoftwarefoundation.python.3.10_qbz5n2kfra8p0\\localcache\\local-packages\\python310\\site-packages (from jedi>=0.16->ipython>=5.5.0->pycaret) (0.8.3)\n",
      "Requirement already satisfied: attrs>=17.4.0 in c:\\users\\zayaa\\appdata\\local\\packages\\pythonsoftwarefoundation.python.3.10_qbz5n2kfra8p0\\localcache\\local-packages\\python310\\site-packages (from jsonschema>=2.6->nbformat>=4.2.0->pycaret) (22.2.0)\n",
      "Requirement already satisfied: pyrsistent!=0.17.0,!=0.17.1,!=0.17.2,>=0.14.0 in c:\\users\\zayaa\\appdata\\local\\packages\\pythonsoftwarefoundation.python.3.10_qbz5n2kfra8p0\\localcache\\local-packages\\python310\\site-packages (from jsonschema>=2.6->nbformat>=4.2.0->pycaret) (0.19.3)\n",
      "Requirement already satisfied: platformdirs>=2.5 in c:\\users\\zayaa\\appdata\\local\\packages\\pythonsoftwarefoundation.python.3.10_qbz5n2kfra8p0\\localcache\\local-packages\\python310\\site-packages (from jupyter-core->nbformat>=4.2.0->pycaret) (3.0.0)\n",
      "Requirement already satisfied: pywin32>=1.0 in c:\\users\\zayaa\\appdata\\local\\packages\\pythonsoftwarefoundation.python.3.10_qbz5n2kfra8p0\\localcache\\local-packages\\python310\\site-packages (from jupyter-core->nbformat>=4.2.0->pycaret) (305)\n",
      "Requirement already satisfied: wcwidth in c:\\users\\zayaa\\appdata\\local\\packages\\pythonsoftwarefoundation.python.3.10_qbz5n2kfra8p0\\localcache\\local-packages\\python310\\site-packages (from prompt-toolkit<3.1.0,>=3.0.30->ipython>=5.5.0->pycaret) (0.2.6)\n",
      "Requirement already satisfied: executing>=1.2.0 in c:\\users\\zayaa\\appdata\\local\\packages\\pythonsoftwarefoundation.python.3.10_qbz5n2kfra8p0\\localcache\\local-packages\\python310\\site-packages (from stack-data->ipython>=5.5.0->pycaret) (1.2.0)\n",
      "Requirement already satisfied: asttokens>=2.1.0 in c:\\users\\zayaa\\appdata\\local\\packages\\pythonsoftwarefoundation.python.3.10_qbz5n2kfra8p0\\localcache\\local-packages\\python310\\site-packages (from stack-data->ipython>=5.5.0->pycaret) (2.2.1)\n",
      "Requirement already satisfied: pure-eval in c:\\users\\zayaa\\appdata\\local\\packages\\pythonsoftwarefoundation.python.3.10_qbz5n2kfra8p0\\localcache\\local-packages\\python310\\site-packages (from stack-data->ipython>=5.5.0->pycaret) (0.2.2)\n",
      "Requirement already satisfied: itsdangerous>=2.0 in c:\\users\\zayaa\\appdata\\local\\packages\\pythonsoftwarefoundation.python.3.10_qbz5n2kfra8p0\\localcache\\local-packages\\python310\\site-packages (from Flask<3.1,>=1.0.4->dash<3.0.0,>=2.11.0->plotly-resampler>=0.8.3.1->pycaret) (2.1.2)\n",
      "Requirement already satisfied: click>=8.0 in c:\\users\\zayaa\\appdata\\local\\packages\\pythonsoftwarefoundation.python.3.10_qbz5n2kfra8p0\\localcache\\local-packages\\python310\\site-packages (from Flask<3.1,>=1.0.4->dash<3.0.0,>=2.11.0->plotly-resampler>=0.8.3.1->pycaret) (8.1.3)\n"
     ]
    },
    {
     "name": "stderr",
     "output_type": "stream",
     "text": [
      "WARNING: Ignoring invalid distribution -ip (c:\\users\\zayaa\\appdata\\local\\packages\\pythonsoftwarefoundation.python.3.10_qbz5n2kfra8p0\\localcache\\local-packages\\python310\\site-packages)\n",
      "WARNING: Ignoring invalid distribution -ip (c:\\users\\zayaa\\appdata\\local\\packages\\pythonsoftwarefoundation.python.3.10_qbz5n2kfra8p0\\localcache\\local-packages\\python310\\site-packages)\n",
      "WARNING: Ignoring invalid distribution -ip (c:\\users\\zayaa\\appdata\\local\\packages\\pythonsoftwarefoundation.python.3.10_qbz5n2kfra8p0\\localcache\\local-packages\\python310\\site-packages)\n",
      "WARNING: Ignoring invalid distribution -ip (c:\\users\\zayaa\\appdata\\local\\packages\\pythonsoftwarefoundation.python.3.10_qbz5n2kfra8p0\\localcache\\local-packages\\python310\\site-packages)\n"
     ]
    }
   ],
   "source": [
    "!pip install pycaret pandas shap"
   ]
  },
  {
   "cell_type": "code",
   "execution_count": 1,
   "metadata": {},
   "outputs": [],
   "source": [
    "from pycaret.regression import *\n"
   ]
  },
  {
   "cell_type": "code",
   "execution_count": 10,
   "metadata": {},
   "outputs": [
    {
     "data": {
      "text/html": [
       "<style type=\"text/css\">\n",
       "#T_d7cdb_row8_col1 {\n",
       "  background-color: lightgreen;\n",
       "}\n",
       "</style>\n",
       "<table id=\"T_d7cdb\">\n",
       "  <thead>\n",
       "    <tr>\n",
       "      <th class=\"blank level0\" >&nbsp;</th>\n",
       "      <th id=\"T_d7cdb_level0_col0\" class=\"col_heading level0 col0\" >Description</th>\n",
       "      <th id=\"T_d7cdb_level0_col1\" class=\"col_heading level0 col1\" >Value</th>\n",
       "    </tr>\n",
       "  </thead>\n",
       "  <tbody>\n",
       "    <tr>\n",
       "      <th id=\"T_d7cdb_level0_row0\" class=\"row_heading level0 row0\" >0</th>\n",
       "      <td id=\"T_d7cdb_row0_col0\" class=\"data row0 col0\" >Session id</td>\n",
       "      <td id=\"T_d7cdb_row0_col1\" class=\"data row0 col1\" >2775</td>\n",
       "    </tr>\n",
       "    <tr>\n",
       "      <th id=\"T_d7cdb_level0_row1\" class=\"row_heading level0 row1\" >1</th>\n",
       "      <td id=\"T_d7cdb_row1_col0\" class=\"data row1 col0\" >Target</td>\n",
       "      <td id=\"T_d7cdb_row1_col1\" class=\"data row1 col1\" >temperature</td>\n",
       "    </tr>\n",
       "    <tr>\n",
       "      <th id=\"T_d7cdb_level0_row2\" class=\"row_heading level0 row2\" >2</th>\n",
       "      <td id=\"T_d7cdb_row2_col0\" class=\"data row2 col0\" >Target type</td>\n",
       "      <td id=\"T_d7cdb_row2_col1\" class=\"data row2 col1\" >Regression</td>\n",
       "    </tr>\n",
       "    <tr>\n",
       "      <th id=\"T_d7cdb_level0_row3\" class=\"row_heading level0 row3\" >3</th>\n",
       "      <td id=\"T_d7cdb_row3_col0\" class=\"data row3 col0\" >Original data shape</td>\n",
       "      <td id=\"T_d7cdb_row3_col1\" class=\"data row3 col1\" >(405063, 8)</td>\n",
       "    </tr>\n",
       "    <tr>\n",
       "      <th id=\"T_d7cdb_level0_row4\" class=\"row_heading level0 row4\" >4</th>\n",
       "      <td id=\"T_d7cdb_row4_col0\" class=\"data row4 col0\" >Transformed data shape</td>\n",
       "      <td id=\"T_d7cdb_row4_col1\" class=\"data row4 col1\" >(405063, 8)</td>\n",
       "    </tr>\n",
       "    <tr>\n",
       "      <th id=\"T_d7cdb_level0_row5\" class=\"row_heading level0 row5\" >5</th>\n",
       "      <td id=\"T_d7cdb_row5_col0\" class=\"data row5 col0\" >Transformed train set shape</td>\n",
       "      <td id=\"T_d7cdb_row5_col1\" class=\"data row5 col1\" >(283544, 8)</td>\n",
       "    </tr>\n",
       "    <tr>\n",
       "      <th id=\"T_d7cdb_level0_row6\" class=\"row_heading level0 row6\" >6</th>\n",
       "      <td id=\"T_d7cdb_row6_col0\" class=\"data row6 col0\" >Transformed test set shape</td>\n",
       "      <td id=\"T_d7cdb_row6_col1\" class=\"data row6 col1\" >(121519, 8)</td>\n",
       "    </tr>\n",
       "    <tr>\n",
       "      <th id=\"T_d7cdb_level0_row7\" class=\"row_heading level0 row7\" >7</th>\n",
       "      <td id=\"T_d7cdb_row7_col0\" class=\"data row7 col0\" >Numeric features</td>\n",
       "      <td id=\"T_d7cdb_row7_col1\" class=\"data row7 col1\" >7</td>\n",
       "    </tr>\n",
       "    <tr>\n",
       "      <th id=\"T_d7cdb_level0_row8\" class=\"row_heading level0 row8\" >8</th>\n",
       "      <td id=\"T_d7cdb_row8_col0\" class=\"data row8 col0\" >Preprocess</td>\n",
       "      <td id=\"T_d7cdb_row8_col1\" class=\"data row8 col1\" >True</td>\n",
       "    </tr>\n",
       "    <tr>\n",
       "      <th id=\"T_d7cdb_level0_row9\" class=\"row_heading level0 row9\" >9</th>\n",
       "      <td id=\"T_d7cdb_row9_col0\" class=\"data row9 col0\" >Imputation type</td>\n",
       "      <td id=\"T_d7cdb_row9_col1\" class=\"data row9 col1\" >simple</td>\n",
       "    </tr>\n",
       "    <tr>\n",
       "      <th id=\"T_d7cdb_level0_row10\" class=\"row_heading level0 row10\" >10</th>\n",
       "      <td id=\"T_d7cdb_row10_col0\" class=\"data row10 col0\" >Numeric imputation</td>\n",
       "      <td id=\"T_d7cdb_row10_col1\" class=\"data row10 col1\" >mean</td>\n",
       "    </tr>\n",
       "    <tr>\n",
       "      <th id=\"T_d7cdb_level0_row11\" class=\"row_heading level0 row11\" >11</th>\n",
       "      <td id=\"T_d7cdb_row11_col0\" class=\"data row11 col0\" >Categorical imputation</td>\n",
       "      <td id=\"T_d7cdb_row11_col1\" class=\"data row11 col1\" >mode</td>\n",
       "    </tr>\n",
       "    <tr>\n",
       "      <th id=\"T_d7cdb_level0_row12\" class=\"row_heading level0 row12\" >12</th>\n",
       "      <td id=\"T_d7cdb_row12_col0\" class=\"data row12 col0\" >Fold Generator</td>\n",
       "      <td id=\"T_d7cdb_row12_col1\" class=\"data row12 col1\" >KFold</td>\n",
       "    </tr>\n",
       "    <tr>\n",
       "      <th id=\"T_d7cdb_level0_row13\" class=\"row_heading level0 row13\" >13</th>\n",
       "      <td id=\"T_d7cdb_row13_col0\" class=\"data row13 col0\" >Fold Number</td>\n",
       "      <td id=\"T_d7cdb_row13_col1\" class=\"data row13 col1\" >10</td>\n",
       "    </tr>\n",
       "    <tr>\n",
       "      <th id=\"T_d7cdb_level0_row14\" class=\"row_heading level0 row14\" >14</th>\n",
       "      <td id=\"T_d7cdb_row14_col0\" class=\"data row14 col0\" >CPU Jobs</td>\n",
       "      <td id=\"T_d7cdb_row14_col1\" class=\"data row14 col1\" >-1</td>\n",
       "    </tr>\n",
       "    <tr>\n",
       "      <th id=\"T_d7cdb_level0_row15\" class=\"row_heading level0 row15\" >15</th>\n",
       "      <td id=\"T_d7cdb_row15_col0\" class=\"data row15 col0\" >Use GPU</td>\n",
       "      <td id=\"T_d7cdb_row15_col1\" class=\"data row15 col1\" >False</td>\n",
       "    </tr>\n",
       "    <tr>\n",
       "      <th id=\"T_d7cdb_level0_row16\" class=\"row_heading level0 row16\" >16</th>\n",
       "      <td id=\"T_d7cdb_row16_col0\" class=\"data row16 col0\" >Log Experiment</td>\n",
       "      <td id=\"T_d7cdb_row16_col1\" class=\"data row16 col1\" >False</td>\n",
       "    </tr>\n",
       "    <tr>\n",
       "      <th id=\"T_d7cdb_level0_row17\" class=\"row_heading level0 row17\" >17</th>\n",
       "      <td id=\"T_d7cdb_row17_col0\" class=\"data row17 col0\" >Experiment Name</td>\n",
       "      <td id=\"T_d7cdb_row17_col1\" class=\"data row17 col1\" >reg-default-name</td>\n",
       "    </tr>\n",
       "    <tr>\n",
       "      <th id=\"T_d7cdb_level0_row18\" class=\"row_heading level0 row18\" >18</th>\n",
       "      <td id=\"T_d7cdb_row18_col0\" class=\"data row18 col0\" >USI</td>\n",
       "      <td id=\"T_d7cdb_row18_col1\" class=\"data row18 col1\" >da66</td>\n",
       "    </tr>\n",
       "  </tbody>\n",
       "</table>\n"
      ],
      "text/plain": [
       "<pandas.io.formats.style.Styler at 0x234e2c24d00>"
      ]
     },
     "metadata": {},
     "output_type": "display_data"
    }
   ],
   "source": [
    "#print pycaret version\n",
    "s = setup(color_filters_df, target = 'temperature')#, session_id=123, log_experiment=True, experiment_name='star_temp')"
   ]
  },
  {
   "cell_type": "code",
   "execution_count": 11,
   "metadata": {},
   "outputs": [
    {
     "data": {
      "text/html": [],
      "text/plain": [
       "<IPython.core.display.HTML object>"
      ]
     },
     "metadata": {},
     "output_type": "display_data"
    },
    {
     "data": {
      "text/html": [
       "<style type=\"text/css\">\n",
       "#T_da6ee th {\n",
       "  text-align: left;\n",
       "}\n",
       "#T_da6ee_row0_col0, #T_da6ee_row0_col1, #T_da6ee_row0_col6, #T_da6ee_row1_col0, #T_da6ee_row1_col2, #T_da6ee_row1_col3, #T_da6ee_row1_col4, #T_da6ee_row1_col5, #T_da6ee_row2_col0, #T_da6ee_row2_col1, #T_da6ee_row2_col2, #T_da6ee_row2_col3, #T_da6ee_row2_col4, #T_da6ee_row2_col5, #T_da6ee_row2_col6, #T_da6ee_row3_col0, #T_da6ee_row3_col1, #T_da6ee_row3_col2, #T_da6ee_row3_col3, #T_da6ee_row3_col4, #T_da6ee_row3_col5, #T_da6ee_row3_col6, #T_da6ee_row4_col0, #T_da6ee_row4_col1, #T_da6ee_row4_col2, #T_da6ee_row4_col3, #T_da6ee_row4_col4, #T_da6ee_row4_col5, #T_da6ee_row4_col6, #T_da6ee_row5_col0, #T_da6ee_row5_col1, #T_da6ee_row5_col2, #T_da6ee_row5_col3, #T_da6ee_row5_col4, #T_da6ee_row5_col5, #T_da6ee_row5_col6, #T_da6ee_row6_col0, #T_da6ee_row6_col1, #T_da6ee_row6_col2, #T_da6ee_row6_col3, #T_da6ee_row6_col4, #T_da6ee_row6_col5, #T_da6ee_row6_col6, #T_da6ee_row7_col0, #T_da6ee_row7_col1, #T_da6ee_row7_col2, #T_da6ee_row7_col3, #T_da6ee_row7_col4, #T_da6ee_row7_col5, #T_da6ee_row7_col6, #T_da6ee_row8_col0, #T_da6ee_row8_col1, #T_da6ee_row8_col2, #T_da6ee_row8_col3, #T_da6ee_row8_col4, #T_da6ee_row8_col5, #T_da6ee_row8_col6, #T_da6ee_row9_col0, #T_da6ee_row9_col1, #T_da6ee_row9_col2, #T_da6ee_row9_col3, #T_da6ee_row9_col4, #T_da6ee_row9_col5, #T_da6ee_row9_col6, #T_da6ee_row10_col0, #T_da6ee_row10_col1, #T_da6ee_row10_col2, #T_da6ee_row10_col3, #T_da6ee_row10_col4, #T_da6ee_row10_col5, #T_da6ee_row10_col6, #T_da6ee_row11_col0, #T_da6ee_row11_col1, #T_da6ee_row11_col2, #T_da6ee_row11_col3, #T_da6ee_row11_col4, #T_da6ee_row11_col5, #T_da6ee_row11_col6, #T_da6ee_row12_col0, #T_da6ee_row12_col1, #T_da6ee_row12_col2, #T_da6ee_row12_col3, #T_da6ee_row12_col4, #T_da6ee_row12_col5, #T_da6ee_row12_col6, #T_da6ee_row13_col0, #T_da6ee_row13_col1, #T_da6ee_row13_col2, #T_da6ee_row13_col3, #T_da6ee_row13_col4, #T_da6ee_row13_col5, #T_da6ee_row13_col6, #T_da6ee_row14_col0, #T_da6ee_row14_col1, #T_da6ee_row14_col2, #T_da6ee_row14_col3, #T_da6ee_row14_col4, #T_da6ee_row14_col5, #T_da6ee_row14_col6, #T_da6ee_row15_col0, #T_da6ee_row15_col1, #T_da6ee_row15_col2, #T_da6ee_row15_col3, #T_da6ee_row15_col4, #T_da6ee_row15_col5, #T_da6ee_row15_col6, #T_da6ee_row16_col0, #T_da6ee_row16_col1, #T_da6ee_row16_col2, #T_da6ee_row16_col3, #T_da6ee_row16_col4, #T_da6ee_row16_col5, #T_da6ee_row16_col6, #T_da6ee_row17_col0, #T_da6ee_row17_col1, #T_da6ee_row17_col2, #T_da6ee_row17_col3, #T_da6ee_row17_col4, #T_da6ee_row17_col5, #T_da6ee_row17_col6 {\n",
       "  text-align: left;\n",
       "}\n",
       "#T_da6ee_row0_col2, #T_da6ee_row0_col3, #T_da6ee_row0_col4, #T_da6ee_row0_col5, #T_da6ee_row1_col1, #T_da6ee_row1_col6 {\n",
       "  text-align: left;\n",
       "  background-color: yellow;\n",
       "}\n",
       "#T_da6ee_row0_col7, #T_da6ee_row1_col7, #T_da6ee_row2_col7, #T_da6ee_row3_col7, #T_da6ee_row4_col7, #T_da6ee_row5_col7, #T_da6ee_row6_col7, #T_da6ee_row7_col7, #T_da6ee_row8_col7, #T_da6ee_row9_col7, #T_da6ee_row10_col7, #T_da6ee_row11_col7, #T_da6ee_row12_col7, #T_da6ee_row13_col7, #T_da6ee_row15_col7, #T_da6ee_row16_col7, #T_da6ee_row17_col7 {\n",
       "  text-align: left;\n",
       "  background-color: lightgrey;\n",
       "}\n",
       "#T_da6ee_row14_col7 {\n",
       "  text-align: left;\n",
       "  background-color: yellow;\n",
       "  background-color: lightgrey;\n",
       "}\n",
       "</style>\n",
       "<table id=\"T_da6ee\">\n",
       "  <thead>\n",
       "    <tr>\n",
       "      <th class=\"blank level0\" >&nbsp;</th>\n",
       "      <th id=\"T_da6ee_level0_col0\" class=\"col_heading level0 col0\" >Model</th>\n",
       "      <th id=\"T_da6ee_level0_col1\" class=\"col_heading level0 col1\" >MAE</th>\n",
       "      <th id=\"T_da6ee_level0_col2\" class=\"col_heading level0 col2\" >MSE</th>\n",
       "      <th id=\"T_da6ee_level0_col3\" class=\"col_heading level0 col3\" >RMSE</th>\n",
       "      <th id=\"T_da6ee_level0_col4\" class=\"col_heading level0 col4\" >R2</th>\n",
       "      <th id=\"T_da6ee_level0_col5\" class=\"col_heading level0 col5\" >RMSLE</th>\n",
       "      <th id=\"T_da6ee_level0_col6\" class=\"col_heading level0 col6\" >MAPE</th>\n",
       "      <th id=\"T_da6ee_level0_col7\" class=\"col_heading level0 col7\" >TT (Sec)</th>\n",
       "    </tr>\n",
       "  </thead>\n",
       "  <tbody>\n",
       "    <tr>\n",
       "      <th id=\"T_da6ee_level0_row0\" class=\"row_heading level0 row0\" >et</th>\n",
       "      <td id=\"T_da6ee_row0_col0\" class=\"data row0 col0\" >Extra Trees Regressor</td>\n",
       "      <td id=\"T_da6ee_row0_col1\" class=\"data row0 col1\" >73.0738</td>\n",
       "      <td id=\"T_da6ee_row0_col2\" class=\"data row0 col2\" >36806.5159</td>\n",
       "      <td id=\"T_da6ee_row0_col3\" class=\"data row0 col3\" >191.8154</td>\n",
       "      <td id=\"T_da6ee_row0_col4\" class=\"data row0 col4\" >0.9556</td>\n",
       "      <td id=\"T_da6ee_row0_col5\" class=\"data row0 col5\" >0.0359</td>\n",
       "      <td id=\"T_da6ee_row0_col6\" class=\"data row0 col6\" >0.0134</td>\n",
       "      <td id=\"T_da6ee_row0_col7\" class=\"data row0 col7\" >9.1110</td>\n",
       "    </tr>\n",
       "    <tr>\n",
       "      <th id=\"T_da6ee_level0_row1\" class=\"row_heading level0 row1\" >rf</th>\n",
       "      <td id=\"T_da6ee_row1_col0\" class=\"data row1 col0\" >Random Forest Regressor</td>\n",
       "      <td id=\"T_da6ee_row1_col1\" class=\"data row1 col1\" >67.2747</td>\n",
       "      <td id=\"T_da6ee_row1_col2\" class=\"data row1 col2\" >38387.3394</td>\n",
       "      <td id=\"T_da6ee_row1_col3\" class=\"data row1 col3\" >195.9007</td>\n",
       "      <td id=\"T_da6ee_row1_col4\" class=\"data row1 col4\" >0.9537</td>\n",
       "      <td id=\"T_da6ee_row1_col5\" class=\"data row1 col5\" >0.0366</td>\n",
       "      <td id=\"T_da6ee_row1_col6\" class=\"data row1 col6\" >0.0122</td>\n",
       "      <td id=\"T_da6ee_row1_col7\" class=\"data row1 col7\" >49.5380</td>\n",
       "    </tr>\n",
       "    <tr>\n",
       "      <th id=\"T_da6ee_level0_row2\" class=\"row_heading level0 row2\" >lightgbm</th>\n",
       "      <td id=\"T_da6ee_row2_col0\" class=\"data row2 col0\" >Light Gradient Boosting Machine</td>\n",
       "      <td id=\"T_da6ee_row2_col1\" class=\"data row2 col1\" >125.0578</td>\n",
       "      <td id=\"T_da6ee_row2_col2\" class=\"data row2 col2\" >52217.9198</td>\n",
       "      <td id=\"T_da6ee_row2_col3\" class=\"data row2 col3\" >228.4802</td>\n",
       "      <td id=\"T_da6ee_row2_col4\" class=\"data row2 col4\" >0.9370</td>\n",
       "      <td id=\"T_da6ee_row2_col5\" class=\"data row2 col5\" >0.0430</td>\n",
       "      <td id=\"T_da6ee_row2_col6\" class=\"data row2 col6\" >0.0234</td>\n",
       "      <td id=\"T_da6ee_row2_col7\" class=\"data row2 col7\" >0.6660</td>\n",
       "    </tr>\n",
       "    <tr>\n",
       "      <th id=\"T_da6ee_level0_row3\" class=\"row_heading level0 row3\" >dt</th>\n",
       "      <td id=\"T_da6ee_row3_col0\" class=\"data row3 col0\" >Decision Tree Regressor</td>\n",
       "      <td id=\"T_da6ee_row3_col1\" class=\"data row3 col1\" >70.6088</td>\n",
       "      <td id=\"T_da6ee_row3_col2\" class=\"data row3 col2\" >71684.0504</td>\n",
       "      <td id=\"T_da6ee_row3_col3\" class=\"data row3 col3\" >267.6745</td>\n",
       "      <td id=\"T_da6ee_row3_col4\" class=\"data row3 col4\" >0.9135</td>\n",
       "      <td id=\"T_da6ee_row3_col5\" class=\"data row3 col5\" >0.0497</td>\n",
       "      <td id=\"T_da6ee_row3_col6\" class=\"data row3 col6\" >0.0127</td>\n",
       "      <td id=\"T_da6ee_row3_col7\" class=\"data row3 col7\" >0.9890</td>\n",
       "    </tr>\n",
       "    <tr>\n",
       "      <th id=\"T_da6ee_level0_row4\" class=\"row_heading level0 row4\" >knn</th>\n",
       "      <td id=\"T_da6ee_row4_col0\" class=\"data row4 col0\" >K Neighbors Regressor</td>\n",
       "      <td id=\"T_da6ee_row4_col1\" class=\"data row4 col1\" >110.6749</td>\n",
       "      <td id=\"T_da6ee_row4_col2\" class=\"data row4 col2\" >77060.9186</td>\n",
       "      <td id=\"T_da6ee_row4_col3\" class=\"data row4 col3\" >277.5297</td>\n",
       "      <td id=\"T_da6ee_row4_col4\" class=\"data row4 col4\" >0.9070</td>\n",
       "      <td id=\"T_da6ee_row4_col5\" class=\"data row4 col5\" >0.0531</td>\n",
       "      <td id=\"T_da6ee_row4_col6\" class=\"data row4 col6\" >0.0207</td>\n",
       "      <td id=\"T_da6ee_row4_col7\" class=\"data row4 col7\" >0.5360</td>\n",
       "    </tr>\n",
       "    <tr>\n",
       "      <th id=\"T_da6ee_level0_row5\" class=\"row_heading level0 row5\" >gbr</th>\n",
       "      <td id=\"T_da6ee_row5_col0\" class=\"data row5 col0\" >Gradient Boosting Regressor</td>\n",
       "      <td id=\"T_da6ee_row5_col1\" class=\"data row5 col1\" >189.8105</td>\n",
       "      <td id=\"T_da6ee_row5_col2\" class=\"data row5 col2\" >99597.3326</td>\n",
       "      <td id=\"T_da6ee_row5_col3\" class=\"data row5 col3\" >315.5527</td>\n",
       "      <td id=\"T_da6ee_row5_col4\" class=\"data row5 col4\" >0.8798</td>\n",
       "      <td id=\"T_da6ee_row5_col5\" class=\"data row5 col5\" >0.0606</td>\n",
       "      <td id=\"T_da6ee_row5_col6\" class=\"data row5 col6\" >0.0362</td>\n",
       "      <td id=\"T_da6ee_row5_col7\" class=\"data row5 col7\" >15.3100</td>\n",
       "    </tr>\n",
       "    <tr>\n",
       "      <th id=\"T_da6ee_level0_row6\" class=\"row_heading level0 row6\" >ada</th>\n",
       "      <td id=\"T_da6ee_row6_col0\" class=\"data row6 col0\" >AdaBoost Regressor</td>\n",
       "      <td id=\"T_da6ee_row6_col1\" class=\"data row6 col1\" >360.9893</td>\n",
       "      <td id=\"T_da6ee_row6_col2\" class=\"data row6 col2\" >224518.5993</td>\n",
       "      <td id=\"T_da6ee_row6_col3\" class=\"data row6 col3\" >473.5048</td>\n",
       "      <td id=\"T_da6ee_row6_col4\" class=\"data row6 col4\" >0.7290</td>\n",
       "      <td id=\"T_da6ee_row6_col5\" class=\"data row6 col5\" >0.0935</td>\n",
       "      <td id=\"T_da6ee_row6_col6\" class=\"data row6 col6\" >0.0731</td>\n",
       "      <td id=\"T_da6ee_row6_col7\" class=\"data row6 col7\" >3.4580</td>\n",
       "    </tr>\n",
       "    <tr>\n",
       "      <th id=\"T_da6ee_level0_row7\" class=\"row_heading level0 row7\" >lar</th>\n",
       "      <td id=\"T_da6ee_row7_col0\" class=\"data row7 col0\" >Least Angle Regression</td>\n",
       "      <td id=\"T_da6ee_row7_col1\" class=\"data row7 col1\" >372.1836</td>\n",
       "      <td id=\"T_da6ee_row7_col2\" class=\"data row7 col2\" >296876.1258</td>\n",
       "      <td id=\"T_da6ee_row7_col3\" class=\"data row7 col3\" >544.8270</td>\n",
       "      <td id=\"T_da6ee_row7_col4\" class=\"data row7 col4\" >0.6417</td>\n",
       "      <td id=\"T_da6ee_row7_col5\" class=\"data row7 col5\" >0.1063</td>\n",
       "      <td id=\"T_da6ee_row7_col6\" class=\"data row7 col6\" >0.0740</td>\n",
       "      <td id=\"T_da6ee_row7_col7\" class=\"data row7 col7\" >0.0700</td>\n",
       "    </tr>\n",
       "    <tr>\n",
       "      <th id=\"T_da6ee_level0_row8\" class=\"row_heading level0 row8\" >br</th>\n",
       "      <td id=\"T_da6ee_row8_col0\" class=\"data row8 col0\" >Bayesian Ridge</td>\n",
       "      <td id=\"T_da6ee_row8_col1\" class=\"data row8 col1\" >372.1796</td>\n",
       "      <td id=\"T_da6ee_row8_col2\" class=\"data row8 col2\" >296876.0808</td>\n",
       "      <td id=\"T_da6ee_row8_col3\" class=\"data row8 col3\" >544.8269</td>\n",
       "      <td id=\"T_da6ee_row8_col4\" class=\"data row8 col4\" >0.6417</td>\n",
       "      <td id=\"T_da6ee_row8_col5\" class=\"data row8 col5\" >0.1063</td>\n",
       "      <td id=\"T_da6ee_row8_col6\" class=\"data row8 col6\" >0.0740</td>\n",
       "      <td id=\"T_da6ee_row8_col7\" class=\"data row8 col7\" >0.0770</td>\n",
       "    </tr>\n",
       "    <tr>\n",
       "      <th id=\"T_da6ee_level0_row9\" class=\"row_heading level0 row9\" >ridge</th>\n",
       "      <td id=\"T_da6ee_row9_col0\" class=\"data row9 col0\" >Ridge Regression</td>\n",
       "      <td id=\"T_da6ee_row9_col1\" class=\"data row9 col1\" >372.1219</td>\n",
       "      <td id=\"T_da6ee_row9_col2\" class=\"data row9 col2\" >296877.3992</td>\n",
       "      <td id=\"T_da6ee_row9_col3\" class=\"data row9 col3\" >544.8281</td>\n",
       "      <td id=\"T_da6ee_row9_col4\" class=\"data row9 col4\" >0.6417</td>\n",
       "      <td id=\"T_da6ee_row9_col5\" class=\"data row9 col5\" >0.1063</td>\n",
       "      <td id=\"T_da6ee_row9_col6\" class=\"data row9 col6\" >0.0740</td>\n",
       "      <td id=\"T_da6ee_row9_col7\" class=\"data row9 col7\" >0.0710</td>\n",
       "    </tr>\n",
       "    <tr>\n",
       "      <th id=\"T_da6ee_level0_row10\" class=\"row_heading level0 row10\" >lr</th>\n",
       "      <td id=\"T_da6ee_row10_col0\" class=\"data row10 col0\" >Linear Regression</td>\n",
       "      <td id=\"T_da6ee_row10_col1\" class=\"data row10 col1\" >372.1837</td>\n",
       "      <td id=\"T_da6ee_row10_col2\" class=\"data row10 col2\" >296876.0872</td>\n",
       "      <td id=\"T_da6ee_row10_col3\" class=\"data row10 col3\" >544.8269</td>\n",
       "      <td id=\"T_da6ee_row10_col4\" class=\"data row10 col4\" >0.6417</td>\n",
       "      <td id=\"T_da6ee_row10_col5\" class=\"data row10 col5\" >0.1063</td>\n",
       "      <td id=\"T_da6ee_row10_col6\" class=\"data row10 col6\" >0.0740</td>\n",
       "      <td id=\"T_da6ee_row10_col7\" class=\"data row10 col7\" >0.7450</td>\n",
       "    </tr>\n",
       "    <tr>\n",
       "      <th id=\"T_da6ee_level0_row11\" class=\"row_heading level0 row11\" >lasso</th>\n",
       "      <td id=\"T_da6ee_row11_col0\" class=\"data row11 col0\" >Lasso Regression</td>\n",
       "      <td id=\"T_da6ee_row11_col1\" class=\"data row11 col1\" >371.6899</td>\n",
       "      <td id=\"T_da6ee_row11_col2\" class=\"data row11 col2\" >299769.1205</td>\n",
       "      <td id=\"T_da6ee_row11_col3\" class=\"data row11 col3\" >547.4741</td>\n",
       "      <td id=\"T_da6ee_row11_col4\" class=\"data row11 col4\" >0.6382</td>\n",
       "      <td id=\"T_da6ee_row11_col5\" class=\"data row11 col5\" >0.1067</td>\n",
       "      <td id=\"T_da6ee_row11_col6\" class=\"data row11 col6\" >0.0740</td>\n",
       "      <td id=\"T_da6ee_row11_col7\" class=\"data row11 col7\" >0.5410</td>\n",
       "    </tr>\n",
       "    <tr>\n",
       "      <th id=\"T_da6ee_level0_row12\" class=\"row_heading level0 row12\" >llar</th>\n",
       "      <td id=\"T_da6ee_row12_col0\" class=\"data row12 col0\" >Lasso Least Angle Regression</td>\n",
       "      <td id=\"T_da6ee_row12_col1\" class=\"data row12 col1\" >371.6903</td>\n",
       "      <td id=\"T_da6ee_row12_col2\" class=\"data row12 col2\" >299768.9087</td>\n",
       "      <td id=\"T_da6ee_row12_col3\" class=\"data row12 col3\" >547.4739</td>\n",
       "      <td id=\"T_da6ee_row12_col4\" class=\"data row12 col4\" >0.6382</td>\n",
       "      <td id=\"T_da6ee_row12_col5\" class=\"data row12 col5\" >0.1067</td>\n",
       "      <td id=\"T_da6ee_row12_col6\" class=\"data row12 col6\" >0.0740</td>\n",
       "      <td id=\"T_da6ee_row12_col7\" class=\"data row12 col7\" >0.0730</td>\n",
       "    </tr>\n",
       "    <tr>\n",
       "      <th id=\"T_da6ee_level0_row13\" class=\"row_heading level0 row13\" >en</th>\n",
       "      <td id=\"T_da6ee_row13_col0\" class=\"data row13 col0\" >Elastic Net</td>\n",
       "      <td id=\"T_da6ee_row13_col1\" class=\"data row13 col1\" >497.9482</td>\n",
       "      <td id=\"T_da6ee_row13_col2\" class=\"data row13 col2\" >421887.7453</td>\n",
       "      <td id=\"T_da6ee_row13_col3\" class=\"data row13 col3\" >649.5213</td>\n",
       "      <td id=\"T_da6ee_row13_col4\" class=\"data row13 col4\" >0.4909</td>\n",
       "      <td id=\"T_da6ee_row13_col5\" class=\"data row13 col5\" >0.1302</td>\n",
       "      <td id=\"T_da6ee_row13_col6\" class=\"data row13 col6\" >0.1023</td>\n",
       "      <td id=\"T_da6ee_row13_col7\" class=\"data row13 col7\" >0.0700</td>\n",
       "    </tr>\n",
       "    <tr>\n",
       "      <th id=\"T_da6ee_level0_row14\" class=\"row_heading level0 row14\" >omp</th>\n",
       "      <td id=\"T_da6ee_row14_col0\" class=\"data row14 col0\" >Orthogonal Matching Pursuit</td>\n",
       "      <td id=\"T_da6ee_row14_col1\" class=\"data row14 col1\" >605.0983</td>\n",
       "      <td id=\"T_da6ee_row14_col2\" class=\"data row14 col2\" >562607.6415</td>\n",
       "      <td id=\"T_da6ee_row14_col3\" class=\"data row14 col3\" >750.0636</td>\n",
       "      <td id=\"T_da6ee_row14_col4\" class=\"data row14 col4\" >0.3210</td>\n",
       "      <td id=\"T_da6ee_row14_col5\" class=\"data row14 col5\" >0.1502</td>\n",
       "      <td id=\"T_da6ee_row14_col6\" class=\"data row14 col6\" >0.1239</td>\n",
       "      <td id=\"T_da6ee_row14_col7\" class=\"data row14 col7\" >0.0680</td>\n",
       "    </tr>\n",
       "    <tr>\n",
       "      <th id=\"T_da6ee_level0_row15\" class=\"row_heading level0 row15\" >dummy</th>\n",
       "      <td id=\"T_da6ee_row15_col0\" class=\"data row15 col0\" >Dummy Regressor</td>\n",
       "      <td id=\"T_da6ee_row15_col1\" class=\"data row15 col1\" >731.2431</td>\n",
       "      <td id=\"T_da6ee_row15_col2\" class=\"data row15 col2\" >828676.8005</td>\n",
       "      <td id=\"T_da6ee_row15_col3\" class=\"data row15 col3\" >910.3115</td>\n",
       "      <td id=\"T_da6ee_row15_col4\" class=\"data row15 col4\" >-0.0000</td>\n",
       "      <td id=\"T_da6ee_row15_col5\" class=\"data row15 col5\" >0.1817</td>\n",
       "      <td id=\"T_da6ee_row15_col6\" class=\"data row15 col6\" >0.1508</td>\n",
       "      <td id=\"T_da6ee_row15_col7\" class=\"data row15 col7\" >0.1610</td>\n",
       "    </tr>\n",
       "    <tr>\n",
       "      <th id=\"T_da6ee_level0_row16\" class=\"row_heading level0 row16\" >huber</th>\n",
       "      <td id=\"T_da6ee_row16_col0\" class=\"data row16 col0\" >Huber Regressor</td>\n",
       "      <td id=\"T_da6ee_row16_col1\" class=\"data row16 col1\" >343.3220</td>\n",
       "      <td id=\"T_da6ee_row16_col2\" class=\"data row16 col2\" >1820820.6808</td>\n",
       "      <td id=\"T_da6ee_row16_col3\" class=\"data row16 col3\" >1021.4497</td>\n",
       "      <td id=\"T_da6ee_row16_col4\" class=\"data row16 col4\" >-1.1989</td>\n",
       "      <td id=\"T_da6ee_row16_col5\" class=\"data row16 col5\" >0.1151</td>\n",
       "      <td id=\"T_da6ee_row16_col6\" class=\"data row16 col6\" >0.0694</td>\n",
       "      <td id=\"T_da6ee_row16_col7\" class=\"data row16 col7\" >1.3430</td>\n",
       "    </tr>\n",
       "    <tr>\n",
       "      <th id=\"T_da6ee_level0_row17\" class=\"row_heading level0 row17\" >par</th>\n",
       "      <td id=\"T_da6ee_row17_col0\" class=\"data row17 col0\" >Passive Aggressive Regressor</td>\n",
       "      <td id=\"T_da6ee_row17_col1\" class=\"data row17 col1\" >349.5819</td>\n",
       "      <td id=\"T_da6ee_row17_col2\" class=\"data row17 col2\" >26528939.9207</td>\n",
       "      <td id=\"T_da6ee_row17_col3\" class=\"data row17 col3\" >2766.5588</td>\n",
       "      <td id=\"T_da6ee_row17_col4\" class=\"data row17 col4\" >-31.0430</td>\n",
       "      <td id=\"T_da6ee_row17_col5\" class=\"data row17 col5\" >0.1124</td>\n",
       "      <td id=\"T_da6ee_row17_col6\" class=\"data row17 col6\" >0.0706</td>\n",
       "      <td id=\"T_da6ee_row17_col7\" class=\"data row17 col7\" >0.1870</td>\n",
       "    </tr>\n",
       "  </tbody>\n",
       "</table>\n"
      ],
      "text/plain": [
       "<pandas.io.formats.style.Styler at 0x234da393760>"
      ]
     },
     "metadata": {},
     "output_type": "display_data"
    },
    {
     "data": {
      "text/html": [],
      "text/plain": [
       "<IPython.core.display.HTML object>"
      ]
     },
     "metadata": {},
     "output_type": "display_data"
    }
   ],
   "source": [
    "best_model = compare_models()"
   ]
  },
  {
   "cell_type": "code",
   "execution_count": 12,
   "metadata": {},
   "outputs": [
    {
     "data": {
      "application/vnd.jupyter.widget-view+json": {
       "model_id": "7ec12d36ad7f49fdbb6523186caabfa2",
       "version_major": 2,
       "version_minor": 0
      },
      "text/plain": [
       "interactive(children=(ToggleButtons(description='Plot Type:', icons=('',), options=(('Pipeline Plot', 'pipelin…"
      ]
     },
     "metadata": {},
     "output_type": "display_data"
    },
    {
     "data": {
      "image/png": "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",
      "text/plain": [
       "<Figure size 800x550 with 1 Axes>"
      ]
     },
     "metadata": {},
     "output_type": "display_data"
    },
    {
     "name": "stdout",
     "output_type": "stream",
     "text": [
      "Error in callback <function _draw_all_if_interactive at 0x00000234B7ACB910> (for post_execute):\n"
     ]
    },
    {
     "ename": "KeyboardInterrupt",
     "evalue": "",
     "output_type": "error",
     "traceback": [
      "\u001b[1;31m---------------------------------------------------------------------------\u001b[0m",
      "\u001b[1;31mKeyboardInterrupt\u001b[0m                         Traceback (most recent call last)",
      "File \u001b[1;32m~\\AppData\\Local\\Packages\\PythonSoftwareFoundation.Python.3.10_qbz5n2kfra8p0\\LocalCache\\local-packages\\Python310\\site-packages\\matplotlib\\pyplot.py:120\u001b[0m, in \u001b[0;36m_draw_all_if_interactive\u001b[1;34m()\u001b[0m\n\u001b[0;32m    118\u001b[0m \u001b[39mdef\u001b[39;00m \u001b[39m_draw_all_if_interactive\u001b[39m():\n\u001b[0;32m    119\u001b[0m     \u001b[39mif\u001b[39;00m matplotlib\u001b[39m.\u001b[39mis_interactive():\n\u001b[1;32m--> 120\u001b[0m         draw_all()\n",
      "File \u001b[1;32m~\\AppData\\Local\\Packages\\PythonSoftwareFoundation.Python.3.10_qbz5n2kfra8p0\\LocalCache\\local-packages\\Python310\\site-packages\\matplotlib\\_pylab_helpers.py:132\u001b[0m, in \u001b[0;36mGcf.draw_all\u001b[1;34m(cls, force)\u001b[0m\n\u001b[0;32m    130\u001b[0m \u001b[39mfor\u001b[39;00m manager \u001b[39min\u001b[39;00m \u001b[39mcls\u001b[39m\u001b[39m.\u001b[39mget_all_fig_managers():\n\u001b[0;32m    131\u001b[0m     \u001b[39mif\u001b[39;00m force \u001b[39mor\u001b[39;00m manager\u001b[39m.\u001b[39mcanvas\u001b[39m.\u001b[39mfigure\u001b[39m.\u001b[39mstale:\n\u001b[1;32m--> 132\u001b[0m         manager\u001b[39m.\u001b[39;49mcanvas\u001b[39m.\u001b[39;49mdraw_idle()\n",
      "File \u001b[1;32m~\\AppData\\Local\\Packages\\PythonSoftwareFoundation.Python.3.10_qbz5n2kfra8p0\\LocalCache\\local-packages\\Python310\\site-packages\\matplotlib\\backend_bases.py:2082\u001b[0m, in \u001b[0;36mFigureCanvasBase.draw_idle\u001b[1;34m(self, *args, **kwargs)\u001b[0m\n\u001b[0;32m   2080\u001b[0m \u001b[39mif\u001b[39;00m \u001b[39mnot\u001b[39;00m \u001b[39mself\u001b[39m\u001b[39m.\u001b[39m_is_idle_drawing:\n\u001b[0;32m   2081\u001b[0m     \u001b[39mwith\u001b[39;00m \u001b[39mself\u001b[39m\u001b[39m.\u001b[39m_idle_draw_cntx():\n\u001b[1;32m-> 2082\u001b[0m         \u001b[39mself\u001b[39m\u001b[39m.\u001b[39mdraw(\u001b[39m*\u001b[39margs, \u001b[39m*\u001b[39m\u001b[39m*\u001b[39mkwargs)\n",
      "File \u001b[1;32m~\\AppData\\Local\\Packages\\PythonSoftwareFoundation.Python.3.10_qbz5n2kfra8p0\\LocalCache\\local-packages\\Python310\\site-packages\\matplotlib\\backends\\backend_agg.py:400\u001b[0m, in \u001b[0;36mFigureCanvasAgg.draw\u001b[1;34m(self)\u001b[0m\n\u001b[0;32m    396\u001b[0m \u001b[39m# Acquire a lock on the shared font cache.\u001b[39;00m\n\u001b[0;32m    397\u001b[0m \u001b[39mwith\u001b[39;00m RendererAgg\u001b[39m.\u001b[39mlock, \\\n\u001b[0;32m    398\u001b[0m      (\u001b[39mself\u001b[39m\u001b[39m.\u001b[39mtoolbar\u001b[39m.\u001b[39m_wait_cursor_for_draw_cm() \u001b[39mif\u001b[39;00m \u001b[39mself\u001b[39m\u001b[39m.\u001b[39mtoolbar\n\u001b[0;32m    399\u001b[0m       \u001b[39melse\u001b[39;00m nullcontext()):\n\u001b[1;32m--> 400\u001b[0m     \u001b[39mself\u001b[39;49m\u001b[39m.\u001b[39;49mfigure\u001b[39m.\u001b[39;49mdraw(\u001b[39mself\u001b[39;49m\u001b[39m.\u001b[39;49mrenderer)\n\u001b[0;32m    401\u001b[0m     \u001b[39m# A GUI class may be need to update a window using this draw, so\u001b[39;00m\n\u001b[0;32m    402\u001b[0m     \u001b[39m# don't forget to call the superclass.\u001b[39;00m\n\u001b[0;32m    403\u001b[0m     \u001b[39msuper\u001b[39m()\u001b[39m.\u001b[39mdraw()\n",
      "File \u001b[1;32m~\\AppData\\Local\\Packages\\PythonSoftwareFoundation.Python.3.10_qbz5n2kfra8p0\\LocalCache\\local-packages\\Python310\\site-packages\\matplotlib\\artist.py:95\u001b[0m, in \u001b[0;36m_finalize_rasterization.<locals>.draw_wrapper\u001b[1;34m(artist, renderer, *args, **kwargs)\u001b[0m\n\u001b[0;32m     93\u001b[0m \u001b[39m@wraps\u001b[39m(draw)\n\u001b[0;32m     94\u001b[0m \u001b[39mdef\u001b[39;00m \u001b[39mdraw_wrapper\u001b[39m(artist, renderer, \u001b[39m*\u001b[39margs, \u001b[39m*\u001b[39m\u001b[39m*\u001b[39mkwargs):\n\u001b[1;32m---> 95\u001b[0m     result \u001b[39m=\u001b[39m draw(artist, renderer, \u001b[39m*\u001b[39margs, \u001b[39m*\u001b[39m\u001b[39m*\u001b[39mkwargs)\n\u001b[0;32m     96\u001b[0m     \u001b[39mif\u001b[39;00m renderer\u001b[39m.\u001b[39m_rasterizing:\n\u001b[0;32m     97\u001b[0m         renderer\u001b[39m.\u001b[39mstop_rasterizing()\n",
      "File \u001b[1;32m~\\AppData\\Local\\Packages\\PythonSoftwareFoundation.Python.3.10_qbz5n2kfra8p0\\LocalCache\\local-packages\\Python310\\site-packages\\matplotlib\\artist.py:72\u001b[0m, in \u001b[0;36mallow_rasterization.<locals>.draw_wrapper\u001b[1;34m(artist, renderer)\u001b[0m\n\u001b[0;32m     69\u001b[0m     \u001b[39mif\u001b[39;00m artist\u001b[39m.\u001b[39mget_agg_filter() \u001b[39mis\u001b[39;00m \u001b[39mnot\u001b[39;00m \u001b[39mNone\u001b[39;00m:\n\u001b[0;32m     70\u001b[0m         renderer\u001b[39m.\u001b[39mstart_filter()\n\u001b[1;32m---> 72\u001b[0m     \u001b[39mreturn\u001b[39;00m draw(artist, renderer)\n\u001b[0;32m     73\u001b[0m \u001b[39mfinally\u001b[39;00m:\n\u001b[0;32m     74\u001b[0m     \u001b[39mif\u001b[39;00m artist\u001b[39m.\u001b[39mget_agg_filter() \u001b[39mis\u001b[39;00m \u001b[39mnot\u001b[39;00m \u001b[39mNone\u001b[39;00m:\n",
      "File \u001b[1;32m~\\AppData\\Local\\Packages\\PythonSoftwareFoundation.Python.3.10_qbz5n2kfra8p0\\LocalCache\\local-packages\\Python310\\site-packages\\matplotlib\\figure.py:3129\u001b[0m, in \u001b[0;36mFigure.draw\u001b[1;34m(self, renderer)\u001b[0m\n\u001b[0;32m   3126\u001b[0m \u001b[39mif\u001b[39;00m \u001b[39mnot\u001b[39;00m \u001b[39mself\u001b[39m\u001b[39m.\u001b[39mget_visible():\n\u001b[0;32m   3127\u001b[0m     \u001b[39mreturn\u001b[39;00m\n\u001b[1;32m-> 3129\u001b[0m artists \u001b[39m=\u001b[39m \u001b[39mself\u001b[39;49m\u001b[39m.\u001b[39;49m_get_draw_artists(renderer)\n\u001b[0;32m   3130\u001b[0m \u001b[39mtry\u001b[39;00m:\n\u001b[0;32m   3131\u001b[0m     renderer\u001b[39m.\u001b[39mopen_group(\u001b[39m'\u001b[39m\u001b[39mfigure\u001b[39m\u001b[39m'\u001b[39m, gid\u001b[39m=\u001b[39m\u001b[39mself\u001b[39m\u001b[39m.\u001b[39mget_gid())\n",
      "File \u001b[1;32m~\\AppData\\Local\\Packages\\PythonSoftwareFoundation.Python.3.10_qbz5n2kfra8p0\\LocalCache\\local-packages\\Python310\\site-packages\\matplotlib\\figure.py:224\u001b[0m, in \u001b[0;36mFigureBase._get_draw_artists\u001b[1;34m(self, renderer)\u001b[0m\n\u001b[0;32m    221\u001b[0m ax\u001b[39m.\u001b[39mapply_aspect(locator(ax, renderer) \u001b[39mif\u001b[39;00m locator \u001b[39melse\u001b[39;00m \u001b[39mNone\u001b[39;00m)\n\u001b[0;32m    223\u001b[0m \u001b[39mfor\u001b[39;00m child \u001b[39min\u001b[39;00m ax\u001b[39m.\u001b[39mget_children():\n\u001b[1;32m--> 224\u001b[0m     \u001b[39mif\u001b[39;00m \u001b[39mhasattr\u001b[39m(child, \u001b[39m'\u001b[39m\u001b[39mapply_aspect\u001b[39m\u001b[39m'\u001b[39m):\n\u001b[0;32m    225\u001b[0m         locator \u001b[39m=\u001b[39m child\u001b[39m.\u001b[39mget_axes_locator()\n\u001b[0;32m    226\u001b[0m         child\u001b[39m.\u001b[39mapply_aspect(\n\u001b[0;32m    227\u001b[0m             locator(child, renderer) \u001b[39mif\u001b[39;00m locator \u001b[39melse\u001b[39;00m \u001b[39mNone\u001b[39;00m)\n",
      "\u001b[1;31mKeyboardInterrupt\u001b[0m: "
     ]
    },
    {
     "name": "stdout",
     "output_type": "stream",
     "text": [
      "Error in callback <function flush_figures at 0x00000234D9CCAB00> (for post_execute):\n"
     ]
    },
    {
     "ename": "KeyboardInterrupt",
     "evalue": "",
     "output_type": "error",
     "traceback": [
      "\u001b[1;31m---------------------------------------------------------------------------\u001b[0m",
      "\u001b[1;31mKeyboardInterrupt\u001b[0m                         Traceback (most recent call last)",
      "File \u001b[1;32m~\\AppData\\Local\\Packages\\PythonSoftwareFoundation.Python.3.10_qbz5n2kfra8p0\\LocalCache\\local-packages\\Python310\\site-packages\\matplotlib_inline\\backend_inline.py:126\u001b[0m, in \u001b[0;36mflush_figures\u001b[1;34m()\u001b[0m\n\u001b[0;32m    123\u001b[0m \u001b[39mif\u001b[39;00m InlineBackend\u001b[39m.\u001b[39minstance()\u001b[39m.\u001b[39mclose_figures:\n\u001b[0;32m    124\u001b[0m     \u001b[39m# ignore the tracking, just draw and close all figures\u001b[39;00m\n\u001b[0;32m    125\u001b[0m     \u001b[39mtry\u001b[39;00m:\n\u001b[1;32m--> 126\u001b[0m         \u001b[39mreturn\u001b[39;00m show(\u001b[39mTrue\u001b[39;49;00m)\n\u001b[0;32m    127\u001b[0m     \u001b[39mexcept\u001b[39;00m \u001b[39mException\u001b[39;00m \u001b[39mas\u001b[39;00m e:\n\u001b[0;32m    128\u001b[0m         \u001b[39m# safely show traceback if in IPython, else raise\u001b[39;00m\n\u001b[0;32m    129\u001b[0m         ip \u001b[39m=\u001b[39m get_ipython()\n",
      "File \u001b[1;32m~\\AppData\\Local\\Packages\\PythonSoftwareFoundation.Python.3.10_qbz5n2kfra8p0\\LocalCache\\local-packages\\Python310\\site-packages\\matplotlib_inline\\backend_inline.py:90\u001b[0m, in \u001b[0;36mshow\u001b[1;34m(close, block)\u001b[0m\n\u001b[0;32m     88\u001b[0m \u001b[39mtry\u001b[39;00m:\n\u001b[0;32m     89\u001b[0m     \u001b[39mfor\u001b[39;00m figure_manager \u001b[39min\u001b[39;00m Gcf\u001b[39m.\u001b[39mget_all_fig_managers():\n\u001b[1;32m---> 90\u001b[0m         display(\n\u001b[0;32m     91\u001b[0m             figure_manager\u001b[39m.\u001b[39;49mcanvas\u001b[39m.\u001b[39;49mfigure,\n\u001b[0;32m     92\u001b[0m             metadata\u001b[39m=\u001b[39;49m_fetch_figure_metadata(figure_manager\u001b[39m.\u001b[39;49mcanvas\u001b[39m.\u001b[39;49mfigure)\n\u001b[0;32m     93\u001b[0m         )\n\u001b[0;32m     94\u001b[0m \u001b[39mfinally\u001b[39;00m:\n\u001b[0;32m     95\u001b[0m     show\u001b[39m.\u001b[39m_to_draw \u001b[39m=\u001b[39m []\n",
      "File \u001b[1;32m~\\AppData\\Local\\Packages\\PythonSoftwareFoundation.Python.3.10_qbz5n2kfra8p0\\LocalCache\\local-packages\\Python310\\site-packages\\IPython\\core\\display_functions.py:298\u001b[0m, in \u001b[0;36mdisplay\u001b[1;34m(include, exclude, metadata, transient, display_id, raw, clear, *objs, **kwargs)\u001b[0m\n\u001b[0;32m    296\u001b[0m     publish_display_data(data\u001b[39m=\u001b[39mobj, metadata\u001b[39m=\u001b[39mmetadata, \u001b[39m*\u001b[39m\u001b[39m*\u001b[39mkwargs)\n\u001b[0;32m    297\u001b[0m \u001b[39melse\u001b[39;00m:\n\u001b[1;32m--> 298\u001b[0m     format_dict, md_dict \u001b[39m=\u001b[39m \u001b[39mformat\u001b[39;49m(obj, include\u001b[39m=\u001b[39;49minclude, exclude\u001b[39m=\u001b[39;49mexclude)\n\u001b[0;32m    299\u001b[0m     \u001b[39mif\u001b[39;00m \u001b[39mnot\u001b[39;00m format_dict:\n\u001b[0;32m    300\u001b[0m         \u001b[39m# nothing to display (e.g. _ipython_display_ took over)\u001b[39;00m\n\u001b[0;32m    301\u001b[0m         \u001b[39mcontinue\u001b[39;00m\n",
      "File \u001b[1;32m~\\AppData\\Local\\Packages\\PythonSoftwareFoundation.Python.3.10_qbz5n2kfra8p0\\LocalCache\\local-packages\\Python310\\site-packages\\IPython\\core\\formatters.py:177\u001b[0m, in \u001b[0;36mDisplayFormatter.format\u001b[1;34m(self, obj, include, exclude)\u001b[0m\n\u001b[0;32m    175\u001b[0m md \u001b[39m=\u001b[39m \u001b[39mNone\u001b[39;00m\n\u001b[0;32m    176\u001b[0m \u001b[39mtry\u001b[39;00m:\n\u001b[1;32m--> 177\u001b[0m     data \u001b[39m=\u001b[39m formatter(obj)\n\u001b[0;32m    178\u001b[0m \u001b[39mexcept\u001b[39;00m:\n\u001b[0;32m    179\u001b[0m     \u001b[39m# FIXME: log the exception\u001b[39;00m\n\u001b[0;32m    180\u001b[0m     \u001b[39mraise\u001b[39;00m\n",
      "File \u001b[1;32m~\\AppData\\Local\\Packages\\PythonSoftwareFoundation.Python.3.10_qbz5n2kfra8p0\\LocalCache\\local-packages\\Python310\\site-packages\\decorator.py:232\u001b[0m, in \u001b[0;36mdecorate.<locals>.fun\u001b[1;34m(*args, **kw)\u001b[0m\n\u001b[0;32m    230\u001b[0m \u001b[39mif\u001b[39;00m \u001b[39mnot\u001b[39;00m kwsyntax:\n\u001b[0;32m    231\u001b[0m     args, kw \u001b[39m=\u001b[39m fix(args, kw, sig)\n\u001b[1;32m--> 232\u001b[0m \u001b[39mreturn\u001b[39;00m caller(func, \u001b[39m*\u001b[39m(extras \u001b[39m+\u001b[39m args), \u001b[39m*\u001b[39m\u001b[39m*\u001b[39mkw)\n",
      "File \u001b[1;32m~\\AppData\\Local\\Packages\\PythonSoftwareFoundation.Python.3.10_qbz5n2kfra8p0\\LocalCache\\local-packages\\Python310\\site-packages\\IPython\\core\\formatters.py:221\u001b[0m, in \u001b[0;36mcatch_format_error\u001b[1;34m(method, self, *args, **kwargs)\u001b[0m\n\u001b[0;32m    219\u001b[0m \u001b[39m\u001b[39m\u001b[39m\"\"\"show traceback on failed format call\"\"\"\u001b[39;00m\n\u001b[0;32m    220\u001b[0m \u001b[39mtry\u001b[39;00m:\n\u001b[1;32m--> 221\u001b[0m     r \u001b[39m=\u001b[39m method(\u001b[39mself\u001b[39m, \u001b[39m*\u001b[39margs, \u001b[39m*\u001b[39m\u001b[39m*\u001b[39mkwargs)\n\u001b[0;32m    222\u001b[0m \u001b[39mexcept\u001b[39;00m \u001b[39mNotImplementedError\u001b[39;00m:\n\u001b[0;32m    223\u001b[0m     \u001b[39m# don't warn on NotImplementedErrors\u001b[39;00m\n\u001b[0;32m    224\u001b[0m     \u001b[39mreturn\u001b[39;00m \u001b[39mself\u001b[39m\u001b[39m.\u001b[39m_check_return(\u001b[39mNone\u001b[39;00m, args[\u001b[39m0\u001b[39m])\n",
      "File \u001b[1;32m~\\AppData\\Local\\Packages\\PythonSoftwareFoundation.Python.3.10_qbz5n2kfra8p0\\LocalCache\\local-packages\\Python310\\site-packages\\IPython\\core\\formatters.py:338\u001b[0m, in \u001b[0;36mBaseFormatter.__call__\u001b[1;34m(self, obj)\u001b[0m\n\u001b[0;32m    336\u001b[0m     \u001b[39mpass\u001b[39;00m\n\u001b[0;32m    337\u001b[0m \u001b[39melse\u001b[39;00m:\n\u001b[1;32m--> 338\u001b[0m     \u001b[39mreturn\u001b[39;00m printer(obj)\n\u001b[0;32m    339\u001b[0m \u001b[39m# Finally look for special method names\u001b[39;00m\n\u001b[0;32m    340\u001b[0m method \u001b[39m=\u001b[39m get_real_method(obj, \u001b[39mself\u001b[39m\u001b[39m.\u001b[39mprint_method)\n",
      "File \u001b[1;32m~\\AppData\\Local\\Packages\\PythonSoftwareFoundation.Python.3.10_qbz5n2kfra8p0\\LocalCache\\local-packages\\Python310\\site-packages\\IPython\\core\\pylabtools.py:152\u001b[0m, in \u001b[0;36mprint_figure\u001b[1;34m(fig, fmt, bbox_inches, base64, **kwargs)\u001b[0m\n\u001b[0;32m    149\u001b[0m     \u001b[39mfrom\u001b[39;00m \u001b[39mmatplotlib\u001b[39;00m\u001b[39m.\u001b[39;00m\u001b[39mbackend_bases\u001b[39;00m \u001b[39mimport\u001b[39;00m FigureCanvasBase\n\u001b[0;32m    150\u001b[0m     FigureCanvasBase(fig)\n\u001b[1;32m--> 152\u001b[0m fig\u001b[39m.\u001b[39mcanvas\u001b[39m.\u001b[39mprint_figure(bytes_io, \u001b[39m*\u001b[39m\u001b[39m*\u001b[39mkw)\n\u001b[0;32m    153\u001b[0m data \u001b[39m=\u001b[39m bytes_io\u001b[39m.\u001b[39mgetvalue()\n\u001b[0;32m    154\u001b[0m \u001b[39mif\u001b[39;00m fmt \u001b[39m==\u001b[39m \u001b[39m'\u001b[39m\u001b[39msvg\u001b[39m\u001b[39m'\u001b[39m:\n",
      "File \u001b[1;32m~\\AppData\\Local\\Packages\\PythonSoftwareFoundation.Python.3.10_qbz5n2kfra8p0\\LocalCache\\local-packages\\Python310\\site-packages\\matplotlib\\backend_bases.py:2342\u001b[0m, in \u001b[0;36mFigureCanvasBase.print_figure\u001b[1;34m(self, filename, dpi, facecolor, edgecolor, orientation, format, bbox_inches, pad_inches, bbox_extra_artists, backend, **kwargs)\u001b[0m\n\u001b[0;32m   2336\u001b[0m     renderer \u001b[39m=\u001b[39m _get_renderer(\n\u001b[0;32m   2337\u001b[0m         \u001b[39mself\u001b[39m\u001b[39m.\u001b[39mfigure,\n\u001b[0;32m   2338\u001b[0m         functools\u001b[39m.\u001b[39mpartial(\n\u001b[0;32m   2339\u001b[0m             print_method, orientation\u001b[39m=\u001b[39morientation)\n\u001b[0;32m   2340\u001b[0m     )\n\u001b[0;32m   2341\u001b[0m     \u001b[39mwith\u001b[39;00m \u001b[39mgetattr\u001b[39m(renderer, \u001b[39m\"\u001b[39m\u001b[39m_draw_disabled\u001b[39m\u001b[39m\"\u001b[39m, nullcontext)():\n\u001b[1;32m-> 2342\u001b[0m         \u001b[39mself\u001b[39;49m\u001b[39m.\u001b[39;49mfigure\u001b[39m.\u001b[39;49mdraw(renderer)\n\u001b[0;32m   2344\u001b[0m \u001b[39mif\u001b[39;00m bbox_inches:\n\u001b[0;32m   2345\u001b[0m     \u001b[39mif\u001b[39;00m bbox_inches \u001b[39m==\u001b[39m \u001b[39m\"\u001b[39m\u001b[39mtight\u001b[39m\u001b[39m\"\u001b[39m:\n",
      "File \u001b[1;32m~\\AppData\\Local\\Packages\\PythonSoftwareFoundation.Python.3.10_qbz5n2kfra8p0\\LocalCache\\local-packages\\Python310\\site-packages\\matplotlib\\artist.py:95\u001b[0m, in \u001b[0;36m_finalize_rasterization.<locals>.draw_wrapper\u001b[1;34m(artist, renderer, *args, **kwargs)\u001b[0m\n\u001b[0;32m     93\u001b[0m \u001b[39m@wraps\u001b[39m(draw)\n\u001b[0;32m     94\u001b[0m \u001b[39mdef\u001b[39;00m \u001b[39mdraw_wrapper\u001b[39m(artist, renderer, \u001b[39m*\u001b[39margs, \u001b[39m*\u001b[39m\u001b[39m*\u001b[39mkwargs):\n\u001b[1;32m---> 95\u001b[0m     result \u001b[39m=\u001b[39m draw(artist, renderer, \u001b[39m*\u001b[39margs, \u001b[39m*\u001b[39m\u001b[39m*\u001b[39mkwargs)\n\u001b[0;32m     96\u001b[0m     \u001b[39mif\u001b[39;00m renderer\u001b[39m.\u001b[39m_rasterizing:\n\u001b[0;32m     97\u001b[0m         renderer\u001b[39m.\u001b[39mstop_rasterizing()\n",
      "File \u001b[1;32m~\\AppData\\Local\\Packages\\PythonSoftwareFoundation.Python.3.10_qbz5n2kfra8p0\\LocalCache\\local-packages\\Python310\\site-packages\\matplotlib\\artist.py:72\u001b[0m, in \u001b[0;36mallow_rasterization.<locals>.draw_wrapper\u001b[1;34m(artist, renderer)\u001b[0m\n\u001b[0;32m     69\u001b[0m     \u001b[39mif\u001b[39;00m artist\u001b[39m.\u001b[39mget_agg_filter() \u001b[39mis\u001b[39;00m \u001b[39mnot\u001b[39;00m \u001b[39mNone\u001b[39;00m:\n\u001b[0;32m     70\u001b[0m         renderer\u001b[39m.\u001b[39mstart_filter()\n\u001b[1;32m---> 72\u001b[0m     \u001b[39mreturn\u001b[39;00m draw(artist, renderer)\n\u001b[0;32m     73\u001b[0m \u001b[39mfinally\u001b[39;00m:\n\u001b[0;32m     74\u001b[0m     \u001b[39mif\u001b[39;00m artist\u001b[39m.\u001b[39mget_agg_filter() \u001b[39mis\u001b[39;00m \u001b[39mnot\u001b[39;00m \u001b[39mNone\u001b[39;00m:\n",
      "File \u001b[1;32m~\\AppData\\Local\\Packages\\PythonSoftwareFoundation.Python.3.10_qbz5n2kfra8p0\\LocalCache\\local-packages\\Python310\\site-packages\\matplotlib\\figure.py:3140\u001b[0m, in \u001b[0;36mFigure.draw\u001b[1;34m(self, renderer)\u001b[0m\n\u001b[0;32m   3137\u001b[0m         \u001b[39m# ValueError can occur when resizing a window.\u001b[39;00m\n\u001b[0;32m   3139\u001b[0m \u001b[39mself\u001b[39m\u001b[39m.\u001b[39mpatch\u001b[39m.\u001b[39mdraw(renderer)\n\u001b[1;32m-> 3140\u001b[0m mimage\u001b[39m.\u001b[39;49m_draw_list_compositing_images(\n\u001b[0;32m   3141\u001b[0m     renderer, \u001b[39mself\u001b[39;49m, artists, \u001b[39mself\u001b[39;49m\u001b[39m.\u001b[39;49msuppressComposite)\n\u001b[0;32m   3143\u001b[0m \u001b[39mfor\u001b[39;00m sfig \u001b[39min\u001b[39;00m \u001b[39mself\u001b[39m\u001b[39m.\u001b[39msubfigs:\n\u001b[0;32m   3144\u001b[0m     sfig\u001b[39m.\u001b[39mdraw(renderer)\n",
      "File \u001b[1;32m~\\AppData\\Local\\Packages\\PythonSoftwareFoundation.Python.3.10_qbz5n2kfra8p0\\LocalCache\\local-packages\\Python310\\site-packages\\matplotlib\\image.py:131\u001b[0m, in \u001b[0;36m_draw_list_compositing_images\u001b[1;34m(renderer, parent, artists, suppress_composite)\u001b[0m\n\u001b[0;32m    129\u001b[0m \u001b[39mif\u001b[39;00m not_composite \u001b[39mor\u001b[39;00m \u001b[39mnot\u001b[39;00m has_images:\n\u001b[0;32m    130\u001b[0m     \u001b[39mfor\u001b[39;00m a \u001b[39min\u001b[39;00m artists:\n\u001b[1;32m--> 131\u001b[0m         a\u001b[39m.\u001b[39;49mdraw(renderer)\n\u001b[0;32m    132\u001b[0m \u001b[39melse\u001b[39;00m:\n\u001b[0;32m    133\u001b[0m     \u001b[39m# Composite any adjacent images together\u001b[39;00m\n\u001b[0;32m    134\u001b[0m     image_group \u001b[39m=\u001b[39m []\n",
      "File \u001b[1;32m~\\AppData\\Local\\Packages\\PythonSoftwareFoundation.Python.3.10_qbz5n2kfra8p0\\LocalCache\\local-packages\\Python310\\site-packages\\matplotlib\\artist.py:72\u001b[0m, in \u001b[0;36mallow_rasterization.<locals>.draw_wrapper\u001b[1;34m(artist, renderer)\u001b[0m\n\u001b[0;32m     69\u001b[0m     \u001b[39mif\u001b[39;00m artist\u001b[39m.\u001b[39mget_agg_filter() \u001b[39mis\u001b[39;00m \u001b[39mnot\u001b[39;00m \u001b[39mNone\u001b[39;00m:\n\u001b[0;32m     70\u001b[0m         renderer\u001b[39m.\u001b[39mstart_filter()\n\u001b[1;32m---> 72\u001b[0m     \u001b[39mreturn\u001b[39;00m draw(artist, renderer)\n\u001b[0;32m     73\u001b[0m \u001b[39mfinally\u001b[39;00m:\n\u001b[0;32m     74\u001b[0m     \u001b[39mif\u001b[39;00m artist\u001b[39m.\u001b[39mget_agg_filter() \u001b[39mis\u001b[39;00m \u001b[39mnot\u001b[39;00m \u001b[39mNone\u001b[39;00m:\n",
      "File \u001b[1;32m~\\AppData\\Local\\Packages\\PythonSoftwareFoundation.Python.3.10_qbz5n2kfra8p0\\LocalCache\\local-packages\\Python310\\site-packages\\matplotlib\\axes\\_base.py:3064\u001b[0m, in \u001b[0;36m_AxesBase.draw\u001b[1;34m(self, renderer)\u001b[0m\n\u001b[0;32m   3061\u001b[0m \u001b[39mif\u001b[39;00m artists_rasterized:\n\u001b[0;32m   3062\u001b[0m     _draw_rasterized(\u001b[39mself\u001b[39m\u001b[39m.\u001b[39mfigure, artists_rasterized, renderer)\n\u001b[1;32m-> 3064\u001b[0m mimage\u001b[39m.\u001b[39;49m_draw_list_compositing_images(\n\u001b[0;32m   3065\u001b[0m     renderer, \u001b[39mself\u001b[39;49m, artists, \u001b[39mself\u001b[39;49m\u001b[39m.\u001b[39;49mfigure\u001b[39m.\u001b[39;49msuppressComposite)\n\u001b[0;32m   3067\u001b[0m renderer\u001b[39m.\u001b[39mclose_group(\u001b[39m'\u001b[39m\u001b[39maxes\u001b[39m\u001b[39m'\u001b[39m)\n\u001b[0;32m   3068\u001b[0m \u001b[39mself\u001b[39m\u001b[39m.\u001b[39mstale \u001b[39m=\u001b[39m \u001b[39mFalse\u001b[39;00m\n",
      "File \u001b[1;32m~\\AppData\\Local\\Packages\\PythonSoftwareFoundation.Python.3.10_qbz5n2kfra8p0\\LocalCache\\local-packages\\Python310\\site-packages\\matplotlib\\image.py:131\u001b[0m, in \u001b[0;36m_draw_list_compositing_images\u001b[1;34m(renderer, parent, artists, suppress_composite)\u001b[0m\n\u001b[0;32m    129\u001b[0m \u001b[39mif\u001b[39;00m not_composite \u001b[39mor\u001b[39;00m \u001b[39mnot\u001b[39;00m has_images:\n\u001b[0;32m    130\u001b[0m     \u001b[39mfor\u001b[39;00m a \u001b[39min\u001b[39;00m artists:\n\u001b[1;32m--> 131\u001b[0m         a\u001b[39m.\u001b[39;49mdraw(renderer)\n\u001b[0;32m    132\u001b[0m \u001b[39melse\u001b[39;00m:\n\u001b[0;32m    133\u001b[0m     \u001b[39m# Composite any adjacent images together\u001b[39;00m\n\u001b[0;32m    134\u001b[0m     image_group \u001b[39m=\u001b[39m []\n",
      "File \u001b[1;32m~\\AppData\\Local\\Packages\\PythonSoftwareFoundation.Python.3.10_qbz5n2kfra8p0\\LocalCache\\local-packages\\Python310\\site-packages\\matplotlib\\artist.py:72\u001b[0m, in \u001b[0;36mallow_rasterization.<locals>.draw_wrapper\u001b[1;34m(artist, renderer)\u001b[0m\n\u001b[0;32m     69\u001b[0m     \u001b[39mif\u001b[39;00m artist\u001b[39m.\u001b[39mget_agg_filter() \u001b[39mis\u001b[39;00m \u001b[39mnot\u001b[39;00m \u001b[39mNone\u001b[39;00m:\n\u001b[0;32m     70\u001b[0m         renderer\u001b[39m.\u001b[39mstart_filter()\n\u001b[1;32m---> 72\u001b[0m     \u001b[39mreturn\u001b[39;00m draw(artist, renderer)\n\u001b[0;32m     73\u001b[0m \u001b[39mfinally\u001b[39;00m:\n\u001b[0;32m     74\u001b[0m     \u001b[39mif\u001b[39;00m artist\u001b[39m.\u001b[39mget_agg_filter() \u001b[39mis\u001b[39;00m \u001b[39mnot\u001b[39;00m \u001b[39mNone\u001b[39;00m:\n",
      "File \u001b[1;32m~\\AppData\\Local\\Packages\\PythonSoftwareFoundation.Python.3.10_qbz5n2kfra8p0\\LocalCache\\local-packages\\Python310\\site-packages\\matplotlib\\text.py:2027\u001b[0m, in \u001b[0;36mAnnotation.draw\u001b[1;34m(self, renderer)\u001b[0m\n\u001b[0;32m   2024\u001b[0m     \u001b[39mreturn\u001b[39;00m\n\u001b[0;32m   2025\u001b[0m \u001b[39m# Update text positions before `Text.draw` would, so that the\u001b[39;00m\n\u001b[0;32m   2026\u001b[0m \u001b[39m# FancyArrowPatch is correctly positioned.\u001b[39;00m\n\u001b[1;32m-> 2027\u001b[0m \u001b[39mself\u001b[39;49m\u001b[39m.\u001b[39;49mupdate_positions(renderer)\n\u001b[0;32m   2028\u001b[0m \u001b[39mself\u001b[39m\u001b[39m.\u001b[39mupdate_bbox_position_size(renderer)\n\u001b[0;32m   2029\u001b[0m \u001b[39mif\u001b[39;00m \u001b[39mself\u001b[39m\u001b[39m.\u001b[39marrow_patch \u001b[39mis\u001b[39;00m \u001b[39mnot\u001b[39;00m \u001b[39mNone\u001b[39;00m:  \u001b[39m# FancyArrowPatch\u001b[39;00m\n",
      "File \u001b[1;32m~\\AppData\\Local\\Packages\\PythonSoftwareFoundation.Python.3.10_qbz5n2kfra8p0\\LocalCache\\local-packages\\Python310\\site-packages\\matplotlib\\text.py:1954\u001b[0m, in \u001b[0;36mAnnotation.update_positions\u001b[1;34m(self, renderer)\u001b[0m\n\u001b[0;32m   1950\u001b[0m \u001b[39m\u001b[39m\u001b[39m\"\"\"\u001b[39;00m\n\u001b[0;32m   1951\u001b[0m \u001b[39mUpdate the pixel positions of the annotation text and the arrow patch.\u001b[39;00m\n\u001b[0;32m   1952\u001b[0m \u001b[39m\"\"\"\u001b[39;00m\n\u001b[0;32m   1953\u001b[0m \u001b[39m# generate transformation\u001b[39;00m\n\u001b[1;32m-> 1954\u001b[0m \u001b[39mself\u001b[39m\u001b[39m.\u001b[39mset_transform(\u001b[39mself\u001b[39;49m\u001b[39m.\u001b[39;49m_get_xy_transform(renderer, \u001b[39mself\u001b[39;49m\u001b[39m.\u001b[39;49manncoords))\n\u001b[0;32m   1956\u001b[0m arrowprops \u001b[39m=\u001b[39m \u001b[39mself\u001b[39m\u001b[39m.\u001b[39marrowprops\n\u001b[0;32m   1957\u001b[0m \u001b[39mif\u001b[39;00m arrowprops \u001b[39mis\u001b[39;00m \u001b[39mNone\u001b[39;00m:\n",
      "File \u001b[1;32m~\\AppData\\Local\\Packages\\PythonSoftwareFoundation.Python.3.10_qbz5n2kfra8p0\\LocalCache\\local-packages\\Python310\\site-packages\\matplotlib\\text.py:1555\u001b[0m, in \u001b[0;36m_AnnotationBase._get_xy_transform\u001b[1;34m(self, renderer, s)\u001b[0m\n\u001b[0;32m   1553\u001b[0m \u001b[39melif\u001b[39;00m unit \u001b[39m==\u001b[39m \u001b[39m\"\u001b[39m\u001b[39mfraction\u001b[39m\u001b[39m\"\u001b[39m:\n\u001b[0;32m   1554\u001b[0m     w, h \u001b[39m=\u001b[39m bbox0\u001b[39m.\u001b[39msize\n\u001b[1;32m-> 1555\u001b[0m     tr \u001b[39m=\u001b[39m Affine2D()\u001b[39m.\u001b[39mscale(w, h)\n\u001b[0;32m   1556\u001b[0m \u001b[39melse\u001b[39;00m:\n\u001b[0;32m   1557\u001b[0m     \u001b[39mraise\u001b[39;00m \u001b[39mValueError\u001b[39;00m(\u001b[39mf\u001b[39m\u001b[39m\"\u001b[39m\u001b[39m{\u001b[39;00munit\u001b[39m!r}\u001b[39;00m\u001b[39m is not a recognized unit\u001b[39m\u001b[39m\"\u001b[39m)\n",
      "File \u001b[1;32m~\\AppData\\Local\\Packages\\PythonSoftwareFoundation.Python.3.10_qbz5n2kfra8p0\\LocalCache\\local-packages\\Python310\\site-packages\\matplotlib\\transforms.py:1895\u001b[0m, in \u001b[0;36mAffine2D.__init__\u001b[1;34m(self, matrix, **kwargs)\u001b[0m\n\u001b[0;32m   1892\u001b[0m \u001b[39mif\u001b[39;00m matrix \u001b[39mis\u001b[39;00m \u001b[39mNone\u001b[39;00m:\n\u001b[0;32m   1893\u001b[0m     \u001b[39m# A bit faster than np.identity(3).\u001b[39;00m\n\u001b[0;32m   1894\u001b[0m     matrix \u001b[39m=\u001b[39m IdentityTransform\u001b[39m.\u001b[39m_mtx\n\u001b[1;32m-> 1895\u001b[0m \u001b[39mself\u001b[39m\u001b[39m.\u001b[39m_mtx \u001b[39m=\u001b[39m matrix\u001b[39m.\u001b[39;49mcopy()\n\u001b[0;32m   1896\u001b[0m \u001b[39mself\u001b[39m\u001b[39m.\u001b[39m_invalid \u001b[39m=\u001b[39m \u001b[39m0\u001b[39m\n",
      "\u001b[1;31mKeyboardInterrupt\u001b[0m: "
     ]
    }
   ],
   "source": [
    "evaluate_model(best_model)"
   ]
  },
  {
   "cell_type": "code",
   "execution_count": null,
   "metadata": {},
   "outputs": [],
   "source": [
    "predict_model(best_model, data=color_filters_df)"
   ]
  },
  {
   "cell_type": "code",
   "execution_count": 7,
   "metadata": {},
   "outputs": [
    {
     "name": "stdout",
     "output_type": "stream",
     "text": [
      "(408167,)\n"
>>>>>>> 618092b7e408e11d77bf04a7856371c50cd090bc
     ]
    }
   ],
   "source": [
    "#plot the each X vs y\n",
    "# plt.figure(figsize=(15, 5))\n",
    "# plt.subplot(1, 4, 1)\n",
    "# plt.scatter(X_train[:, 0], y_train, s=1, label='train')\n",
    "# plt.scatter(X_test[:, 0], y_test, s=1, label='test')\n",
    "# plt.xlabel('u_g')\n",
    "# plt.ylabel('temperature')\n",
    "# plt.legend()\n",
    "print(y.shape)"
   ]
  },
  {
   "cell_type": "code",
<<<<<<< HEAD
   "execution_count": 12,
=======
   "execution_count": 8,
>>>>>>> 618092b7e408e11d77bf04a7856371c50cd090bc
   "metadata": {},
   "outputs": [],
   "source": [
    "model = tf.keras.Sequential([\n",
    "    tf.keras.layers.Dense(64, activation='relu', input_shape=(5,)), #change input shape based on how many u using\n",
    "    tf.keras.layers.Dense(64, activation='relu'),\n",
    "    tf.keras.layers.Dense(32, activation='relu'),\n",
    "    tf.keras.layers.Dense(32, activation='relu'),\n",
    "    tf.keras.layers.Dense(1)  #1 neuron output\n",
    "])\n",
    "\n",
    "model.compile(optimizer='adam', loss='mean_squared_error', metrics=['mae'])"
   ]
  },
  {
   "cell_type": "code",
<<<<<<< HEAD
   "execution_count": 13,
=======
   "execution_count": 9,
>>>>>>> 618092b7e408e11d77bf04a7856371c50cd090bc
   "metadata": {},
   "outputs": [
    {
     "name": "stdout",
     "output_type": "stream",
     "text": [
      "Epoch 1/20\n",
<<<<<<< HEAD
      "8178/8178 [==============================] - 5s 574us/step - loss: 734245440.0000 - mae: 864.3982 - val_loss: 10407012.0000 - val_mae: 776.3455\n",
      "Epoch 2/20\n",
      "8178/8178 [==============================] - 5s 569us/step - loss: 47781956.0000 - mae: 883.8123 - val_loss: 4500347.5000 - val_mae: 734.1991\n",
      "Epoch 3/20\n",
      "8178/8178 [==============================] - 5s 563us/step - loss: 16848590.0000 - mae: 1072.7838 - val_loss: 2256974.2500 - val_mae: 794.2916\n",
      "Epoch 4/20\n",
      "8178/8178 [==============================] - 5s 567us/step - loss: 1738821.5000 - mae: 669.9418 - val_loss: 364439.0000 - val_mae: 465.0385\n",
      "Epoch 5/20\n",
      "8178/8178 [==============================] - 5s 568us/step - loss: 5773812.0000 - mae: 519.7891 - val_loss: 233838.1250 - val_mae: 298.7083\n",
      "Epoch 6/20\n",
      "8178/8178 [==============================] - 5s 576us/step - loss: 1250798.2500 - mae: 331.9369 - val_loss: 931939.1875 - val_mae: 874.5661\n",
      "Epoch 7/20\n",
      "8178/8178 [==============================] - 5s 551us/step - loss: 453357.4688 - mae: 316.2946 - val_loss: 217697.4219 - val_mae: 300.6141\n",
      "Epoch 8/20\n",
      "8178/8178 [==============================] - 5s 567us/step - loss: 223342.2188 - mae: 300.0305 - val_loss: 206027.0000 - val_mae: 292.4250\n",
      "Epoch 9/20\n",
      "8178/8178 [==============================] - 5s 555us/step - loss: 230582.6250 - mae: 296.0449 - val_loss: 199374.5000 - val_mae: 287.4193\n",
      "Epoch 10/20\n",
      "8178/8178 [==============================] - 5s 558us/step - loss: 209668.4062 - mae: 284.4663 - val_loss: 183668.5625 - val_mae: 269.1421\n",
      "Epoch 11/20\n",
      "8178/8178 [==============================] - 5s 557us/step - loss: 366143.1250 - mae: 275.6076 - val_loss: 177247.0156 - val_mae: 270.6665\n",
      "Epoch 12/20\n",
      "8178/8178 [==============================] - 5s 594us/step - loss: 194470.8125 - mae: 265.0369 - val_loss: 169709.4688 - val_mae: 258.4338\n",
      "Epoch 13/20\n",
      "8178/8178 [==============================] - 5s 571us/step - loss: 180142.2188 - mae: 254.1922 - val_loss: 183611.8750 - val_mae: 253.2900\n",
      "Epoch 14/20\n",
      "8178/8178 [==============================] - 5s 567us/step - loss: 251557.7188 - mae: 248.1636 - val_loss: 156910.2188 - val_mae: 227.3134\n",
      "Epoch 15/20\n",
      "8178/8178 [==============================] - 5s 565us/step - loss: 161870.0156 - mae: 244.0166 - val_loss: 152736.5312 - val_mae: 236.5029\n",
      "Epoch 16/20\n",
      "8178/8178 [==============================] - 5s 568us/step - loss: 249322.5625 - mae: 243.0934 - val_loss: 154496.2656 - val_mae: 236.1057\n",
      "Epoch 17/20\n",
      "8178/8178 [==============================] - 5s 568us/step - loss: 156409.8906 - mae: 240.6333 - val_loss: 152421.7500 - val_mae: 236.2497\n",
      "Epoch 18/20\n",
      "8178/8178 [==============================] - 5s 588us/step - loss: 154077.9531 - mae: 240.5065 - val_loss: 151257.5938 - val_mae: 244.4793\n",
      "Epoch 19/20\n",
      "8178/8178 [==============================] - 5s 586us/step - loss: 153146.2344 - mae: 238.9267 - val_loss: 372187.5938 - val_mae: 234.1851\n",
      "Epoch 20/20\n",
      "8178/8178 [==============================] - 5s 587us/step - loss: 365625.3438 - mae: 238.3288 - val_loss: 146122.9688 - val_mae: 230.0510\n"
=======
      "8164/8164 [==============================] - 11s 1ms/step - loss: 241604960.0000 - mae: 849.8403 - val_loss: 11081843.0000 - val_mae: 488.9012\n",
      "Epoch 2/20\n",
      "8164/8164 [==============================] - 11s 1ms/step - loss: 37845360.0000 - mae: 594.4327 - val_loss: 5232641.5000 - val_mae: 2111.0188\n",
      "Epoch 3/20\n",
      "8164/8164 [==============================] - 10s 1ms/step - loss: 3282172.0000 - mae: 745.3661 - val_loss: 22382222.0000 - val_mae: 4665.9268\n",
      "Epoch 4/20\n",
      "8164/8164 [==============================] - 10s 1ms/step - loss: 4535450.5000 - mae: 724.0488 - val_loss: 277351.8750 - val_mae: 380.5016\n",
      "Epoch 5/20\n",
      "8164/8164 [==============================] - 11s 1ms/step - loss: 1705443.6250 - mae: 472.7396 - val_loss: 746779.3750 - val_mae: 316.8929\n",
      "Epoch 6/20\n",
      "8164/8164 [==============================] - 11s 1ms/step - loss: 2131497.2500 - mae: 367.5248 - val_loss: 1493006.2500 - val_mae: 340.8845\n",
      "Epoch 7/20\n",
      "8164/8164 [==============================] - 10s 1ms/step - loss: 2553193.0000 - mae: 343.3407 - val_loss: 642093.6250 - val_mae: 300.6322\n",
      "Epoch 8/20\n",
      "8164/8164 [==============================] - 10s 1ms/step - loss: 1112768.0000 - mae: 308.1335 - val_loss: 192085.7656 - val_mae: 290.6791\n",
      "Epoch 9/20\n",
      "8164/8164 [==============================] - 10s 1ms/step - loss: 371895.7812 - mae: 291.6787 - val_loss: 270794.7812 - val_mae: 357.0627\n",
      "Epoch 10/20\n",
      "8164/8164 [==============================] - 10s 1ms/step - loss: 313304.9375 - mae: 285.3466 - val_loss: 182091.9844 - val_mae: 280.2446\n",
      "Epoch 11/20\n",
      "8164/8164 [==============================] - 10s 1ms/step - loss: 742575.9375 - mae: 289.7481 - val_loss: 182932.7969 - val_mae: 277.2464\n",
      "Epoch 12/20\n",
      "8164/8164 [==============================] - 10s 1ms/step - loss: 268457.9375 - mae: 280.9064 - val_loss: 181988.8750 - val_mae: 269.1299\n",
      "Epoch 13/20\n",
      "8164/8164 [==============================] - 10s 1ms/step - loss: 377625.1875 - mae: 279.2701 - val_loss: 200104.9688 - val_mae: 265.5840\n",
      "Epoch 14/20\n",
      "8164/8164 [==============================] - 10s 1ms/step - loss: 379493.5625 - mae: 278.6233 - val_loss: 174624.8906 - val_mae: 263.5660\n",
      "Epoch 15/20\n",
      "8164/8164 [==============================] - 10s 1ms/step - loss: 970789.1250 - mae: 274.2777 - val_loss: 177851.0000 - val_mae: 279.2478\n",
      "Epoch 16/20\n",
      "8164/8164 [==============================] - 10s 1ms/step - loss: 272049.3750 - mae: 273.7067 - val_loss: 186616.6250 - val_mae: 266.4752\n",
      "Epoch 17/20\n",
      "8164/8164 [==============================] - 10s 1ms/step - loss: 224365.6250 - mae: 272.0252 - val_loss: 171024.9688 - val_mae: 275.9780\n",
      "Epoch 18/20\n",
      "8164/8164 [==============================] - 12s 1ms/step - loss: 231508.2344 - mae: 269.4719 - val_loss: 168305.6406 - val_mae: 265.0342\n",
      "Epoch 19/20\n",
      "8164/8164 [==============================] - 10s 1ms/step - loss: 235367.1250 - mae: 266.7546 - val_loss: 168026.5625 - val_mae: 274.0514\n",
      "Epoch 20/20\n",
      "8164/8164 [==============================] - 11s 1ms/step - loss: 245332.3906 - mae: 266.7659 - val_loss: 185320.7812 - val_mae: 262.8191\n"
>>>>>>> 618092b7e408e11d77bf04a7856371c50cd090bc
     ]
    },
    {
     "data": {
      "text/plain": [
<<<<<<< HEAD
       "<keras.src.callbacks.History at 0x28f89ea50>"
      ]
     },
     "execution_count": 13,
=======
       "<keras.src.callbacks.History at 0x1c432078be0>"
      ]
     },
     "execution_count": 9,
>>>>>>> 618092b7e408e11d77bf04a7856371c50cd090bc
     "metadata": {},
     "output_type": "execute_result"
    }
   ],
   "source": [
    "model.fit(X_train, y_train, epochs=20, batch_size=32, validation_split=0.2)"
   ]
  },
  {
   "cell_type": "code",
<<<<<<< HEAD
   "execution_count": 14,
=======
   "execution_count": 10,
>>>>>>> 618092b7e408e11d77bf04a7856371c50cd090bc
   "metadata": {},
   "outputs": [
    {
     "name": "stdout",
     "output_type": "stream",
     "text": [
<<<<<<< HEAD
      "2556/2556 [==============================] - 1s 298us/step - loss: 144047.4219 - mae: 228.0791\n",
      "[144047.421875, 228.0791473388672]\n"
=======
      "2552/2552 [==============================] - 2s 832us/step - loss: 477405.6250 - mae: 264.8571\n",
      "[477405.625, 264.85711669921875]\n"
>>>>>>> 618092b7e408e11d77bf04a7856371c50cd090bc
     ]
    }
   ],
   "source": [
    "#print accuracy of model\n",
    "print(model.evaluate(X_test, y_test))"
   ]
  },
  {
   "cell_type": "code",
<<<<<<< HEAD
   "execution_count": 15,
=======
   "execution_count": 11,
>>>>>>> 618092b7e408e11d77bf04a7856371c50cd090bc
   "metadata": {},
   "outputs": [
    {
     "name": "stdout",
     "output_type": "stream",
     "text": [
<<<<<<< HEAD
      "2556/2556 [==============================] - 1s 251us/step\n"
=======
      "2552/2552 [==============================] - 2s 772us/step\n"
>>>>>>> 618092b7e408e11d77bf04a7856371c50cd090bc
     ]
    }
   ],
   "source": [
    "predictions = model.predict(X_test)\n",
    "\n",
    "#assign max to a really low number\n",
    "max = -10000000\n",
    "#assign min to a really high number\n",
    "min = 10000000\n",
    "\n",
    "avg = 0\n",
    "\n",
    "for i in range(len(X_test)):\n",
    "    # print(\"Input:\", X_test[i])\n",
    "    #if actual output is greater than 250000, then pritn it\n",
    "    if predictions[i][0] > 250000: # HAD y_test[i] == 4353\n",
    "        print(\"Input:\", X_train[i])\n",
    "        print(\"Expected Output:\", y_test[i])\n",
    "        print(\"Actual Output:\", predictions[i][0])  # predictions[i] is a 2D array, so we access the value with [0]\n",
    "        print()\n",
    "    #update max and min accordingly, based on difference in expected and actual output\n",
    "    if abs(y_test[i] - predictions[i][0]) > max:\n",
    "        max = abs(y_test[i] - predictions[i][0])\n",
    "    if abs(y_test[i] - predictions[i][0]) < min:\n",
    "        min = abs(y_test[i] - predictions[i][0])\n",
    "    avg += abs(y_test[i] - predictions[i][0])\n",
    "avg = avg / len(X_test)\n",
    "# print(min, max, avg)"
   ]
  },
  {
   "cell_type": "code",
<<<<<<< HEAD
   "execution_count": 16,
=======
   "execution_count": 12,
>>>>>>> 618092b7e408e11d77bf04a7856371c50cd090bc
   "metadata": {},
   "outputs": [
    {
     "name": "stdout",
     "output_type": "stream",
     "text": [
<<<<<<< HEAD
      "R2 Score: 0.8323601326925038\n"
=======
      "R2 Score: 0.410421062855565\n"
>>>>>>> 618092b7e408e11d77bf04a7856371c50cd090bc
     ]
    }
   ],
   "source": [
    "r2 = r2_score(y_test, predictions)\n",
    "print(\"R2 Score:\", r2)"
   ]
  },
  {
   "cell_type": "code",
<<<<<<< HEAD
   "execution_count": 17,
=======
   "execution_count": 183,
>>>>>>> 618092b7e408e11d77bf04a7856371c50cd090bc
   "metadata": {},
   "outputs": [
    {
     "data": {
<<<<<<< HEAD
      "image/png": "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",
=======
      "image/png": "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",
>>>>>>> 618092b7e408e11d77bf04a7856371c50cd090bc
      "text/plain": [
       "<Figure size 640x480 with 1 Axes>"
      ]
     },
     "metadata": {},
     "output_type": "display_data"
    }
   ],
   "source": [
    "plt.scatter(y_test, predictions, c='b', marker='o', label='Predictions')\n",
    "\n",
    "# Add labels and a 1:1 line for reference\n",
    "plt.xlabel('Actual')\n",
    "plt.ylabel('metallicity outliers: Predictions')\n",
    "plt.plot(color='red', linestyle='--', label='1:1 Line')\n",
    "\n",
    "# Add a legend\n",
    "plt.legend()\n",
    "\n",
    "# Show the plot\n",
    "plt.title(\"Scatter Plot of Actual vs. Predictions\")\n",
    "plt.grid(True)\n",
    "plt.show()"
   ]
  },
  {
   "cell_type": "code",
   "execution_count": 188,
   "metadata": {},
<<<<<<< HEAD
=======
   "outputs": [
    {
     "name": "stdout",
     "output_type": "stream",
     "text": [
      "Input: [ 2.46732000e+00  1.14901000e+00  1.00140941e+04 -1.00132649e+04\n",
      " -2.50000000e-01]\n",
      "Expected Output: 4318\n",
      "Actual Output: [-1.241194]\n",
      "\n",
      "Input: [ 1.36397000e+00  3.57730000e-01  1.00132056e+04 -1.00133055e+04\n",
      " -1.00000000e+00]\n",
      "Expected Output: 6000\n",
      "Actual Output: [-30.391584]\n",
      "\n"
     ]
    }
   ],
   "source": [
    "#for predicted y values of less than 100, find the associated input values\n",
    "for i in range(len(predictions)):\n",
    "    if predictions[i] < 100:\n",
    "        print(\"Input:\", X_test[i])\n",
    "        print(\"Expected Output:\", y_test[i])\n",
    "        print(\"Actual Output:\", predictions[i])  # predictions[i] is a 2D array, so we access the value with [0]\n",
    "        print()\n"
   ]
  },
  {
   "cell_type": "code",
   "execution_count": null,
   "metadata": {},
>>>>>>> 618092b7e408e11d77bf04a7856371c50cd090bc
   "outputs": [],
   "source": []
  }
 ],
 "metadata": {
  "kernelspec": {
   "display_name": "Python 3 (ipykernel)",
   "language": "python",
   "name": "python3"
  },
  "language_info": {
   "codemirror_mode": {
    "name": "ipython",
    "version": 3
   },
   "file_extension": ".py",
   "mimetype": "text/x-python",
   "name": "python",
   "nbconvert_exporter": "python",
   "pygments_lexer": "ipython3",
   "version": "3.11.6"
  }
 },
 "nbformat": 4,
 "nbformat_minor": 2
}
