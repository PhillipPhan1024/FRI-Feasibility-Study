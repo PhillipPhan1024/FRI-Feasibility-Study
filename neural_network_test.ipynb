{
 "cells": [
  {
   "cell_type": "code",
   "execution_count": 1,
   "metadata": {},
   "outputs": [],
   "source": [
    "# created by zayaan. going to test using a basic neural network for the stuff\n",
    "from sklearn.model_selection import train_test_split\n",
    "import matplotlib.pyplot as plt\n",
    "import pandas as pd\n",
    "import numpy as np\n",
    "from sklearn.linear_model import LinearRegression\n",
    "from sklearn.metrics import r2_score, mean_squared_error\n",
    "#we want to create a neural network, so we need to import the keras library\n",
    "from keras.models import Sequential\n",
    "import tensorflow as tf\n",
    "from sklearn.ensemble import IsolationForest"
   ]
  },
  {
   "cell_type": "code",
   "execution_count": 21,
   "metadata": {},
   "outputs": [
    {
     "name": "stdout",
     "output_type": "stream",
     "text": [
      "(500000, 7)\n"
     ]
    }
   ],
   "source": [
    "csv_file = \"500k.csv\" \n",
    "df = pd.read_csv(csv_file, sep=\",\")\n",
    "# individual photometry filters\n",
    "u = df['u']\n",
    "g = df['g']\n",
    "r = df['r']\n",
    "i = df['i']\n",
    "z = df['z']\n",
    "\n",
    "# color indices\n",
    "u_g = u - g\n",
    "g_r = g - r\n",
    "r_i = r - i\n",
    "i_z = i - z\n",
    "\n",
    "# u_g = u_g[:-19500]\n",
    "# g_r = g_r[:-19500]\n",
    "# r_i = r_i[:-19500]\n",
    "# i_z = i_z[:-19500]\n",
    "\n",
    "# Effective temperature of star\n",
    "temperature = df['Teff']\n",
    "\n",
    "metallicity = df['FeH']\n",
    "\n",
    "color_filters_df = pd.DataFrame()\n",
    "color_filters_df['u_g'] = u_g\n",
    "color_filters_df['g_r'] = g_r\n",
    "color_filters_df['r_i'] = r_i\n",
    "color_filters_df['i_z'] = i_z\n",
    "\n",
    "# Effective temperature of star\n",
    "color_filters_df['temperature'] = df['Teff']\n",
    "color_filters_df['metallicity'] = df['FeH']\n",
    "print(df.shape)"
   ]
  },
  {
   "cell_type": "code",
   "execution_count": 115,
   "metadata": {},
   "outputs": [],
   "source": [
    "#iterate thru temperature,\n",
    "#if its 4353, print out the corresponding color filters\n",
    "# for i in range(len(temperature)):\n",
    "#     if color_filters_df.iloc[i]['u_g'] > 10:\n",
    "#         #print temperature\n",
    "#         print(\"Temp: \", color_filters_df.iloc[i][''])\n",
    "#         print(\"u_g: \", color_filters_df.iloc[i]['u_g'])\n"
   ]
  },
  {
   "cell_type": "code",
   "execution_count": 99,
   "metadata": {},
   "outputs": [
    {
     "name": "stdout",
     "output_type": "stream",
     "text": [
      "            u_g      g_r      r_i      i_z  temperature  metallicity\n",
      "274199  0.74974  0.27792  0.11534  0.01098         8388         0.78\n",
      "266948  1.26185  0.18076 -0.00239 -0.08943         8388         0.78\n",
      "13473   1.29980  0.11159 -0.10133 -0.11050         8388         0.78\n",
      "265899  1.18326  0.07160 -0.09517 -0.08719         8388         0.78\n",
      "13789   1.29981  0.14667 -0.02716 -0.05719         8388         0.78\n",
      "...         ...      ...      ...      ...          ...          ...\n",
      "310647  0.65794  0.29682  0.13021  0.03009         3690         0.05\n",
      "25071   1.84317  1.69793  0.69444  0.43985         3690         0.05\n",
      "272035  1.23492  0.60226  0.50272  0.36063         3690         0.05\n",
      "194409  2.03738  1.21585  0.70653 -0.08243         3690         0.05\n",
      "13339   1.51349  0.53067  0.16795 -0.22044         3690         0.05\n",
      "\n",
      "[381336 rows x 6 columns]\n"
     ]
    }
   ],
   "source": [
    "# # remove outliers by removing all data points that are outside 25th percentile - 75th percentile range\n",
    "# dropped_rows = set()\n",
    "\n",
    "# # TEMPERATURE OUTLIERS    \n",
    "# Q1_temp = color_filters_df['temperature'].quantile(0.25)\n",
    "# Q3_temp = color_filters_df['temperature'].quantile(0.75)\n",
    "# IQR = Q3_temp - Q1_temp\n",
    "# lower = Q1_temp - 1.5*IQR\n",
    "# upper = Q3_temp + 1.5*IQR\n",
    "\n",
    "# upper_array = np.where(color_filters_df['temperature']>=upper)[0]\n",
    "# lower_array = np.where(color_filters_df['temperature']<=lower)[0]\n",
    "\n",
    "# for element in upper_array:\n",
    "#     dropped_rows.add(element)\n",
    "# for element in lower_array:\n",
    "#     dropped_rows.add(element)\n",
    "\n",
    "# # U_G OUTLIERS\n",
    "# Q1_temp = color_filters_df['u_g'].quantile(0.25)\n",
    "# Q3_temp = color_filters_df['u_g'].quantile(0.75)\n",
    "# IQR = Q3_temp - Q1_temp\n",
    "# lower = Q1_temp - 1.5*IQR\n",
    "# upper = Q3_temp + 1.5*IQR\n",
    "\n",
    "# upper_array = np.where(color_filters_df['u_g']>=upper)[0]\n",
    "# lower_array = np.where(color_filters_df['u_g']<=lower)[0]\n",
    "\n",
    "# for element in upper_array:\n",
    "#     dropped_rows.add(element)\n",
    "# for element in lower_array:\n",
    "#     dropped_rows.add(element)\n",
    "    \n",
    "# # G_R OUTLIERS\n",
    "# Q1_temp = color_filters_df['g_r'].quantile(0.25)\n",
    "# Q3_temp = color_filters_df['g_r'].quantile(0.75)\n",
    "# IQR = Q3_temp - Q1_temp\n",
    "# lower = Q1_temp - 1.5*IQR\n",
    "# upper = Q3_temp + 1.5*IQR\n",
    "\n",
    "# upper_array = np.where(color_filters_df['g_r']>=upper)[0]\n",
    "# lower_array = np.where(color_filters_df['g_r']<=lower)[0]\n",
    "\n",
    "# for element in upper_array:\n",
    "#     dropped_rows.add(element)\n",
    "# for element in lower_array:\n",
    "#     dropped_rows.add(element)\n",
    "    \n",
    "# # R_I OUTLIERS\n",
    "# Q1_temp = color_filters_df['r_i'].quantile(0.25)\n",
    "# Q3_temp = color_filters_df['r_i'].quantile(0.75)\n",
    "# IQR = Q3_temp - Q1_temp\n",
    "# lower = Q1_temp - 1.5*IQR\n",
    "# upper = Q3_temp + 1.5*IQR\n",
    "\n",
    "# upper_array = np.where(color_filters_df['r_i']>=upper)[0]\n",
    "# lower_array = np.where(color_filters_df['r_i']<=lower)[0]\n",
    "\n",
    "# for element in upper_array:\n",
    "#     dropped_rows.add(element)\n",
    "# for element in lower_array:\n",
    "#     dropped_rows.add(element) \n",
    "\n",
    "# # I_Z OUTLIERS\n",
    "# Q1_temp = color_filters_df['i_z'].quantile(0.25)\n",
    "# Q3_temp = color_filters_df['i_z'].quantile(0.75)\n",
    "# IQR = Q3_temp - Q1_temp\n",
    "# lower = Q1_temp - 1.5*IQR\n",
    "# upper = Q3_temp + 1.5*IQR\n",
    "\n",
    "# upper_array = np.where(color_filters_df['i_z']>=upper)[0]\n",
    "# lower_array = np.where(color_filters_df['i_z']<=lower)[0]\n",
    "\n",
    "# for element in upper_array:\n",
    "#     dropped_rows.add(element)\n",
    "# for element in lower_array:\n",
    "#     dropped_rows.add(element) \n",
    "\n",
    "# color_filters_df.drop(dropped_rows, inplace=True)\n",
    "# print(color_filters_df.sort_values(by=['temperature'], ascending=False))"
   ]
  },
  {
   "cell_type": "code",
   "execution_count": 22,
   "metadata": {},
   "outputs": [
    {
     "data": {
      "text/html": [
       "<style>#sk-container-id-3 {color: black;}#sk-container-id-3 pre{padding: 0;}#sk-container-id-3 div.sk-toggleable {background-color: white;}#sk-container-id-3 label.sk-toggleable__label {cursor: pointer;display: block;width: 100%;margin-bottom: 0;padding: 0.3em;box-sizing: border-box;text-align: center;}#sk-container-id-3 label.sk-toggleable__label-arrow:before {content: \"▸\";float: left;margin-right: 0.25em;color: #696969;}#sk-container-id-3 label.sk-toggleable__label-arrow:hover:before {color: black;}#sk-container-id-3 div.sk-estimator:hover label.sk-toggleable__label-arrow:before {color: black;}#sk-container-id-3 div.sk-toggleable__content {max-height: 0;max-width: 0;overflow: hidden;text-align: left;background-color: #f0f8ff;}#sk-container-id-3 div.sk-toggleable__content pre {margin: 0.2em;color: black;border-radius: 0.25em;background-color: #f0f8ff;}#sk-container-id-3 input.sk-toggleable__control:checked~div.sk-toggleable__content {max-height: 200px;max-width: 100%;overflow: auto;}#sk-container-id-3 input.sk-toggleable__control:checked~label.sk-toggleable__label-arrow:before {content: \"▾\";}#sk-container-id-3 div.sk-estimator input.sk-toggleable__control:checked~label.sk-toggleable__label {background-color: #d4ebff;}#sk-container-id-3 div.sk-label input.sk-toggleable__control:checked~label.sk-toggleable__label {background-color: #d4ebff;}#sk-container-id-3 input.sk-hidden--visually {border: 0;clip: rect(1px 1px 1px 1px);clip: rect(1px, 1px, 1px, 1px);height: 1px;margin: -1px;overflow: hidden;padding: 0;position: absolute;width: 1px;}#sk-container-id-3 div.sk-estimator {font-family: monospace;background-color: #f0f8ff;border: 1px dotted black;border-radius: 0.25em;box-sizing: border-box;margin-bottom: 0.5em;}#sk-container-id-3 div.sk-estimator:hover {background-color: #d4ebff;}#sk-container-id-3 div.sk-parallel-item::after {content: \"\";width: 100%;border-bottom: 1px solid gray;flex-grow: 1;}#sk-container-id-3 div.sk-label:hover label.sk-toggleable__label {background-color: #d4ebff;}#sk-container-id-3 div.sk-serial::before {content: \"\";position: absolute;border-left: 1px solid gray;box-sizing: border-box;top: 0;bottom: 0;left: 50%;z-index: 0;}#sk-container-id-3 div.sk-serial {display: flex;flex-direction: column;align-items: center;background-color: white;padding-right: 0.2em;padding-left: 0.2em;position: relative;}#sk-container-id-3 div.sk-item {position: relative;z-index: 1;}#sk-container-id-3 div.sk-parallel {display: flex;align-items: stretch;justify-content: center;background-color: white;position: relative;}#sk-container-id-3 div.sk-item::before, #sk-container-id-3 div.sk-parallel-item::before {content: \"\";position: absolute;border-left: 1px solid gray;box-sizing: border-box;top: 0;bottom: 0;left: 50%;z-index: -1;}#sk-container-id-3 div.sk-parallel-item {display: flex;flex-direction: column;z-index: 1;position: relative;background-color: white;}#sk-container-id-3 div.sk-parallel-item:first-child::after {align-self: flex-end;width: 50%;}#sk-container-id-3 div.sk-parallel-item:last-child::after {align-self: flex-start;width: 50%;}#sk-container-id-3 div.sk-parallel-item:only-child::after {width: 0;}#sk-container-id-3 div.sk-dashed-wrapped {border: 1px dashed gray;margin: 0 0.4em 0.5em 0.4em;box-sizing: border-box;padding-bottom: 0.4em;background-color: white;}#sk-container-id-3 div.sk-label label {font-family: monospace;font-weight: bold;display: inline-block;line-height: 1.2em;}#sk-container-id-3 div.sk-label-container {text-align: center;}#sk-container-id-3 div.sk-container {/* jupyter's `normalize.less` sets `[hidden] { display: none; }` but bootstrap.min.css set `[hidden] { display: none !important; }` so we also need the `!important` here to be able to override the default hidden behavior on the sphinx rendered scikit-learn.org. See: https://github.com/scikit-learn/scikit-learn/issues/21755 */display: inline-block !important;position: relative;}#sk-container-id-3 div.sk-text-repr-fallback {display: none;}</style><div id=\"sk-container-id-3\" class=\"sk-top-container\"><div class=\"sk-text-repr-fallback\"><pre>IsolationForest(contamination=0.1, n_estimators=150)</pre><b>In a Jupyter environment, please rerun this cell to show the HTML representation or trust the notebook. <br />On GitHub, the HTML representation is unable to render, please try loading this page with nbviewer.org.</b></div><div class=\"sk-container\" hidden><div class=\"sk-item\"><div class=\"sk-estimator sk-toggleable\"><input class=\"sk-toggleable__control sk-hidden--visually\" id=\"sk-estimator-id-3\" type=\"checkbox\" checked><label for=\"sk-estimator-id-3\" class=\"sk-toggleable__label sk-toggleable__label-arrow\">IsolationForest</label><div class=\"sk-toggleable__content\"><pre>IsolationForest(contamination=0.1, n_estimators=150)</pre></div></div></div></div></div>"
      ],
      "text/plain": [
       "IsolationForest(contamination=0.1, n_estimators=150)"
      ]
     },
     "execution_count": 22,
     "metadata": {},
     "output_type": "execute_result"
    }
   ],
   "source": [
    "# Model Training for Isolation Trees \n",
    "isoforest = IsolationForest(n_estimators=150, max_samples='auto',contamination=float(0.1), max_features=1.0)\n",
    "isoforest.fit(color_filters_df[[\"temperature\"]])"
   ]
  },
  {
   "cell_type": "code",
   "execution_count": 23,
   "metadata": {},
   "outputs": [],
   "source": [
    "# Prediction\n",
    "color_filters_df['anomalies_scores'] = isoforest.decision_function(color_filters_df[[\"temperature\"]])\n",
    "color_filters_df['anomaly'] = isoforest.predict(color_filters_df[[\"temperature\"]])\n",
    "color_filters_df = color_filters_df[color_filters_df['anomaly'] == 1]\n",
    "\n",
    "#now do it u_g, g_r, r_i, i_z, metallicity\n",
    "#isoforest = IsolationForest(n_estimators=150, max_samples='auto',contamination=float(0.1), max_features=1.0)\n",
    "isoforest.fit(color_filters_df[[\"u_g\"]])\n",
    "# Prediction\n",
    "color_filters_df['anomalies_scores'] = isoforest.decision_function(color_filters_df[[\"u_g\"]])\n",
    "color_filters_df['anomaly'] = isoforest.predict(color_filters_df[[\"u_g\"]])\n",
    "color_filters_df = color_filters_df[color_filters_df['anomaly'] == 1]\n",
    "# #now do for rest of inputs\n",
    "# # isoforest = IsolationForest(n_estimators=150, max_samples='auto',contamination=float(0.1), max_features=1.0)\n",
    "# isoforest.fit(color_filters_df[[\"g_r\"]])\n",
    "# # Prediction\n",
    "# color_filters_df['anomalies_scores'] = isoforest.decision_function(color_filters_df[[\"g_r\"]])\n",
    "\n",
    "# color_filters_df['anomaly'] = isoforest.predict(color_filters_df[[\"g_r\"]])\n",
    "# color_filters_df = color_filters_df[color_filters_df['anomaly'] == 1]\n",
    "# #now do for rest of inputs\n",
    "# # isoforest = IsolationForest(n_estimators=150, max_samples='auto',contamination=float(0.1), max_features=1.0)\n",
    "# isoforest.fit(color_filters_df[[\"r_i\"]])\n",
    "# # Prediction\n",
    "# color_filters_df['anomalies_scores'] = isoforest.decision_function(color_filters_df[[\"r_i\"]])\n",
    "# color_filters_df['anomaly'] = isoforest.predict(color_filters_df[[\"r_i\"]])\n",
    "# color_filters_df = color_filters_df[color_filters_df['anomaly'] == 1]\n",
    "# #now do for rest of inputs\n",
    "# # isoforest = IsolationForest(n_estimators=150, max_samples='auto',contamination=float(0.1), max_features=1.0)\n",
    "# isoforest.fit(color_filters_df[[\"i_z\"]])\n",
    "# # Prediction\n",
    "# color_filters_df['anomalies_scores'] = isoforest.decision_function(color_filters_df[[\"i_z\"]])\n",
    "# color_filters_df['anomaly'] = isoforest.predict(color_filters_df[[\"i_z\"]])\n",
    "# color_filters_df = color_filters_df[color_filters_df['anomaly'] == 1]\n",
    "# #now do for rest of inputs\n",
    "# # isoforest = IsolationForest(n_estimators=150, max_samples='auto',contamination=float(0.1), max_features=1.0)\n",
    "# isoforest.fit(color_filters_df[[\"metallicity\"]])\n",
    "# # Prediction\n",
    "# color_filters_df['anomalies_scores'] = isoforest.decision_function(color_filters_df[[\"metallicity\"]])\n",
    "# color_filters_df['anomaly'] = isoforest.predict(color_filters_df[[\"metallicity\"]])\n",
    "# color_filters_df = color_filters_df[color_filters_df['anomaly'] == 1]\n",
    "\n",
    "\n",
    "\n",
    "#now do it \n",
    "\n",
    "# color_filters_df.head(100)\n",
    "# list(color_filters_df['anomaly']).count(-1)\n",
    "# print(color_filters_df.shape)\n",
    "# color_filters_df = color_filters_df[color_filters_df['anomaly'] == 1]\n",
    "# print(color_filters_df.shape)"
   ]
  },
  {
   "cell_type": "code",
   "execution_count": 24,
   "metadata": {},
   "outputs": [
    {
     "name": "stdout",
     "output_type": "stream",
     "text": [
      "(407157, 8)\n"
     ]
    }
   ],
   "source": [
    "print(color_filters_df.shape)"
   ]
  },
  {
   "cell_type": "code",
   "execution_count": 25,
   "metadata": {},
   "outputs": [],
   "source": [
    "#the input of the model is the color indices, and the output is the temperature.\n",
    "#lets perform this with a neural network\n",
    "#we need to split the data into training and testing data\n",
    "#we will use 80% of the data for training and 20% for testing\n",
    "#we will also shuffle the data to avoid any bias\n",
    "\n",
    "X = color_filters_df[['u_g', 'g_r', 'r_i', 'i_z', 'metallicity']].values\n",
    "# X = color_filters_df[['g_r', 'r_i']].values\n",
    "y = color_filters_df['temperature'].values\n",
    "\n",
    "\n",
    "X_train, X_test, y_train, y_test = train_test_split(X, y, test_size=0.2, random_state=42, shuffle=True)\n"
   ]
  },
  {
   "cell_type": "code",
   "execution_count": 28,
   "metadata": {},
   "outputs": [
    {
     "name": "stdout",
     "output_type": "stream",
     "text": [
      "(407157,)\n"
     ]
    }
   ],
   "source": [
    "#plot the each X vs y\n",
    "# plt.figure(figsize=(15, 5))\n",
    "# plt.subplot(1, 4, 1)\n",
    "# plt.scatter(X_train[:, 0], y_train, s=1, label='train')\n",
    "# plt.scatter(X_test[:, 0], y_test, s=1, label='test')\n",
    "# plt.xlabel('u_g')\n",
    "# plt.ylabel('temperature')\n",
    "# plt.legend()\n",
    "print(y.shape)"
   ]
  },
  {
   "cell_type": "code",
   "execution_count": 29,
   "metadata": {},
   "outputs": [],
   "source": [
    "model = tf.keras.Sequential([\n",
    "    tf.keras.layers.Dense(64, activation='relu', input_shape=(5,)), #change input shape based on how many u using\n",
    "    tf.keras.layers.Dense(64, activation='relu'),\n",
    "    tf.keras.layers.Dense(32, activation='relu'),\n",
    "    tf.keras.layers.Dense(32, activation='relu'),\n",
    "    tf.keras.layers.Dense(1)  #1 neuron output\n",
    "])\n",
    "\n",
    "model.compile(optimizer='adam', loss='mean_squared_error', metrics=['mae'])"
   ]
  },
  {
   "cell_type": "code",
   "execution_count": 30,
   "metadata": {},
   "outputs": [
    {
     "name": "stdout",
     "output_type": "stream",
     "text": [
      "Epoch 1/20\n",
      "8144/8144 [==============================] - 22s 2ms/step - loss: 38151100.0000 - mae: 441.0109 - val_loss: 179681408.0000 - val_mae: 306.1219\n",
      "Epoch 2/20\n",
      "8144/8144 [==============================] - 23s 3ms/step - loss: 7223507.5000 - mae: 260.2153 - val_loss: 208308176.0000 - val_mae: 295.6637\n",
      "Epoch 3/20\n",
      "8144/8144 [==============================] - 21s 3ms/step - loss: 1208815.8750 - mae: 253.8669 - val_loss: 200602512.0000 - val_mae: 303.4589\n",
      "Epoch 4/20\n",
      "8144/8144 [==============================] - 21s 3ms/step - loss: 364965.7188 - mae: 249.7836 - val_loss: 207067184.0000 - val_mae: 290.5034\n",
      "Epoch 5/20\n",
      "8144/8144 [==============================] - 21s 3ms/step - loss: 382731.2188 - mae: 248.9618 - val_loss: 218957584.0000 - val_mae: 300.5639\n",
      "Epoch 6/20\n",
      "8144/8144 [==============================] - 20s 2ms/step - loss: 387796.2500 - mae: 244.9609 - val_loss: 198810512.0000 - val_mae: 485.0753\n",
      "Epoch 7/20\n",
      "8144/8144 [==============================] - 20s 2ms/step - loss: 412766.8750 - mae: 253.9896 - val_loss: 294725376.0000 - val_mae: 311.6619\n",
      "Epoch 8/20\n",
      "8144/8144 [==============================] - 20s 2ms/step - loss: 149202.4844 - mae: 240.3315 - val_loss: 203300336.0000 - val_mae: 290.5158\n",
      "Epoch 9/20\n",
      "8144/8144 [==============================] - 20s 2ms/step - loss: 638372.8125 - mae: 244.5883 - val_loss: 145052816.0000 - val_mae: 281.4886\n",
      "Epoch 10/20\n",
      "8144/8144 [==============================] - 20s 2ms/step - loss: 173553.7656 - mae: 235.4229 - val_loss: 119987144.0000 - val_mae: 276.0782\n",
      "Epoch 11/20\n",
      "8144/8144 [==============================] - 20s 2ms/step - loss: 142415.2656 - mae: 234.1468 - val_loss: 64512712.0000 - val_mae: 264.9479\n",
      "Epoch 12/20\n",
      "8144/8144 [==============================] - 20s 2ms/step - loss: 160123.0312 - mae: 232.5007 - val_loss: 35641872.0000 - val_mae: 262.1531\n",
      "Epoch 13/20\n",
      "8144/8144 [==============================] - 21s 3ms/step - loss: 137132.2344 - mae: 228.5306 - val_loss: 30240146.0000 - val_mae: 254.0876\n",
      "Epoch 14/20\n",
      "8144/8144 [==============================] - 20s 2ms/step - loss: 134731.2500 - mae: 226.9386 - val_loss: 35488672.0000 - val_mae: 254.0597\n",
      "Epoch 15/20\n",
      "8144/8144 [==============================] - 21s 3ms/step - loss: 143626.7500 - mae: 224.8501 - val_loss: 13150593.0000 - val_mae: 241.4623\n",
      "Epoch 16/20\n",
      "8144/8144 [==============================] - 21s 3ms/step - loss: 128840.6953 - mae: 221.8045 - val_loss: 56559628.0000 - val_mae: 248.5243\n",
      "Epoch 17/20\n",
      "8144/8144 [==============================] - 21s 3ms/step - loss: 126872.5625 - mae: 220.4944 - val_loss: 66605812.0000 - val_mae: 261.1377\n",
      "Epoch 18/20\n",
      "8144/8144 [==============================] - 22s 3ms/step - loss: 124883.2344 - mae: 218.7289 - val_loss: 36657776.0000 - val_mae: 238.3009\n",
      "Epoch 19/20\n",
      "8144/8144 [==============================] - 20s 2ms/step - loss: 123439.0000 - mae: 217.1929 - val_loss: 89392800.0000 - val_mae: 244.5352\n",
      "Epoch 20/20\n",
      "8144/8144 [==============================] - 20s 2ms/step - loss: 122253.8750 - mae: 216.0433 - val_loss: 92669968.0000 - val_mae: 252.0341\n"
     ]
    },
    {
     "data": {
      "text/plain": [
       "<keras.src.callbacks.History at 0x21fcbde67a0>"
      ]
     },
     "execution_count": 30,
     "metadata": {},
     "output_type": "execute_result"
    }
   ],
   "source": [
    "model.fit(X_train, y_train, epochs=20, batch_size=32, validation_split=0.2)"
   ]
  },
  {
   "cell_type": "code",
   "execution_count": 31,
   "metadata": {},
   "outputs": [
    {
     "name": "stdout",
     "output_type": "stream",
     "text": [
      "2545/2545 [==============================] - 4s 2ms/step - loss: 115955.3594 - mae: 211.1428\n",
      "[115955.359375, 211.142822265625]\n"
     ]
    }
   ],
   "source": [
    "#print accuracy of model\n",
    "print(model.evaluate(X_test, y_test))"
   ]
  },
  {
   "cell_type": "code",
   "execution_count": 32,
   "metadata": {},
   "outputs": [
    {
     "name": "stdout",
     "output_type": "stream",
     "text": [
      "2545/2545 [==============================] - 4s 2ms/step\n"
     ]
    }
   ],
   "source": [
    "predictions = model.predict(X_test)\n",
    "\n",
    "#assign max to a really low number\n",
    "max = -10000000\n",
    "#assign min to a really high number\n",
    "min = 10000000\n",
    "\n",
    "avg = 0\n",
    "\n",
    "for i in range(len(X_test)):\n",
    "    # print(\"Input:\", X_test[i])\n",
    "    #if actual output is greater than 250000, then pritn it\n",
    "    if y_test[i] == 4353 and predictions[i][0] > 250000:\n",
    "        print(\"Input:\", X_train[i])\n",
    "        print(\"Expected Output:\", y_test[i])\n",
    "        print(\"Actual Output:\", predictions[i][0])  # predictions[i] is a 2D array, so we access the value with [0]\n",
    "        print()\n",
    "    #update max and min accordingly, based on difference in expected and actual output\n",
    "    if abs(y_test[i] - predictions[i][0]) > max:\n",
    "        max = abs(y_test[i] - predictions[i][0])\n",
    "    if abs(y_test[i] - predictions[i][0]) < min:\n",
    "        min = abs(y_test[i] - predictions[i][0])\n",
    "    avg += abs(y_test[i] - predictions[i][0])\n",
    "avg = avg / len(X_test)\n",
    "# print(min, max, avg)"
   ]
  },
  {
   "cell_type": "code",
   "execution_count": 33,
   "metadata": {},
   "outputs": [
    {
     "name": "stdout",
     "output_type": "stream",
     "text": [
      "R2 Score: 0.8634902246498746\n"
     ]
    }
   ],
   "source": [
    "r2 = r2_score(y_test, predictions)\n",
    "print(\"R2 Score:\", r2)"
   ]
  },
  {
   "cell_type": "code",
   "execution_count": 34,
   "metadata": {},
   "outputs": [
    {
     "data": {
      "image/png": "[encoded data removed]",
      "text/plain": [
       "<Figure size 640x480 with 1 Axes>"
      ]
     },
     "metadata": {},
     "output_type": "display_data"
    }
   ],
   "source": [
    "plt.scatter(y_test, predictions, c='b', marker='o', label='Predictions')\n",
    "\n",
    "# Add labels and a 1:1 line for reference\n",
    "plt.xlabel('y_test')\n",
    "plt.ylabel('Predictions')\n",
    "plt.plot(color='red', linestyle='--', label='1:1 Line')\n",
    "\n",
    "# Add a legend\n",
    "plt.legend()\n",
    "\n",
    "# Show the plot\n",
    "plt.title(\"Scatter Plot of y_test vs. Predictions\")\n",
    "plt.grid(True)\n",
    "plt.show()"
   ]
  },
  {
   "cell_type": "code",
   "execution_count": null,
   "metadata": {},
   "outputs": [],
   "source": []
  },
  {
   "cell_type": "code",
   "execution_count": null,
   "metadata": {},
   "outputs": [],
   "source": []
  }
 ],
 "metadata": {
  "kernelspec": {
   "display_name": "Python 3 (ipykernel)",
   "language": "python",
   "name": "python3"
  },
  "language_info": {
   "codemirror_mode": {
    "name": "ipython",
    "version": 3
   },
   "file_extension": ".py",
   "mimetype": "text/x-python",
   "name": "python",
   "nbconvert_exporter": "python",
   "pygments_lexer": "ipython3",
   "version": "3.10.11"
  }
 },
 "nbformat": 4,
 "nbformat_minor": 2
}
