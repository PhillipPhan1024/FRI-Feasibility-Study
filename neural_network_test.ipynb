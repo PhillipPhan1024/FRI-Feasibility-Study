{
 "cells": [
  {
   "cell_type": "code",
   "execution_count": 17,
   "metadata": {},
   "outputs": [],
   "source": [
    "# created by zayaan. going to test using a basic neural network for the stuff\n",
    "from sklearn.model_selection import train_test_split\n",
    "import matplotlib.pyplot as plt\n",
    "import pandas as pd\n",
    "import numpy as np\n",
    "from sklearn.linear_model import LinearRegression\n",
    "from sklearn.metrics import r2_score, mean_squared_error\n",
    "#we want to create a neural network, so we need to import the keras library\n",
    "from keras.models import Sequential\n",
    "import tensorflow as tf\n",
    "from sklearn.ensemble import IsolationForest"
   ]
  },
  {
   "cell_type": "code",
   "execution_count": 18,
   "metadata": {},
   "outputs": [
    {
     "name": "stdout",
     "output_type": "stream",
     "text": [
      "(500000, 7)\n"
     ]
    }
   ],
   "source": [
    "csv_file = \"500k.csv\" \n",
    "df = pd.read_csv(csv_file, sep=\",\")\n",
    "# individual photometry filters\n",
    "u = df['u']\n",
    "g = df['g']\n",
    "r = df['r']\n",
    "i = df['i']\n",
    "z = df['z']\n",
    "\n",
    "# color indices\n",
    "u_g = u - g\n",
    "g_r = g - r\n",
    "r_i = r - i\n",
    "i_z = i - z\n",
    "\n",
    "# Effective temperature of star\n",
    "temperature = df['Teff']\n",
    "\n",
    "metallicity = df['FeH']\n",
    "\n",
    "color_filters_df = pd.DataFrame()\n",
    "color_filters_df['u_g'] = u_g\n",
    "color_filters_df['g_r'] = g_r\n",
    "color_filters_df['r_i'] = r_i\n",
    "color_filters_df['i_z'] = i_z\n",
    "\n",
    "# Effective temperature of star\n",
    "color_filters_df['temperature'] = df['Teff']\n",
    "color_filters_df['metallicity'] = df['FeH']\n",
    "print(df.shape)"
   ]
  },
  {
   "cell_type": "code",
   "execution_count": 19,
   "metadata": {},
   "outputs": [],
   "source": [
    "df = df[~(df == -9999).any(axis=1)]"
   ]
  },
  {
   "cell_type": "code",
   "execution_count": 20,
   "metadata": {},
   "outputs": [
    {
     "name": "stdout",
     "output_type": "stream",
     "text": [
      "(499984, 7)\n"
     ]
    }
   ],
   "source": [
    "print(df.shape)"
   ]
  },
  {
   "cell_type": "code",
   "execution_count": 7,
   "metadata": {},
   "outputs": [],
   "source": [
    "#iterate thru temperature,\n",
    "#if its 4353, print out the corresponding color filters\n",
    "# for i in range(len(temperature)):\n",
    "#     if color_filters_df.iloc[i]['u_g'] > 10:\n",
    "#         #print temperature\n",
    "#         print(\"Temp: \", color_filters_df.iloc[i][''])\n",
    "#         print(\"u_g: \", color_filters_df.iloc[i]['u_g'])\n"
   ]
  },
  {
   "cell_type": "code",
   "execution_count": 8,
   "metadata": {},
   "outputs": [],
   "source": [
    "# # remove outliers by removing all data points that are outside 25th percentile - 75th percentile range\n",
    "# dropped_rows = set()\n",
    "\n",
    "# # TEMPERATURE OUTLIERS    \n",
    "# Q1_temp = color_filters_df['temperature'].quantile(0.25)\n",
    "# Q3_temp = color_filters_df['temperature'].quantile(0.75)\n",
    "# IQR = Q3_temp - Q1_temp\n",
    "# lower = Q1_temp - 1.5*IQR\n",
    "# upper = Q3_temp + 1.5*IQR\n",
    "\n",
    "# upper_array = np.where(color_filters_df['temperature']>=upper)[0]\n",
    "# lower_array = np.where(color_filters_df['temperature']<=lower)[0]\n",
    "\n",
    "# for element in upper_array:\n",
    "#     dropped_rows.add(element)\n",
    "# for element in lower_array:\n",
    "#     dropped_rows.add(element)\n",
    "\n",
    "# # U_G OUTLIERS\n",
    "# Q1_temp = color_filters_df['u_g'].quantile(0.25)\n",
    "# Q3_temp = color_filters_df['u_g'].quantile(0.75)\n",
    "# IQR = Q3_temp - Q1_temp\n",
    "# lower = Q1_temp - 1.5*IQR\n",
    "# upper = Q3_temp + 1.5*IQR\n",
    "\n",
    "# upper_array = np.where(color_filters_df['u_g']>=upper)[0]\n",
    "# lower_array = np.where(color_filters_df['u_g']<=lower)[0]\n",
    "\n",
    "# for element in upper_array:\n",
    "#     dropped_rows.add(element)\n",
    "# for element in lower_array:\n",
    "#     dropped_rows.add(element)\n",
    "    \n",
    "# # G_R OUTLIERS\n",
    "# Q1_temp = color_filters_df['g_r'].quantile(0.25)\n",
    "# Q3_temp = color_filters_df['g_r'].quantile(0.75)\n",
    "# IQR = Q3_temp - Q1_temp\n",
    "# lower = Q1_temp - 1.5*IQR\n",
    "# upper = Q3_temp + 1.5*IQR\n",
    "\n",
    "# upper_array = np.where(color_filters_df['g_r']>=upper)[0]\n",
    "# lower_array = np.where(color_filters_df['g_r']<=lower)[0]\n",
    "\n",
    "# for element in upper_array:\n",
    "#     dropped_rows.add(element)\n",
    "# for element in lower_array:\n",
    "#     dropped_rows.add(element)\n",
    "    \n",
    "# # R_I OUTLIERS\n",
    "# Q1_temp = color_filters_df['r_i'].quantile(0.25)\n",
    "# Q3_temp = color_filters_df['r_i'].quantile(0.75)\n",
    "# IQR = Q3_temp - Q1_temp\n",
    "# lower = Q1_temp - 1.5*IQR\n",
    "# upper = Q3_temp + 1.5*IQR\n",
    "\n",
    "# upper_array = np.where(color_filters_df['r_i']>=upper)[0]\n",
    "# lower_array = np.where(color_filters_df['r_i']<=lower)[0]\n",
    "\n",
    "# for element in upper_array:\n",
    "#     dropped_rows.add(element)\n",
    "# for element in lower_array:\n",
    "#     dropped_rows.add(element) \n",
    "\n",
    "# # I_Z OUTLIERS\n",
    "# Q1_temp = color_filters_df['i_z'].quantile(0.25)\n",
    "# Q3_temp = color_filters_df['i_z'].quantile(0.75)\n",
    "# IQR = Q3_temp - Q1_temp\n",
    "# lower = Q1_temp - 1.5*IQR\n",
    "# upper = Q3_temp + 1.5*IQR\n",
    "\n",
    "# upper_array = np.where(color_filters_df['i_z']>=upper)[0]\n",
    "# lower_array = np.where(color_filters_df['i_z']<=lower)[0]\n",
    "\n",
    "# for element in upper_array:\n",
    "#     dropped_rows.add(element)\n",
    "# for element in lower_array:\n",
    "#     dropped_rows.add(element) \n",
    "\n",
    "# color_filters_df.drop(dropped_rows, inplace=True)\n",
    "# print(color_filters_df.sort_values(by=['temperature'], ascending=False))"
   ]
  },
  {
   "cell_type": "code",
   "execution_count": 21,
   "metadata": {},
   "outputs": [],
   "source": [
    "# Model Training for Isolation Trees \n",
    "# isoforest = IsolationForest(n_estimators=150,max_samples=\"auto\", contamination=float(0.1), max_features=1.0)\n",
    "# isoforest.fit(color_filters_df[[\"temperature\"]])\n",
    "\n",
    "# # Prediction\n",
    "# color_filters_df['anomalies_scores'] = isoforest.decision_function(color_filters_df[[\"temperature\"]])\n",
    "# color_filters_df['anomaly'] = isoforest.predict(color_filters_df[[\"temperature\"]])\n",
    "# color_filters_df = color_filters_df[color_filters_df['anomaly'] == 1]\n",
    "\n",
    "#now do it u_g, g_r, r_i, i_z, metallicity\n",
    "#isoforest = IsolationForest(n_estimators=150, max_samples='auto',contamination=float(0.1), max_features=1.0)\n",
    "isoforest = IsolationForest(n_estimators=150, max_samples='auto',contamination=float(0.1), max_features=1.0)\n",
    "isoforest.fit(color_filters_df[[\"u_g\"]])\n",
    "# Prediction\n",
    "color_filters_df['anomalies_scores'] = isoforest.decision_function(color_filters_df[[\"u_g\"]])\n",
    "color_filters_df['anomaly'] = isoforest.predict(color_filters_df[[\"u_g\"]])\n",
    "color_filters_df = color_filters_df[color_filters_df['anomaly'] == 1]\n",
    "\n",
    "isoforest = IsolationForest(n_estimators=150, max_samples='auto',contamination=float(0.1), max_features=1.0)\n",
    "isoforest.fit(color_filters_df[[\"metallicity\"]])\n",
    "# Prediction\n",
    "color_filters_df['anomalies_scores'] = isoforest.decision_function(color_filters_df[[\"metallicity\"]])\n",
    "color_filters_df['anomaly'] = isoforest.predict(color_filters_df[[\"metallicity\"]])\n",
    "color_filters_df = color_filters_df[color_filters_df['anomaly'] == 1]"
   ]
  },
  {
   "cell_type": "code",
   "execution_count": 22,
   "metadata": {},
   "outputs": [
    {
     "name": "stdout",
     "output_type": "stream",
     "text": [
      "(405275, 8)\n"
     ]
    }
   ],
   "source": [
    "print(color_filters_df.shape)"
   ]
  },
  {
   "cell_type": "code",
   "execution_count": 23,
   "metadata": {},
   "outputs": [],
   "source": [
    "#the input of the model is the color indices, and the output is the temperature.\n",
    "#lets perform this with a neural network\n",
    "#we need to split the data into training and testing data\n",
    "#we will use 80% of the data for training and 20% for testing\n",
    "#we will also shuffle the data to avoid any bias\n",
    "\n",
    "X = color_filters_df[['u_g', 'g_r', 'r_i', 'i_z','metallicity']].values\n",
    "# X = color_filters_df[['g_r', 'r_i']].values\n",
    "y = color_filters_df['temperature'].values\n",
    "\n",
    "\n",
    "X_train, X_test, y_train, y_test = train_test_split(X, y, test_size=0.2, random_state=42, shuffle=True)\n"
   ]
  },
  {
   "cell_type": "code",
   "execution_count": 24,
   "metadata": {},
   "outputs": [
    {
     "name": "stdout",
     "output_type": "stream",
     "text": [
      "(405275,)\n"
     ]
    }
   ],
   "source": [
    "#plot the each X vs y\n",
    "# plt.figure(figsize=(15, 5))\n",
    "# plt.subplot(1, 4, 1)\n",
    "# plt.scatter(X_train[:, 0], y_train, s=1, label='train')\n",
    "# plt.scatter(X_test[:, 0], y_test, s=1, label='test')\n",
    "# plt.xlabel('u_g')\n",
    "# plt.ylabel('temperature')\n",
    "# plt.legend()\n",
    "print(y.shape)"
   ]
  },
  {
   "cell_type": "code",
   "execution_count": 26,
   "metadata": {},
   "outputs": [],
   "source": [
    "model = tf.keras.Sequential([\n",
    "    tf.keras.layers.Dense(64, activation='relu', input_shape=(5,)), #change input shape based on how many u using\n",
    "    tf.keras.layers.Dense(64, activation='relu'),\n",
    "    tf.keras.layers.Dense(32, activation='relu'),\n",
    "    tf.keras.layers.Dense(32, activation='relu'),\n",
    "    tf.keras.layers.Dense(1)  #1 neuron output\n",
    "])\n",
    "\n",
    "model.compile(optimizer='adam', loss='mean_squared_error', metrics=['mae'])"
   ]
  },
  {
   "cell_type": "code",
   "execution_count": 27,
   "metadata": {},
   "outputs": [
    {
     "name": "stdout",
     "output_type": "stream",
     "text": [
      "Epoch 1/20\n",
      "8106/8106 [==============================] - 11s 1ms/step - loss: 23723346.0000 - mae: 536.9541 - val_loss: 481628.6562 - val_mae: 341.6020\n",
      "Epoch 2/20\n",
      "8106/8106 [==============================] - 11s 1ms/step - loss: 5051794.5000 - mae: 348.2169 - val_loss: 463826.7188 - val_mae: 354.5305\n",
      "Epoch 3/20\n",
      "8106/8106 [==============================] - 11s 1ms/step - loss: 792260.4375 - mae: 336.6135 - val_loss: 449134.6250 - val_mae: 335.5641\n",
      "Epoch 4/20\n",
      "8106/8106 [==============================] - 10s 1ms/step - loss: 426696.3750 - mae: 328.3057 - val_loss: 430131.8750 - val_mae: 322.2248\n",
      "Epoch 5/20\n",
      "8106/8106 [==============================] - 11s 1ms/step - loss: 2424390.5000 - mae: 329.4364 - val_loss: 420537.5312 - val_mae: 320.0683\n",
      "Epoch 6/20\n",
      "8106/8106 [==============================] - 11s 1ms/step - loss: 13638709.0000 - mae: 330.3340 - val_loss: 418605.0312 - val_mae: 323.1866\n",
      "Epoch 7/20\n",
      "8106/8106 [==============================] - 14s 2ms/step - loss: 554706.6250 - mae: 320.8507 - val_loss: 402139.6250 - val_mae: 327.2463\n",
      "Epoch 8/20\n",
      "8106/8106 [==============================] - 11s 1ms/step - loss: 406589.8125 - mae: 316.6042 - val_loss: 395998.2812 - val_mae: 310.1968\n",
      "Epoch 9/20\n",
      "8106/8106 [==============================] - 10s 1ms/step - loss: 476620.1875 - mae: 316.0229 - val_loss: 395128.8125 - val_mae: 338.8680\n",
      "Epoch 10/20\n",
      "8106/8106 [==============================] - 10s 1ms/step - loss: 374569.5625 - mae: 312.4882 - val_loss: 377655.0938 - val_mae: 308.9759\n",
      "Epoch 11/20\n",
      "8106/8106 [==============================] - 10s 1ms/step - loss: 1525463.5000 - mae: 314.9774 - val_loss: 362836.3438 - val_mae: 311.6824\n",
      "Epoch 12/20\n",
      "8106/8106 [==============================] - 10s 1ms/step - loss: 336042.2500 - mae: 302.1119 - val_loss: 311052.3125 - val_mae: 294.4548\n",
      "Epoch 13/20\n",
      "8106/8106 [==============================] - 10s 1ms/step - loss: 2843745.5000 - mae: 290.2724 - val_loss: 249015.4844 - val_mae: 279.8259\n",
      "Epoch 14/20\n",
      "8106/8106 [==============================] - 10s 1ms/step - loss: 10609216.0000 - mae: 275.9756 - val_loss: 261981.7656 - val_mae: 292.7913\n",
      "Epoch 15/20\n",
      "8106/8106 [==============================] - 10s 1ms/step - loss: 232211.3750 - mae: 264.7834 - val_loss: 230993.6250 - val_mae: 259.1161\n",
      "Epoch 16/20\n",
      "8106/8106 [==============================] - 10s 1ms/step - loss: 943595.1875 - mae: 267.6177 - val_loss: 229639.6406 - val_mae: 266.9510\n",
      "Epoch 17/20\n",
      "8106/8106 [==============================] - 10s 1ms/step - loss: 224434.1250 - mae: 260.3301 - val_loss: 251123.7969 - val_mae: 296.4615\n",
      "Epoch 18/20\n",
      "8106/8106 [==============================] - 10s 1ms/step - loss: 272366.6250 - mae: 258.0589 - val_loss: 219240.8281 - val_mae: 252.2211\n",
      "Epoch 19/20\n",
      "8106/8106 [==============================] - 10s 1ms/step - loss: 217288.2656 - mae: 255.3057 - val_loss: 216356.2344 - val_mae: 262.8113\n",
      "Epoch 20/20\n",
      "8106/8106 [==============================] - 9s 1ms/step - loss: 1935317.2500 - mae: 259.2592 - val_loss: 215326.2500 - val_mae: 257.5785\n"
     ]
    },
    {
     "data": {
      "text/plain": [
       "<keras.src.callbacks.History at 0x1f3c9aaf700>"
      ]
     },
     "execution_count": 27,
     "metadata": {},
     "output_type": "execute_result"
    }
   ],
   "source": [
    "model.fit(X_train, y_train, epochs=20, batch_size=32, validation_split=0.2)"
   ]
  },
  {
   "cell_type": "code",
   "execution_count": 28,
   "metadata": {},
   "outputs": [
    {
     "name": "stdout",
     "output_type": "stream",
     "text": [
      "2533/2533 [==============================] - 2s 766us/step - loss: 206252.5938 - mae: 256.9778\n",
      "[206252.59375, 256.977783203125]\n"
     ]
    }
   ],
   "source": [
    "#print accuracy of model\n",
    "print(model.evaluate(X_test, y_test))"
   ]
  },
  {
   "cell_type": "code",
   "execution_count": 29,
   "metadata": {},
   "outputs": [
    {
     "name": "stdout",
     "output_type": "stream",
     "text": [
      "2533/2533 [==============================] - 2s 704us/step\n"
     ]
    }
   ],
   "source": [
    "predictions = model.predict(X_test)\n",
    "\n",
    "#assign max to a really low number\n",
    "max = -10000000\n",
    "#assign min to a really high number\n",
    "min = 10000000\n",
    "\n",
    "avg = 0\n",
    "\n",
    "for i in range(len(X_test)):\n",
    "    # print(\"Input:\", X_test[i])\n",
    "    #if actual output is greater than 250000, then pritn it\n",
    "    if predictions[i][0] > 250000: # HAD y_test[i] == 4353\n",
    "        print(\"Input:\", X_train[i])\n",
    "        print(\"Expected Output:\", y_test[i])\n",
    "        print(\"Actual Output:\", predictions[i][0])  # predictions[i] is a 2D array, so we access the value with [0]\n",
    "        print()\n",
    "    #update max and min accordingly, based on difference in expected and actual output\n",
    "    if abs(y_test[i] - predictions[i][0]) > max:\n",
    "        max = abs(y_test[i] - predictions[i][0])\n",
    "    if abs(y_test[i] - predictions[i][0]) < min:\n",
    "        min = abs(y_test[i] - predictions[i][0])\n",
    "    avg += abs(y_test[i] - predictions[i][0])\n",
    "avg = avg / len(X_test)\n",
    "# print(min, max, avg)"
   ]
  },
  {
   "cell_type": "code",
   "execution_count": 30,
   "metadata": {},
   "outputs": [
    {
     "name": "stdout",
     "output_type": "stream",
     "text": [
      "R2 Score: 0.860469250773946\n"
     ]
    }
   ],
   "source": [
    "r2 = r2_score(y_test, predictions)\n",
    "print(\"R2 Score:\", r2)"
   ]
  },
  {
   "cell_type": "code",
   "execution_count": 31,
   "metadata": {
    "tags": [
     "parameters"
    ]
   },
   "outputs": [
    {
     "data": {
      "image/png": "[encoded data removed]",
      "text/plain": [
       "<Figure size 640x480 with 1 Axes>"
      ]
     },
     "metadata": {},
     "output_type": "display_data"
    }
   ],
   "source": [
    "plt.scatter(y_test, predictions, c='b', marker='o', label='Predictions')\n",
    "\n",
    "# Add labels and a 1:1 line for reference\n",
    "plt.xlabel('Actual')\n",
    "plt.ylabel('metallicity outliers: Predictions')\n",
    "plt.plot(color='red', linestyle='--', label='1:1 Line')\n",
    "\n",
    "# Add a legend\n",
    "plt.legend()\n",
    "\n",
    "# Show the plot\n",
    "plt.title(\"Scatter Plot of Actual vs. Predictions\")\n",
    "plt.grid(True)\n",
    "plt.show()"
   ]
  },
  {
   "cell_type": "code",
   "execution_count": 32,
   "metadata": {},
   "outputs": [],
   "source": [
    "#for predicted y values of less than 100, find the associated input values\n",
    "for i in range(len(predictions)):\n",
    "    if predictions[i] < 100:\n",
    "        print(\"Input:\", X_test[i])\n",
    "        print(\"Expected Output:\", y_test[i])\n",
    "        print(\"Actual Output:\", predictions[i])  # predictions[i] is a 2D array, so we access the value with [0]\n",
    "        print()"
   ]
  }
 ],
 "metadata": {
  "kernelspec": {
   "display_name": "Python 3 (ipykernel)",
   "language": "python",
   "name": "python3"
  },
  "language_info": {
   "codemirror_mode": {
    "name": "ipython",
    "version": 3
   },
   "file_extension": ".py",
   "mimetype": "text/x-python",
   "name": "python",
   "nbconvert_exporter": "python",
   "pygments_lexer": "ipython3",
   "version": "3.11.6"
  }
 },
 "nbformat": 4,
 "nbformat_minor": 2
}
