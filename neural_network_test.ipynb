{
 "cells": [
  {
   "cell_type": "code",
   "execution_count": 1,
   "metadata": {},
   "outputs": [],
   "source": [
    "# created by zayaan. going to test using a basic neural network for the stuff\n",
    "from sklearn.model_selection import train_test_split\n",
    "import matplotlib.pyplot as plt\n",
    "import pandas as pd\n",
    "import numpy as np\n",
    "from sklearn.linear_model import LinearRegression\n",
    "from sklearn.metrics import r2_score, mean_squared_error\n",
    "#we want to create a neural network, so we need to import the keras library\n",
    "from keras.models import Sequential\n",
    "import tensorflow as tf\n",
    "from sklearn.ensemble import IsolationForest"
   ]
  },
  {
   "cell_type": "code",
   "execution_count": 2,
   "metadata": {},
   "outputs": [
    {
     "name": "stdout",
     "output_type": "stream",
     "text": [
      "(500000, 7)\n"
     ]
    }
   ],
   "source": [
    "csv_file = \"500k.csv\" \n",
    "df = pd.read_csv(csv_file, sep=\",\")\n",
    "# individual photometry filters\n",
    "u = df['u']\n",
    "g = df['g']\n",
    "r = df['r']\n",
    "i = df['i']\n",
    "z = df['z']\n",
    "\n",
    "# color indices\n",
    "u_g = u - g\n",
    "g_r = g - r\n",
    "r_i = r - i\n",
    "i_z = i - z\n",
    "\n",
    "# u_g = u_g[:-19500]\n",
    "# g_r = g_r[:-19500]\n",
    "# r_i = r_i[:-19500]\n",
    "# i_z = i_z[:-19500]\n",
    "\n",
    "# Effective temperature of star\n",
    "temperature = df['Teff']\n",
    "\n",
    "metallicity = df['FeH']\n",
    "\n",
    "color_filters_df = pd.DataFrame()\n",
    "color_filters_df['u_g'] = u_g\n",
    "color_filters_df['g_r'] = g_r\n",
    "color_filters_df['r_i'] = r_i\n",
    "color_filters_df['i_z'] = i_z\n",
    "\n",
    "# Effective temperature of star\n",
    "color_filters_df['temperature'] = df['Teff']\n",
    "color_filters_df['metallicity'] = df['FeH']\n",
    "print(df.shape)"
   ]
  },
  {
   "cell_type": "code",
   "execution_count": 3,
   "metadata": {},
   "outputs": [],
   "source": [
    "df = df[~(df == -9999).any(axis=1)]"
   ]
  },
  {
   "cell_type": "code",
   "execution_count": 4,
   "metadata": {},
   "outputs": [
    {
     "name": "stdout",
     "output_type": "stream",
     "text": [
      "(499984, 7)\n"
     ]
    }
   ],
   "source": [
    "print(df.shape)"
   ]
  },
  {
   "cell_type": "code",
   "execution_count": 5,
   "metadata": {},
   "outputs": [],
   "source": [
    "#iterate thru temperature,\n",
    "#if its 4353, print out the corresponding color filters\n",
    "# for i in range(len(temperature)):\n",
    "#     if color_filters_df.iloc[i]['u_g'] > 10:\n",
    "#         #print temperature\n",
    "#         print(\"Temp: \", color_filters_df.iloc[i][''])\n",
    "#         print(\"u_g: \", color_filters_df.iloc[i]['u_g'])\n"
   ]
  },
  {
   "cell_type": "code",
   "execution_count": 6,
   "metadata": {},
   "outputs": [],
   "source": [
    "# # remove outliers by removing all data points that are outside 25th percentile - 75th percentile range\n",
    "# dropped_rows = set()\n",
    "\n",
    "# # TEMPERATURE OUTLIERS    \n",
    "# Q1_temp = color_filters_df['temperature'].quantile(0.25)\n",
    "# Q3_temp = color_filters_df['temperature'].quantile(0.75)\n",
    "# IQR = Q3_temp - Q1_temp\n",
    "# lower = Q1_temp - 1.5*IQR\n",
    "# upper = Q3_temp + 1.5*IQR\n",
    "\n",
    "# upper_array = np.where(color_filters_df['temperature']>=upper)[0]\n",
    "# lower_array = np.where(color_filters_df['temperature']<=lower)[0]\n",
    "\n",
    "# for element in upper_array:\n",
    "#     dropped_rows.add(element)\n",
    "# for element in lower_array:\n",
    "#     dropped_rows.add(element)\n",
    "\n",
    "# # U_G OUTLIERS\n",
    "# Q1_temp = color_filters_df['u_g'].quantile(0.25)\n",
    "# Q3_temp = color_filters_df['u_g'].quantile(0.75)\n",
    "# IQR = Q3_temp - Q1_temp\n",
    "# lower = Q1_temp - 1.5*IQR\n",
    "# upper = Q3_temp + 1.5*IQR\n",
    "\n",
    "# upper_array = np.where(color_filters_df['u_g']>=upper)[0]\n",
    "# lower_array = np.where(color_filters_df['u_g']<=lower)[0]\n",
    "\n",
    "# for element in upper_array:\n",
    "#     dropped_rows.add(element)\n",
    "# for element in lower_array:\n",
    "#     dropped_rows.add(element)\n",
    "    \n",
    "# # G_R OUTLIERS\n",
    "# Q1_temp = color_filters_df['g_r'].quantile(0.25)\n",
    "# Q3_temp = color_filters_df['g_r'].quantile(0.75)\n",
    "# IQR = Q3_temp - Q1_temp\n",
    "# lower = Q1_temp - 1.5*IQR\n",
    "# upper = Q3_temp + 1.5*IQR\n",
    "\n",
    "# upper_array = np.where(color_filters_df['g_r']>=upper)[0]\n",
    "# lower_array = np.where(color_filters_df['g_r']<=lower)[0]\n",
    "\n",
    "# for element in upper_array:\n",
    "#     dropped_rows.add(element)\n",
    "# for element in lower_array:\n",
    "#     dropped_rows.add(element)\n",
    "    \n",
    "# # R_I OUTLIERS\n",
    "# Q1_temp = color_filters_df['r_i'].quantile(0.25)\n",
    "# Q3_temp = color_filters_df['r_i'].quantile(0.75)\n",
    "# IQR = Q3_temp - Q1_temp\n",
    "# lower = Q1_temp - 1.5*IQR\n",
    "# upper = Q3_temp + 1.5*IQR\n",
    "\n",
    "# upper_array = np.where(color_filters_df['r_i']>=upper)[0]\n",
    "# lower_array = np.where(color_filters_df['r_i']<=lower)[0]\n",
    "\n",
    "# for element in upper_array:\n",
    "#     dropped_rows.add(element)\n",
    "# for element in lower_array:\n",
    "#     dropped_rows.add(element) \n",
    "\n",
    "# # I_Z OUTLIERS\n",
    "# Q1_temp = color_filters_df['i_z'].quantile(0.25)\n",
    "# Q3_temp = color_filters_df['i_z'].quantile(0.75)\n",
    "# IQR = Q3_temp - Q1_temp\n",
    "# lower = Q1_temp - 1.5*IQR\n",
    "# upper = Q3_temp + 1.5*IQR\n",
    "\n",
    "# upper_array = np.where(color_filters_df['i_z']>=upper)[0]\n",
    "# lower_array = np.where(color_filters_df['i_z']<=lower)[0]\n",
    "\n",
    "# for element in upper_array:\n",
    "#     dropped_rows.add(element)\n",
    "# for element in lower_array:\n",
    "#     dropped_rows.add(element) \n",
    "\n",
    "# color_filters_df.drop(dropped_rows, inplace=True)\n",
    "# print(color_filters_df.sort_values(by=['temperature'], ascending=False))"
   ]
  },
  {
   "cell_type": "code",
   "execution_count": 7,
   "metadata": {},
   "outputs": [
    {
     "data": {
      "text/html": [
       "<style>#sk-container-id-1 {color: black;}#sk-container-id-1 pre{padding: 0;}#sk-container-id-1 div.sk-toggleable {background-color: white;}#sk-container-id-1 label.sk-toggleable__label {cursor: pointer;display: block;width: 100%;margin-bottom: 0;padding: 0.3em;box-sizing: border-box;text-align: center;}#sk-container-id-1 label.sk-toggleable__label-arrow:before {content: \"▸\";float: left;margin-right: 0.25em;color: #696969;}#sk-container-id-1 label.sk-toggleable__label-arrow:hover:before {color: black;}#sk-container-id-1 div.sk-estimator:hover label.sk-toggleable__label-arrow:before {color: black;}#sk-container-id-1 div.sk-toggleable__content {max-height: 0;max-width: 0;overflow: hidden;text-align: left;background-color: #f0f8ff;}#sk-container-id-1 div.sk-toggleable__content pre {margin: 0.2em;color: black;border-radius: 0.25em;background-color: #f0f8ff;}#sk-container-id-1 input.sk-toggleable__control:checked~div.sk-toggleable__content {max-height: 200px;max-width: 100%;overflow: auto;}#sk-container-id-1 input.sk-toggleable__control:checked~label.sk-toggleable__label-arrow:before {content: \"▾\";}#sk-container-id-1 div.sk-estimator input.sk-toggleable__control:checked~label.sk-toggleable__label {background-color: #d4ebff;}#sk-container-id-1 div.sk-label input.sk-toggleable__control:checked~label.sk-toggleable__label {background-color: #d4ebff;}#sk-container-id-1 input.sk-hidden--visually {border: 0;clip: rect(1px 1px 1px 1px);clip: rect(1px, 1px, 1px, 1px);height: 1px;margin: -1px;overflow: hidden;padding: 0;position: absolute;width: 1px;}#sk-container-id-1 div.sk-estimator {font-family: monospace;background-color: #f0f8ff;border: 1px dotted black;border-radius: 0.25em;box-sizing: border-box;margin-bottom: 0.5em;}#sk-container-id-1 div.sk-estimator:hover {background-color: #d4ebff;}#sk-container-id-1 div.sk-parallel-item::after {content: \"\";width: 100%;border-bottom: 1px solid gray;flex-grow: 1;}#sk-container-id-1 div.sk-label:hover label.sk-toggleable__label {background-color: #d4ebff;}#sk-container-id-1 div.sk-serial::before {content: \"\";position: absolute;border-left: 1px solid gray;box-sizing: border-box;top: 0;bottom: 0;left: 50%;z-index: 0;}#sk-container-id-1 div.sk-serial {display: flex;flex-direction: column;align-items: center;background-color: white;padding-right: 0.2em;padding-left: 0.2em;position: relative;}#sk-container-id-1 div.sk-item {position: relative;z-index: 1;}#sk-container-id-1 div.sk-parallel {display: flex;align-items: stretch;justify-content: center;background-color: white;position: relative;}#sk-container-id-1 div.sk-item::before, #sk-container-id-1 div.sk-parallel-item::before {content: \"\";position: absolute;border-left: 1px solid gray;box-sizing: border-box;top: 0;bottom: 0;left: 50%;z-index: -1;}#sk-container-id-1 div.sk-parallel-item {display: flex;flex-direction: column;z-index: 1;position: relative;background-color: white;}#sk-container-id-1 div.sk-parallel-item:first-child::after {align-self: flex-end;width: 50%;}#sk-container-id-1 div.sk-parallel-item:last-child::after {align-self: flex-start;width: 50%;}#sk-container-id-1 div.sk-parallel-item:only-child::after {width: 0;}#sk-container-id-1 div.sk-dashed-wrapped {border: 1px dashed gray;margin: 0 0.4em 0.5em 0.4em;box-sizing: border-box;padding-bottom: 0.4em;background-color: white;}#sk-container-id-1 div.sk-label label {font-family: monospace;font-weight: bold;display: inline-block;line-height: 1.2em;}#sk-container-id-1 div.sk-label-container {text-align: center;}#sk-container-id-1 div.sk-container {/* jupyter's `normalize.less` sets `[hidden] { display: none; }` but bootstrap.min.css set `[hidden] { display: none !important; }` so we also need the `!important` here to be able to override the default hidden behavior on the sphinx rendered scikit-learn.org. See: https://github.com/scikit-learn/scikit-learn/issues/21755 */display: inline-block !important;position: relative;}#sk-container-id-1 div.sk-text-repr-fallback {display: none;}</style><div id=\"sk-container-id-1\" class=\"sk-top-container\"><div class=\"sk-text-repr-fallback\"><pre>IsolationForest(contamination=0.1, n_estimators=150)</pre><b>In a Jupyter environment, please rerun this cell to show the HTML representation or trust the notebook. <br />On GitHub, the HTML representation is unable to render, please try loading this page with nbviewer.org.</b></div><div class=\"sk-container\" hidden><div class=\"sk-item\"><div class=\"sk-estimator sk-toggleable\"><input class=\"sk-toggleable__control sk-hidden--visually\" id=\"sk-estimator-id-1\" type=\"checkbox\" checked><label for=\"sk-estimator-id-1\" class=\"sk-toggleable__label sk-toggleable__label-arrow\">IsolationForest</label><div class=\"sk-toggleable__content\"><pre>IsolationForest(contamination=0.1, n_estimators=150)</pre></div></div></div></div></div>"
      ],
      "text/plain": [
       "IsolationForest(contamination=0.1, n_estimators=150)"
      ]
     },
     "execution_count": 7,
     "metadata": {},
     "output_type": "execute_result"
    }
   ],
   "source": [
    "# Model Training for Isolation Trees \n",
    "isoforest = IsolationForest(n_estimators=150,max_samples=\"auto\", contamination=float(0.1), max_features=1.0)\n",
    "isoforest.fit(color_filters_df[[\"temperature\"]])"
   ]
  },
  {
   "cell_type": "code",
   "execution_count": 8,
   "metadata": {},
   "outputs": [],
   "source": [
    "# Prediction\n",
    "color_filters_df['anomalies_scores'] = isoforest.decision_function(color_filters_df[[\"temperature\"]])\n",
    "color_filters_df['anomaly'] = isoforest.predict(color_filters_df[[\"temperature\"]])\n",
    "color_filters_df = color_filters_df[color_filters_df['anomaly'] == 1]\n",
    "\n",
    "#now do it u_g, g_r, r_i, i_z, metallicity\n",
    "#isoforest = IsolationForest(n_estimators=150, max_samples='auto',contamination=float(0.1), max_features=1.0)\n",
    "isoforest.fit(color_filters_df[[\"metallicity\"]])\n",
    "# Prediction\n",
    "color_filters_df['anomalies_scores'] = isoforest.decision_function(color_filters_df[[\"metallicity\"]])\n",
    "color_filters_df['anomaly'] = isoforest.predict(color_filters_df[[\"metallicity\"]])\n",
    "color_filters_df = color_filters_df[color_filters_df['anomaly'] == 1]\n",
    "\n",
    "# #now do for rest of inputs\n",
    "# # isoforest = IsolationForest(n_estimators=150, max_samples='auto',contamination=float(0.1), max_features=1.0)\n",
    "# isoforest.fit(color_filters_df[[\"g_r\"]])\n",
    "# # Prediction\n",
    "# color_filters_df['anomalies_scores'] = isoforest.decision_function(color_filters_df[[\"g_r\"]])\n",
    "\n",
    "# color_filters_df['anomaly'] = isoforest.predict(color_filters_df[[\"g_r\"]])\n",
    "# color_filters_df = color_filters_df[color_filters_df['anomaly'] == 1]\n",
    "# #now do for rest of inputs\n",
    "# # isoforest = IsolationForest(n_estimators=150, max_samples='auto',contamination=float(0.1), max_features=1.0)\n",
    "# isoforest.fit(color_filters_df[[\"r_i\"]])\n",
    "# # Prediction\n",
    "# color_filters_df['anomalies_scores'] = isoforest.decision_function(color_filters_df[[\"r_i\"]])\n",
    "# color_filters_df['anomaly'] = isoforest.predict(color_filters_df[[\"r_i\"]])\n",
    "# color_filters_df = color_filters_df[color_filters_df['anomaly'] == 1]\n",
    "# #now do for rest of inputs\n",
    "# # isoforest = IsolationForest(n_estimators=150, max_samples='auto',contamination=float(0.1), max_features=1.0)\n",
    "# isoforest.fit(color_filters_df[[\"i_z\"]])\n",
    "# # Prediction\n",
    "# color_filters_df['anomalies_scores'] = isoforest.decision_function(color_filters_df[[\"i_z\"]])\n",
    "# color_filters_df['anomaly'] = isoforest.predict(color_filters_df[[\"i_z\"]])\n",
    "# color_filters_df = color_filters_df[color_filters_df['anomaly'] == 1]\n",
    "# #now do for rest of inputs\n",
    "# # isoforest = IsolationForest(n_estimators=150, max_samples='auto',contamination=float(0.1), max_features=1.0)\n",
    "# isoforest.fit(color_filters_df[[\"metallicity\"]])\n",
    "# # Prediction\n",
    "# color_filters_df['anomalies_scores'] = isoforest.decision_function(color_filters_df[[\"metallicity\"]])\n",
    "# color_filters_df['anomaly'] = isoforest.predict(color_filters_df[[\"metallicity\"]])\n",
    "# color_filters_df = color_filters_df[color_filters_df['anomaly'] == 1]\n",
    "\n",
    "\n",
    "\n",
    "#now do it \n",
    "\n",
    "# color_filters_df.head(100)\n",
    "# list(color_filters_df['anomaly']).count(-1)\n",
    "# print(color_filters_df.shape)\n",
    "# color_filters_df = color_filters_df[color_filters_df['anomaly'] == 1]\n",
    "# print(color_filters_df.shape)"
   ]
  },
  {
   "cell_type": "code",
   "execution_count": 9,
   "metadata": {},
   "outputs": [
    {
     "name": "stdout",
     "output_type": "stream",
     "text": [
      "(408884, 8)\n"
     ]
    }
   ],
   "source": [
    "print(color_filters_df.shape)"
   ]
  },
  {
   "cell_type": "code",
   "execution_count": 10,
   "metadata": {},
   "outputs": [],
   "source": [
    "#the input of the model is the color indices, and the output is the temperature.\n",
    "#lets perform this with a neural network\n",
    "#we need to split the data into training and testing data\n",
    "#we will use 80% of the data for training and 20% for testing\n",
    "#we will also shuffle the data to avoid any bias\n",
    "\n",
    "X = color_filters_df[['u_g', 'g_r', 'r_i', 'i_z','metallicity']].values\n",
    "# X = color_filters_df[['g_r', 'r_i']].values\n",
    "y = color_filters_df['temperature'].values\n",
    "\n",
    "\n",
    "X_train, X_test, y_train, y_test = train_test_split(X, y, test_size=0.2, random_state=42, shuffle=True)\n"
   ]
  },
  {
   "cell_type": "code",
   "execution_count": 11,
   "metadata": {},
   "outputs": [
    {
     "name": "stdout",
     "output_type": "stream",
     "text": [
      "(408884,)\n"
     ]
    }
   ],
   "source": [
    "#plot the each X vs y\n",
    "# plt.figure(figsize=(15, 5))\n",
    "# plt.subplot(1, 4, 1)\n",
    "# plt.scatter(X_train[:, 0], y_train, s=1, label='train')\n",
    "# plt.scatter(X_test[:, 0], y_test, s=1, label='test')\n",
    "# plt.xlabel('u_g')\n",
    "# plt.ylabel('temperature')\n",
    "# plt.legend()\n",
    "print(y.shape)"
   ]
  },
  {
   "cell_type": "code",
   "execution_count": 12,
   "metadata": {},
   "outputs": [],
   "source": [
    "model = tf.keras.Sequential([\n",
    "    tf.keras.layers.Dense(64, activation='relu', input_shape=(5,)), #change input shape based on how many u using\n",
    "    tf.keras.layers.Dense(64, activation='relu'),\n",
    "    tf.keras.layers.Dense(32, activation='relu'),\n",
    "    tf.keras.layers.Dense(32, activation='relu'),\n",
    "    tf.keras.layers.Dense(1)  #1 neuron output\n",
    "])\n",
    "\n",
    "model.compile(optimizer='adam', loss='mean_squared_error', metrics=['mae'])"
   ]
  },
  {
   "cell_type": "code",
   "execution_count": 13,
   "metadata": {},
   "outputs": [
    {
     "name": "stdout",
     "output_type": "stream",
     "text": [
      "Epoch 1/20\n",
      "8178/8178 [==============================] - 5s 574us/step - loss: 734245440.0000 - mae: 864.3982 - val_loss: 10407012.0000 - val_mae: 776.3455\n",
      "Epoch 2/20\n",
      "8178/8178 [==============================] - 5s 569us/step - loss: 47781956.0000 - mae: 883.8123 - val_loss: 4500347.5000 - val_mae: 734.1991\n",
      "Epoch 3/20\n",
      "8178/8178 [==============================] - 5s 563us/step - loss: 16848590.0000 - mae: 1072.7838 - val_loss: 2256974.2500 - val_mae: 794.2916\n",
      "Epoch 4/20\n",
      "8178/8178 [==============================] - 5s 567us/step - loss: 1738821.5000 - mae: 669.9418 - val_loss: 364439.0000 - val_mae: 465.0385\n",
      "Epoch 5/20\n",
      "8178/8178 [==============================] - 5s 568us/step - loss: 5773812.0000 - mae: 519.7891 - val_loss: 233838.1250 - val_mae: 298.7083\n",
      "Epoch 6/20\n",
      "8178/8178 [==============================] - 5s 576us/step - loss: 1250798.2500 - mae: 331.9369 - val_loss: 931939.1875 - val_mae: 874.5661\n",
      "Epoch 7/20\n",
      "8178/8178 [==============================] - 5s 551us/step - loss: 453357.4688 - mae: 316.2946 - val_loss: 217697.4219 - val_mae: 300.6141\n",
      "Epoch 8/20\n",
      "8178/8178 [==============================] - 5s 567us/step - loss: 223342.2188 - mae: 300.0305 - val_loss: 206027.0000 - val_mae: 292.4250\n",
      "Epoch 9/20\n",
      "8178/8178 [==============================] - 5s 555us/step - loss: 230582.6250 - mae: 296.0449 - val_loss: 199374.5000 - val_mae: 287.4193\n",
      "Epoch 10/20\n",
      "8178/8178 [==============================] - 5s 558us/step - loss: 209668.4062 - mae: 284.4663 - val_loss: 183668.5625 - val_mae: 269.1421\n",
      "Epoch 11/20\n",
      "8178/8178 [==============================] - 5s 557us/step - loss: 366143.1250 - mae: 275.6076 - val_loss: 177247.0156 - val_mae: 270.6665\n",
      "Epoch 12/20\n",
      "8178/8178 [==============================] - 5s 594us/step - loss: 194470.8125 - mae: 265.0369 - val_loss: 169709.4688 - val_mae: 258.4338\n",
      "Epoch 13/20\n",
      "8178/8178 [==============================] - 5s 571us/step - loss: 180142.2188 - mae: 254.1922 - val_loss: 183611.8750 - val_mae: 253.2900\n",
      "Epoch 14/20\n",
      "8178/8178 [==============================] - 5s 567us/step - loss: 251557.7188 - mae: 248.1636 - val_loss: 156910.2188 - val_mae: 227.3134\n",
      "Epoch 15/20\n",
      "8178/8178 [==============================] - 5s 565us/step - loss: 161870.0156 - mae: 244.0166 - val_loss: 152736.5312 - val_mae: 236.5029\n",
      "Epoch 16/20\n",
      "8178/8178 [==============================] - 5s 568us/step - loss: 249322.5625 - mae: 243.0934 - val_loss: 154496.2656 - val_mae: 236.1057\n",
      "Epoch 17/20\n",
      "8178/8178 [==============================] - 5s 568us/step - loss: 156409.8906 - mae: 240.6333 - val_loss: 152421.7500 - val_mae: 236.2497\n",
      "Epoch 18/20\n",
      "8178/8178 [==============================] - 5s 588us/step - loss: 154077.9531 - mae: 240.5065 - val_loss: 151257.5938 - val_mae: 244.4793\n",
      "Epoch 19/20\n",
      "8178/8178 [==============================] - 5s 586us/step - loss: 153146.2344 - mae: 238.9267 - val_loss: 372187.5938 - val_mae: 234.1851\n",
      "Epoch 20/20\n",
      "8178/8178 [==============================] - 5s 587us/step - loss: 365625.3438 - mae: 238.3288 - val_loss: 146122.9688 - val_mae: 230.0510\n"
     ]
    },
    {
     "data": {
      "text/plain": [
       "<keras.src.callbacks.History at 0x28f89ea50>"
      ]
     },
     "execution_count": 13,
     "metadata": {},
     "output_type": "execute_result"
    }
   ],
   "source": [
    "model.fit(X_train, y_train, epochs=20, batch_size=32, validation_split=0.2)"
   ]
  },
  {
   "cell_type": "code",
   "execution_count": 14,
   "metadata": {},
   "outputs": [
    {
     "name": "stdout",
     "output_type": "stream",
     "text": [
      "2556/2556 [==============================] - 1s 298us/step - loss: 144047.4219 - mae: 228.0791\n",
      "[144047.421875, 228.0791473388672]\n"
     ]
    }
   ],
   "source": [
    "#print accuracy of model\n",
    "print(model.evaluate(X_test, y_test))"
   ]
  },
  {
   "cell_type": "code",
   "execution_count": 15,
   "metadata": {},
   "outputs": [
    {
     "name": "stdout",
     "output_type": "stream",
     "text": [
      "2556/2556 [==============================] - 1s 251us/step\n"
     ]
    }
   ],
   "source": [
    "predictions = model.predict(X_test)\n",
    "\n",
    "#assign max to a really low number\n",
    "max = -10000000\n",
    "#assign min to a really high number\n",
    "min = 10000000\n",
    "\n",
    "avg = 0\n",
    "\n",
    "for i in range(len(X_test)):\n",
    "    # print(\"Input:\", X_test[i])\n",
    "    #if actual output is greater than 250000, then pritn it\n",
    "    if predictions[i][0] > 250000: # HAD y_test[i] == 4353\n",
    "        print(\"Input:\", X_train[i])\n",
    "        print(\"Expected Output:\", y_test[i])\n",
    "        print(\"Actual Output:\", predictions[i][0])  # predictions[i] is a 2D array, so we access the value with [0]\n",
    "        print()\n",
    "    #update max and min accordingly, based on difference in expected and actual output\n",
    "    if abs(y_test[i] - predictions[i][0]) > max:\n",
    "        max = abs(y_test[i] - predictions[i][0])\n",
    "    if abs(y_test[i] - predictions[i][0]) < min:\n",
    "        min = abs(y_test[i] - predictions[i][0])\n",
    "    avg += abs(y_test[i] - predictions[i][0])\n",
    "avg = avg / len(X_test)\n",
    "# print(min, max, avg)"
   ]
  },
  {
   "cell_type": "code",
   "execution_count": 16,
   "metadata": {},
   "outputs": [
    {
     "name": "stdout",
     "output_type": "stream",
     "text": [
      "R2 Score: 0.8323601326925038\n"
     ]
    }
   ],
   "source": [
    "r2 = r2_score(y_test, predictions)\n",
    "print(\"R2 Score:\", r2)"
   ]
  },
  {
   "cell_type": "code",
   "execution_count": 17,
   "metadata": {},
   "outputs": [
    {
     "data": {
      "image/png": "[encoded data removed]",
      "text/plain": [
       "<Figure size 640x480 with 1 Axes>"
      ]
     },
     "metadata": {},
     "output_type": "display_data"
    }
   ],
   "source": [
    "plt.scatter(y_test, predictions, c='b', marker='o', label='Predictions')\n",
    "\n",
    "# Add labels and a 1:1 line for reference\n",
    "plt.xlabel('Actual')\n",
    "plt.ylabel('metallicity outliers: Predictions')\n",
    "plt.plot(color='red', linestyle='--', label='1:1 Line')\n",
    "\n",
    "# Add a legend\n",
    "plt.legend()\n",
    "\n",
    "# Show the plot\n",
    "plt.title(\"Scatter Plot of Actual vs. Predictions\")\n",
    "plt.grid(True)\n",
    "plt.show()"
   ]
  },
  {
   "cell_type": "code",
   "execution_count": null,
   "metadata": {},
   "outputs": [],
   "source": []
  }
 ],
 "metadata": {
  "kernelspec": {
   "display_name": "Python 3 (ipykernel)",
   "language": "python",
   "name": "python3"
  },
  "language_info": {
   "codemirror_mode": {
    "name": "ipython",
    "version": 3
   },
   "file_extension": ".py",
   "mimetype": "text/x-python",
   "name": "python",
   "nbconvert_exporter": "python",
   "pygments_lexer": "ipython3",
   "version": "3.11.6"
  }
 },
 "nbformat": 4,
 "nbformat_minor": 2
}
