{
 "cells": [
  {
   "cell_type": "code",
   "execution_count": 3,
   "metadata": {},
   "outputs": [],
   "source": [
    "# created by zayaan. going to test using a basic neural network for the stuff\n",
    "from sklearn.model_selection import train_test_split\n",
    "import matplotlib.pyplot as plt\n",
    "import pandas as pd\n",
    "import numpy as np\n",
    "from sklearn.linear_model import LinearRegression\n",
    "from sklearn.metrics import r2_score, mean_squared_error\n",
    "#we want to create a neural network, so we need to import the keras library\n",
    "from keras.models import Sequential\n",
    "import tensorflow as tf\n",
    "from sklearn.ensemble import IsolationForest"
   ]
  },
  {
   "cell_type": "code",
   "execution_count": 4,
   "metadata": {},
   "outputs": [
    {
     "name": "stdout",
     "output_type": "stream",
     "text": [
      "(500000, 7)\n"
     ]
    }
   ],
   "source": [
    "csv_file = \"500k.csv\" \n",
    "df = pd.read_csv(csv_file, sep=\",\")\n",
    "# individual photometry filters\n",
    "u = df['u']\n",
    "g = df['g']\n",
    "r = df['r']\n",
    "i = df['i']\n",
    "z = df['z']\n",
    "\n",
    "# color indices\n",
    "u_g = u - g\n",
    "g_r = g - r\n",
    "r_i = r - i\n",
    "i_z = i - z\n",
    "\n",
    "# u_g = u_g[:-19500]\n",
    "# g_r = g_r[:-19500]\n",
    "# r_i = r_i[:-19500]\n",
    "# i_z = i_z[:-19500]\n",
    "\n",
    "# Effective temperature of star\n",
    "temperature = df['Teff']\n",
    "\n",
    "metallicity = df['FeH']\n",
    "\n",
    "color_filters_df = pd.DataFrame()\n",
    "color_filters_df['u_g'] = u_g\n",
    "color_filters_df['g_r'] = g_r\n",
    "color_filters_df['r_i'] = r_i\n",
    "color_filters_df['i_z'] = i_z\n",
    "\n",
    "# Effective temperature of star\n",
    "color_filters_df['temperature'] = df['Teff']\n",
    "color_filters_df['metallicity'] = df['FeH']\n",
    "print(df.shape)"
   ]
  },
  {
   "cell_type": "code",
   "execution_count": 5,
   "metadata": {},
   "outputs": [],
   "source": [
    "df = df[~(df == -9999).any(axis=1)]"
   ]
  },
  {
   "cell_type": "code",
   "execution_count": 6,
   "metadata": {},
   "outputs": [
    {
     "name": "stdout",
     "output_type": "stream",
     "text": [
      "(499984, 7)\n"
     ]
    }
   ],
   "source": [
    "print(df.shape)"
   ]
  },
  {
   "cell_type": "code",
   "execution_count": 7,
   "metadata": {},
   "outputs": [],
   "source": [
    "#iterate thru temperature,\n",
    "#if its 4353, print out the corresponding color filters\n",
    "# for i in range(len(temperature)):\n",
    "#     if color_filters_df.iloc[i]['u_g'] > 10:\n",
    "#         #print temperature\n",
    "#         print(\"Temp: \", color_filters_df.iloc[i][''])\n",
    "#         print(\"u_g: \", color_filters_df.iloc[i]['u_g'])\n"
   ]
  },
  {
   "cell_type": "code",
   "execution_count": 8,
   "metadata": {},
   "outputs": [],
   "source": [
    "# # remove outliers by removing all data points that are outside 25th percentile - 75th percentile range\n",
    "# dropped_rows = set()\n",
    "\n",
    "# # TEMPERATURE OUTLIERS    \n",
    "# Q1_temp = color_filters_df['temperature'].quantile(0.25)\n",
    "# Q3_temp = color_filters_df['temperature'].quantile(0.75)\n",
    "# IQR = Q3_temp - Q1_temp\n",
    "# lower = Q1_temp - 1.5*IQR\n",
    "# upper = Q3_temp + 1.5*IQR\n",
    "\n",
    "# upper_array = np.where(color_filters_df['temperature']>=upper)[0]\n",
    "# lower_array = np.where(color_filters_df['temperature']<=lower)[0]\n",
    "\n",
    "# for element in upper_array:\n",
    "#     dropped_rows.add(element)\n",
    "# for element in lower_array:\n",
    "#     dropped_rows.add(element)\n",
    "\n",
    "# # U_G OUTLIERS\n",
    "# Q1_temp = color_filters_df['u_g'].quantile(0.25)\n",
    "# Q3_temp = color_filters_df['u_g'].quantile(0.75)\n",
    "# IQR = Q3_temp - Q1_temp\n",
    "# lower = Q1_temp - 1.5*IQR\n",
    "# upper = Q3_temp + 1.5*IQR\n",
    "\n",
    "# upper_array = np.where(color_filters_df['u_g']>=upper)[0]\n",
    "# lower_array = np.where(color_filters_df['u_g']<=lower)[0]\n",
    "\n",
    "# for element in upper_array:\n",
    "#     dropped_rows.add(element)\n",
    "# for element in lower_array:\n",
    "#     dropped_rows.add(element)\n",
    "    \n",
    "# # G_R OUTLIERS\n",
    "# Q1_temp = color_filters_df['g_r'].quantile(0.25)\n",
    "# Q3_temp = color_filters_df['g_r'].quantile(0.75)\n",
    "# IQR = Q3_temp - Q1_temp\n",
    "# lower = Q1_temp - 1.5*IQR\n",
    "# upper = Q3_temp + 1.5*IQR\n",
    "\n",
    "# upper_array = np.where(color_filters_df['g_r']>=upper)[0]\n",
    "# lower_array = np.where(color_filters_df['g_r']<=lower)[0]\n",
    "\n",
    "# for element in upper_array:\n",
    "#     dropped_rows.add(element)\n",
    "# for element in lower_array:\n",
    "#     dropped_rows.add(element)\n",
    "    \n",
    "# # R_I OUTLIERS\n",
    "# Q1_temp = color_filters_df['r_i'].quantile(0.25)\n",
    "# Q3_temp = color_filters_df['r_i'].quantile(0.75)\n",
    "# IQR = Q3_temp - Q1_temp\n",
    "# lower = Q1_temp - 1.5*IQR\n",
    "# upper = Q3_temp + 1.5*IQR\n",
    "\n",
    "# upper_array = np.where(color_filters_df['r_i']>=upper)[0]\n",
    "# lower_array = np.where(color_filters_df['r_i']<=lower)[0]\n",
    "\n",
    "# for element in upper_array:\n",
    "#     dropped_rows.add(element)\n",
    "# for element in lower_array:\n",
    "#     dropped_rows.add(element) \n",
    "\n",
    "# # I_Z OUTLIERS\n",
    "# Q1_temp = color_filters_df['i_z'].quantile(0.25)\n",
    "# Q3_temp = color_filters_df['i_z'].quantile(0.75)\n",
    "# IQR = Q3_temp - Q1_temp\n",
    "# lower = Q1_temp - 1.5*IQR\n",
    "# upper = Q3_temp + 1.5*IQR\n",
    "\n",
    "# upper_array = np.where(color_filters_df['i_z']>=upper)[0]\n",
    "# lower_array = np.where(color_filters_df['i_z']<=lower)[0]\n",
    "\n",
    "# for element in upper_array:\n",
    "#     dropped_rows.add(element)\n",
    "# for element in lower_array:\n",
    "#     dropped_rows.add(element) \n",
    "\n",
    "# color_filters_df.drop(dropped_rows, inplace=True)\n",
    "# print(color_filters_df.sort_values(by=['temperature'], ascending=False))"
   ]
  },
  {
   "cell_type": "code",
   "execution_count": 9,
   "metadata": {},
   "outputs": [],
   "source": [
    "# Model Training for Isolation Trees \n",
    "# isoforest = IsolationForest(n_estimators=150,max_samples=\"auto\", contamination=float(0.1), max_features=1.0)\n",
    "# isoforest.fit(color_filters_df[[\"temperature\"]])\n",
    "\n",
    "# # Prediction\n",
    "# color_filters_df['anomalies_scores'] = isoforest.decision_function(color_filters_df[[\"temperature\"]])\n",
    "# color_filters_df['anomaly'] = isoforest.predict(color_filters_df[[\"temperature\"]])\n",
    "# color_filters_df = color_filters_df[color_filters_df['anomaly'] == 1]\n",
    "\n",
    "#now do it u_g, g_r, r_i, i_z, metallicity\n",
    "#isoforest = IsolationForest(n_estimators=150, max_samples='auto',contamination=float(0.1), max_features=1.0)\n",
    "isoforest = IsolationForest(n_estimators=150, max_samples='auto',contamination=float(0.1), max_features=1.0)\n",
    "isoforest.fit(color_filters_df[[\"metallicity\"]])\n",
    "# Prediction\n",
    "color_filters_df['anomalies_scores'] = isoforest.decision_function(color_filters_df[[\"metallicity\"]])\n",
    "color_filters_df['anomaly'] = isoforest.predict(color_filters_df[[\"metallicity\"]])\n",
    "color_filters_df = color_filters_df[color_filters_df['anomaly'] == 1]"
   ]
  },
  {
   "cell_type": "code",
   "execution_count": 10,
   "metadata": {},
   "outputs": [
    {
     "name": "stdout",
     "output_type": "stream",
     "text": [
      "(455537, 8)\n"
     ]
    }
   ],
   "source": [
    "print(color_filters_df.shape)"
   ]
  },
  {
   "cell_type": "code",
   "execution_count": 11,
   "metadata": {},
   "outputs": [],
   "source": [
    "#the input of the model is the color indices, and the output is the temperature.\n",
    "#lets perform this with a neural network\n",
    "#we need to split the data into training and testing data\n",
    "#we will use 80% of the data for training and 20% for testing\n",
    "#we will also shuffle the data to avoid any bias\n",
    "\n",
    "X = color_filters_df[['u_g', 'g_r', 'r_i', 'i_z','metallicity']].values\n",
    "# X = color_filters_df[['g_r', 'r_i']].values\n",
    "y = color_filters_df['temperature'].values\n",
    "\n",
    "\n",
    "X_train, X_test, y_train, y_test = train_test_split(X, y, test_size=0.2, random_state=42, shuffle=True)\n"
   ]
  },
  {
   "cell_type": "code",
   "execution_count": 12,
   "metadata": {},
   "outputs": [
    {
     "name": "stdout",
     "output_type": "stream",
     "text": [
      "(455537,)\n"
     ]
    }
   ],
   "source": [
    "#plot the each X vs y\n",
    "# plt.figure(figsize=(15, 5))\n",
    "# plt.subplot(1, 4, 1)\n",
    "# plt.scatter(X_train[:, 0], y_train, s=1, label='train')\n",
    "# plt.scatter(X_test[:, 0], y_test, s=1, label='test')\n",
    "# plt.xlabel('u_g')\n",
    "# plt.ylabel('temperature')\n",
    "# plt.legend()\n",
    "print(y.shape)"
   ]
  },
  {
   "cell_type": "code",
   "execution_count": 13,
   "metadata": {},
   "outputs": [],
   "source": [
    "model = tf.keras.Sequential([\n",
    "    tf.keras.layers.Dense(64, activation='relu', input_shape=(5,)), #change input shape based on how many u using\n",
    "    tf.keras.layers.Dense(64, activation='relu'),\n",
    "    tf.keras.layers.Dense(32, activation='relu'),\n",
    "    tf.keras.layers.Dense(32, activation='relu'),\n",
    "    tf.keras.layers.Dense(1)  #1 neuron output\n",
    "])\n",
    "\n",
    "model.compile(optimizer='adam', loss='mean_squared_error', metrics=['mae'])"
   ]
  },
  {
   "cell_type": "code",
   "execution_count": 14,
   "metadata": {},
   "outputs": [
    {
     "name": "stdout",
     "output_type": "stream",
     "text": [
      "Epoch 1/20\n",
      "9111/9111 [==============================] - 5s 537us/step - loss: 1686557952.0000 - mae: 899.5202 - val_loss: 17442112.0000 - val_mae: 650.6290\n",
      "Epoch 2/20\n",
      "9111/9111 [==============================] - 5s 541us/step - loss: 70294880.0000 - mae: 958.9343 - val_loss: 6637702.5000 - val_mae: 980.2139\n",
      "Epoch 3/20\n",
      "9111/9111 [==============================] - 5s 540us/step - loss: 2540350.7500 - mae: 677.1467 - val_loss: 817483.4375 - val_mae: 550.3912\n",
      "Epoch 4/20\n",
      "9111/9111 [==============================] - 5s 541us/step - loss: 931436.6875 - mae: 496.5805 - val_loss: 1152984.1250 - val_mae: 470.7048\n",
      "Epoch 5/20\n",
      "9111/9111 [==============================] - 5s 546us/step - loss: 2238874.0000 - mae: 443.8273 - val_loss: 595482.8750 - val_mae: 426.2126\n",
      "Epoch 6/20\n",
      "9111/9111 [==============================] - 5s 549us/step - loss: 619209.1250 - mae: 421.1806 - val_loss: 623217.2500 - val_mae: 394.6401\n",
      "Epoch 7/20\n",
      "9111/9111 [==============================] - 5s 555us/step - loss: 577286.7500 - mae: 414.0812 - val_loss: 543654.5000 - val_mae: 407.5783\n",
      "Epoch 8/20\n",
      "9111/9111 [==============================] - 5s 536us/step - loss: 1568581.8750 - mae: 418.8079 - val_loss: 533482.0625 - val_mae: 391.8952\n",
      "Epoch 9/20\n",
      "9111/9111 [==============================] - 5s 548us/step - loss: 600234.3125 - mae: 394.8704 - val_loss: 487254.3438 - val_mae: 381.1305\n",
      "Epoch 10/20\n",
      "9111/9111 [==============================] - 5s 556us/step - loss: 488303.0938 - mae: 381.5922 - val_loss: 521730.0625 - val_mae: 355.5755\n",
      "Epoch 11/20\n",
      "9111/9111 [==============================] - 5s 534us/step - loss: 567460.5000 - mae: 367.2209 - val_loss: 432966.6875 - val_mae: 342.0861\n",
      "Epoch 12/20\n",
      "9111/9111 [==============================] - 5s 536us/step - loss: 429787.1875 - mae: 353.5407 - val_loss: 414106.5938 - val_mae: 418.7395\n",
      "Epoch 13/20\n",
      "9111/9111 [==============================] - 5s 535us/step - loss: 468717.7188 - mae: 339.2131 - val_loss: 1045462.0000 - val_mae: 338.0568\n",
      "Epoch 14/20\n",
      "9111/9111 [==============================] - 5s 556us/step - loss: 357625.1562 - mae: 322.4296 - val_loss: 516213.9062 - val_mae: 527.0390\n",
      "Epoch 15/20\n",
      "9111/9111 [==============================] - 5s 560us/step - loss: 318257.0625 - mae: 317.7728 - val_loss: 308627.0000 - val_mae: 295.0024\n",
      "Epoch 16/20\n",
      "9111/9111 [==============================] - 5s 535us/step - loss: 309678.5938 - mae: 312.1629 - val_loss: 296525.5625 - val_mae: 293.7957\n",
      "Epoch 17/20\n",
      "9111/9111 [==============================] - 5s 537us/step - loss: 303332.1250 - mae: 305.6305 - val_loss: 307999.2812 - val_mae: 283.0931\n",
      "Epoch 18/20\n",
      "9111/9111 [==============================] - 5s 538us/step - loss: 1500184.0000 - mae: 305.0122 - val_loss: 11623550.0000 - val_mae: 311.7751\n",
      "Epoch 19/20\n",
      "9111/9111 [==============================] - 5s 535us/step - loss: 315786.1875 - mae: 298.2177 - val_loss: 423533.1250 - val_mae: 286.7316\n",
      "Epoch 20/20\n",
      "9111/9111 [==============================] - 5s 539us/step - loss: 293373.0000 - mae: 297.0018 - val_loss: 331749.1875 - val_mae: 348.0867\n"
     ]
    },
    {
     "data": {
      "text/plain": [
       "<keras.src.callbacks.History at 0x2936b7fd0>"
      ]
     },
     "execution_count": 14,
     "metadata": {},
     "output_type": "execute_result"
    }
   ],
   "source": [
    "model.fit(X_train, y_train, epochs=20, batch_size=32, validation_split=0.2)"
   ]
  },
  {
   "cell_type": "code",
   "execution_count": 15,
   "metadata": {},
   "outputs": [
    {
     "name": "stdout",
     "output_type": "stream",
     "text": [
      "2848/2848 [==============================] - 1s 267us/step - loss: 301800.1250 - mae: 347.3646\n",
      "[301800.125, 347.3646240234375]\n"
     ]
    }
   ],
   "source": [
    "#print accuracy of model\n",
    "print(model.evaluate(X_test, y_test))"
   ]
  },
  {
   "cell_type": "code",
   "execution_count": 16,
   "metadata": {},
   "outputs": [
    {
     "name": "stdout",
     "output_type": "stream",
     "text": [
      "2848/2848 [==============================] - 1s 236us/step\n"
     ]
    }
   ],
   "source": [
    "predictions = model.predict(X_test)\n",
    "\n",
    "#assign max to a really low number\n",
    "max = -10000000\n",
    "#assign min to a really high number\n",
    "min = 10000000\n",
    "\n",
    "avg = 0\n",
    "\n",
    "for i in range(len(X_test)):\n",
    "    # print(\"Input:\", X_test[i])\n",
    "    #if actual output is greater than 250000, then pritn it\n",
    "    if predictions[i][0] > 250000: # HAD y_test[i] == 4353\n",
    "        print(\"Input:\", X_train[i])\n",
    "        print(\"Expected Output:\", y_test[i])\n",
    "        print(\"Actual Output:\", predictions[i][0])  # predictions[i] is a 2D array, so we access the value with [0]\n",
    "        print()\n",
    "    #update max and min accordingly, based on difference in expected and actual output\n",
    "    if abs(y_test[i] - predictions[i][0]) > max:\n",
    "        max = abs(y_test[i] - predictions[i][0])\n",
    "    if abs(y_test[i] - predictions[i][0]) < min:\n",
    "        min = abs(y_test[i] - predictions[i][0])\n",
    "    avg += abs(y_test[i] - predictions[i][0])\n",
    "avg = avg / len(X_test)\n",
    "# print(min, max, avg)"
   ]
  },
  {
   "cell_type": "code",
   "execution_count": 17,
   "metadata": {},
   "outputs": [
    {
     "name": "stdout",
     "output_type": "stream",
     "text": [
      "R2 Score: 0.8134903328358352\n"
     ]
    }
   ],
   "source": [
    "r2 = r2_score(y_test, predictions)\n",
    "print(\"R2 Score:\", r2)"
   ]
  },
  {
   "cell_type": "code",
   "execution_count": 18,
   "metadata": {
    "tags": [
     "parameters"
    ]
   },
   "outputs": [
    {
     "data": {
      "image/png": "[encoded data removed]",
      "text/plain": [
       "<Figure size 640x480 with 1 Axes>"
      ]
     },
     "metadata": {},
     "output_type": "display_data"
    }
   ],
   "source": [
    "plt.scatter(y_test, predictions, c='b', marker='o', label='Predictions')\n",
    "\n",
    "# Add labels and a 1:1 line for reference\n",
    "plt.xlabel('Actual')\n",
    "plt.ylabel('metallicity outliers: Predictions')\n",
    "plt.plot(color='red', linestyle='--', label='1:1 Line')\n",
    "\n",
    "# Add a legend\n",
    "plt.legend()\n",
    "\n",
    "# Show the plot\n",
    "plt.title(\"Scatter Plot of Actual vs. Predictions\")\n",
    "plt.grid(True)\n",
    "plt.show()"
   ]
  },
  {
   "cell_type": "code",
   "execution_count": 19,
   "metadata": {},
   "outputs": [],
   "source": [
    "#for predicted y values of less than 100, find the associated input values\n",
    "for i in range(len(predictions)):\n",
    "    if predictions[i] < 100:\n",
    "        print(\"Input:\", X_test[i])\n",
    "        print(\"Expected Output:\", y_test[i])\n",
    "        print(\"Actual Output:\", predictions[i])  # predictions[i] is a 2D array, so we access the value with [0]\n",
    "        print()\n"
   ]
  },
  {
   "cell_type": "code",
   "execution_count": null,
   "metadata": {},
   "outputs": [],
   "source": []
  }
 ],
 "metadata": {
  "kernelspec": {
   "display_name": "Python 3 (ipykernel)",
   "language": "python",
   "name": "python3"
  },
  "language_info": {
   "codemirror_mode": {
    "name": "ipython",
    "version": 3
   },
   "file_extension": ".py",
   "mimetype": "text/x-python",
   "name": "python",
   "nbconvert_exporter": "python",
   "pygments_lexer": "ipython3",
   "version": "3.11.6"
  }
 },
 "nbformat": 4,
 "nbformat_minor": 2
}
